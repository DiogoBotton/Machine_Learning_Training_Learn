{
 "cells": [
  {
   "cell_type": "code",
   "execution_count": 1,
   "metadata": {},
   "outputs": [],
   "source": [
    "import pandas as pd\n",
    "import seaborn as sns\n",
    "import matplotlib.pyplot as plt\n",
    "import numpy as np\n",
    "\n",
    "from sklearn.preprocessing import MinMaxScaler\n",
    "from sklearn.model_selection import train_test_split, cross_val_score, KFold\n",
    "from sklearn.metrics import mean_squared_error, r2_score\n",
    "\n",
    "from sklearn.ensemble import RandomForestRegressor, BaggingRegressor, StackingRegressor, VotingRegressor\n",
    "from sklearn.linear_model import LinearRegression\n",
    "from sklearn.tree import DecisionTreeRegressor\n",
    "from sklearn.svm import SVR\n",
    "from sklearn.neighbors import KNeighborsRegressor\n",
    "from xgboost import XGBRegressor\n",
    "\n",
    "from sklearn.pipeline import Pipeline\n",
    "\n",
    "import keras"
   ]
  },
  {
   "cell_type": "code",
   "execution_count": 2,
   "metadata": {},
   "outputs": [
    {
     "data": {
      "text/html": [
       "<div>\n",
       "<style scoped>\n",
       "    .dataframe tbody tr th:only-of-type {\n",
       "        vertical-align: middle;\n",
       "    }\n",
       "\n",
       "    .dataframe tbody tr th {\n",
       "        vertical-align: top;\n",
       "    }\n",
       "\n",
       "    .dataframe thead th {\n",
       "        text-align: right;\n",
       "    }\n",
       "</style>\n",
       "<table border=\"1\" class=\"dataframe\">\n",
       "  <thead>\n",
       "    <tr style=\"text-align: right;\">\n",
       "      <th></th>\n",
       "      <th>Crop</th>\n",
       "      <th>Precipitation</th>\n",
       "      <th>SpecificHumidity_g_kg</th>\n",
       "      <th>RelativeHumidity_%</th>\n",
       "      <th>Temperature_C</th>\n",
       "      <th>Yield</th>\n",
       "    </tr>\n",
       "  </thead>\n",
       "  <tbody>\n",
       "    <tr>\n",
       "      <th>0</th>\n",
       "      <td>Cocoa, beans</td>\n",
       "      <td>2248.92</td>\n",
       "      <td>17.72</td>\n",
       "      <td>83.40</td>\n",
       "      <td>26.01</td>\n",
       "      <td>11560</td>\n",
       "    </tr>\n",
       "    <tr>\n",
       "      <th>1</th>\n",
       "      <td>Cocoa, beans</td>\n",
       "      <td>1938.42</td>\n",
       "      <td>17.54</td>\n",
       "      <td>82.11</td>\n",
       "      <td>26.11</td>\n",
       "      <td>11253</td>\n",
       "    </tr>\n",
       "    <tr>\n",
       "      <th>2</th>\n",
       "      <td>Cocoa, beans</td>\n",
       "      <td>2301.54</td>\n",
       "      <td>17.81</td>\n",
       "      <td>82.79</td>\n",
       "      <td>26.24</td>\n",
       "      <td>9456</td>\n",
       "    </tr>\n",
       "    <tr>\n",
       "      <th>3</th>\n",
       "      <td>Cocoa, beans</td>\n",
       "      <td>2592.35</td>\n",
       "      <td>17.61</td>\n",
       "      <td>85.07</td>\n",
       "      <td>25.56</td>\n",
       "      <td>9321</td>\n",
       "    </tr>\n",
       "    <tr>\n",
       "      <th>4</th>\n",
       "      <td>Cocoa, beans</td>\n",
       "      <td>2344.72</td>\n",
       "      <td>17.61</td>\n",
       "      <td>84.12</td>\n",
       "      <td>25.76</td>\n",
       "      <td>8800</td>\n",
       "    </tr>\n",
       "  </tbody>\n",
       "</table>\n",
       "</div>"
      ],
      "text/plain": [
       "           Crop  Precipitation  SpecificHumidity_g_kg  RelativeHumidity_%  \\\n",
       "0  Cocoa, beans        2248.92                  17.72               83.40   \n",
       "1  Cocoa, beans        1938.42                  17.54               82.11   \n",
       "2  Cocoa, beans        2301.54                  17.81               82.79   \n",
       "3  Cocoa, beans        2592.35                  17.61               85.07   \n",
       "4  Cocoa, beans        2344.72                  17.61               84.12   \n",
       "\n",
       "   Temperature_C  Yield  \n",
       "0          26.01  11560  \n",
       "1          26.11  11253  \n",
       "2          26.24   9456  \n",
       "3          25.56   9321  \n",
       "4          25.76   8800  "
      ]
     },
     "execution_count": 2,
     "metadata": {},
     "output_type": "execute_result"
    }
   ],
   "source": [
    "df = pd.read_csv('crop_yield.csv')\n",
    "df.head()"
   ]
  },
  {
   "cell_type": "markdown",
   "metadata": {},
   "source": [
    "### Pré-Processamento dos dados\n",
    "\n",
    "Como já realizamos a análise exploratória dos dados, podemos partir para a preparação dos dados para o algoritmo de Machine Learning."
   ]
  },
  {
   "cell_type": "markdown",
   "metadata": {},
   "source": [
    "**Tratamento dos dados categóricos**\n",
    "\n",
    "O parâmetro *drop-first=True* serve para evitar multicolinearidade entre os dados, ou seja, variáveis que se correlacionam entre si."
   ]
  },
  {
   "cell_type": "code",
   "execution_count": 3,
   "metadata": {},
   "outputs": [],
   "source": [
    "df = pd.get_dummies(df, columns=['Crop'], drop_first=True)"
   ]
  },
  {
   "cell_type": "markdown",
   "metadata": {},
   "source": [
    "**Combinação das 2 features de humidade**"
   ]
  },
  {
   "cell_type": "code",
   "execution_count": 4,
   "metadata": {},
   "outputs": [
    {
     "data": {
      "text/html": [
       "<div>\n",
       "<style scoped>\n",
       "    .dataframe tbody tr th:only-of-type {\n",
       "        vertical-align: middle;\n",
       "    }\n",
       "\n",
       "    .dataframe tbody tr th {\n",
       "        vertical-align: top;\n",
       "    }\n",
       "\n",
       "    .dataframe thead th {\n",
       "        text-align: right;\n",
       "    }\n",
       "</style>\n",
       "<table border=\"1\" class=\"dataframe\">\n",
       "  <thead>\n",
       "    <tr style=\"text-align: right;\">\n",
       "      <th></th>\n",
       "      <th>Precipitation</th>\n",
       "      <th>Temperature_C</th>\n",
       "      <th>Yield</th>\n",
       "      <th>Crop_Oil palm fruit</th>\n",
       "      <th>Crop_Rice, paddy</th>\n",
       "      <th>Crop_Rubber, natural</th>\n",
       "      <th>HumidityCombined</th>\n",
       "    </tr>\n",
       "  </thead>\n",
       "  <tbody>\n",
       "    <tr>\n",
       "      <th>0</th>\n",
       "      <td>2248.92</td>\n",
       "      <td>26.01</td>\n",
       "      <td>11560</td>\n",
       "      <td>False</td>\n",
       "      <td>False</td>\n",
       "      <td>False</td>\n",
       "      <td>1477.8480</td>\n",
       "    </tr>\n",
       "    <tr>\n",
       "      <th>1</th>\n",
       "      <td>1938.42</td>\n",
       "      <td>26.11</td>\n",
       "      <td>11253</td>\n",
       "      <td>False</td>\n",
       "      <td>False</td>\n",
       "      <td>False</td>\n",
       "      <td>1440.2094</td>\n",
       "    </tr>\n",
       "    <tr>\n",
       "      <th>2</th>\n",
       "      <td>2301.54</td>\n",
       "      <td>26.24</td>\n",
       "      <td>9456</td>\n",
       "      <td>False</td>\n",
       "      <td>False</td>\n",
       "      <td>False</td>\n",
       "      <td>1474.4899</td>\n",
       "    </tr>\n",
       "    <tr>\n",
       "      <th>3</th>\n",
       "      <td>2592.35</td>\n",
       "      <td>25.56</td>\n",
       "      <td>9321</td>\n",
       "      <td>False</td>\n",
       "      <td>False</td>\n",
       "      <td>False</td>\n",
       "      <td>1498.0827</td>\n",
       "    </tr>\n",
       "    <tr>\n",
       "      <th>4</th>\n",
       "      <td>2344.72</td>\n",
       "      <td>25.76</td>\n",
       "      <td>8800</td>\n",
       "      <td>False</td>\n",
       "      <td>False</td>\n",
       "      <td>False</td>\n",
       "      <td>1481.3532</td>\n",
       "    </tr>\n",
       "  </tbody>\n",
       "</table>\n",
       "</div>"
      ],
      "text/plain": [
       "   Precipitation  Temperature_C  Yield  Crop_Oil palm fruit  Crop_Rice, paddy  \\\n",
       "0        2248.92          26.01  11560                False             False   \n",
       "1        1938.42          26.11  11253                False             False   \n",
       "2        2301.54          26.24   9456                False             False   \n",
       "3        2592.35          25.56   9321                False             False   \n",
       "4        2344.72          25.76   8800                False             False   \n",
       "\n",
       "   Crop_Rubber, natural  HumidityCombined  \n",
       "0                 False         1477.8480  \n",
       "1                 False         1440.2094  \n",
       "2                 False         1474.4899  \n",
       "3                 False         1498.0827  \n",
       "4                 False         1481.3532  "
      ]
     },
     "execution_count": 4,
     "metadata": {},
     "output_type": "execute_result"
    }
   ],
   "source": [
    "df['HumidityCombined'] = df['RelativeHumidity_%'] * df['SpecificHumidity_g_kg'] # Combinação das features\n",
    "\n",
    "df.drop(['SpecificHumidity_g_kg', 'RelativeHumidity_%'], axis=1, inplace=True) # Excluindo valores de humidade anteriores\n",
    "df.head()"
   ]
  },
  {
   "cell_type": "markdown",
   "metadata": {},
   "source": [
    "**Separando variáveis independentes (X) da variável dependente (y)**"
   ]
  },
  {
   "cell_type": "code",
   "execution_count": 5,
   "metadata": {},
   "outputs": [],
   "source": [
    "X = df[['Crop_Oil palm fruit', 'Crop_Rice, paddy', 'Precipitation', 'HumidityCombined', 'Temperature_C']]\n",
    "y = df['Yield']"
   ]
  },
  {
   "cell_type": "markdown",
   "metadata": {},
   "source": [
    "**Separação dos dados em treino e teste**\n",
    "\n",
    "Método HoldOut, porém também faremos validação cruzada."
   ]
  },
  {
   "cell_type": "code",
   "execution_count": 6,
   "metadata": {},
   "outputs": [],
   "source": [
    "SEED = 80\n",
    "\n",
    "X_train, X_test, y_train, y_test = train_test_split(X, y, test_size=0.2, random_state=SEED)"
   ]
  },
  {
   "cell_type": "markdown",
   "metadata": {},
   "source": [
    "**Normalização**"
   ]
  },
  {
   "cell_type": "code",
   "execution_count": 7,
   "metadata": {},
   "outputs": [],
   "source": [
    "normalization = MinMaxScaler()\n",
    "\n",
    "X_train = normalization.fit_transform(X_train)\n",
    "X_test = normalization.transform(X_test)"
   ]
  },
  {
   "cell_type": "markdown",
   "metadata": {},
   "source": [
    "### Treinamento com vários modelos"
   ]
  },
  {
   "cell_type": "code",
   "execution_count": 8,
   "metadata": {},
   "outputs": [],
   "source": [
    "def view_scores(y_true, y_pred, title):\n",
    "    mse = mean_squared_error(y_true, y_pred)\n",
    "    r2 = r2_score(y_true, y_pred)\n",
    "\n",
    "    print(title)\n",
    "    print(f'MSE: {mse}')\n",
    "    print(f'RMSE: {np.sqrt(mse)}')\n",
    "    print(f'R² Score: {r2*100:.2f}')"
   ]
  },
  {
   "cell_type": "code",
   "execution_count": 9,
   "metadata": {},
   "outputs": [],
   "source": [
    "def cros_validate_view_scores(results):\n",
    "   mse_scores = -results.mean() # Realiza a média e converte para valores positivos\n",
    "   \n",
    "   print(f'MSE: {mse_scores}')\n",
    "   print(f'RMSE: {np.sqrt(mse_scores)}')"
   ]
  },
  {
   "cell_type": "code",
   "execution_count": 10,
   "metadata": {},
   "outputs": [],
   "source": [
    "kfold = KFold(n_splits=10, shuffle=True, random_state=SEED)"
   ]
  },
  {
   "cell_type": "markdown",
   "metadata": {},
   "source": [
    "#### Modelo Baseline"
   ]
  },
  {
   "cell_type": "code",
   "execution_count": 11,
   "metadata": {},
   "outputs": [
    {
     "name": "stdout",
     "output_type": "stream",
     "text": [
      "Modelo Baseline (Logistic Regression)\n",
      "MSE: 104920296.4095226\n",
      "RMSE: 10243.060890648\n",
      "R² Score: 98.41\n"
     ]
    }
   ],
   "source": [
    "model_lr = LinearRegression()\n",
    "model_lr.fit(X_train, y_train)\n",
    "\n",
    "model_lr_predict = model_lr.predict(X_test)\n",
    "view_scores(y_test, model_lr_predict, 'Modelo Baseline (Logistic Regression)')"
   ]
  },
  {
   "cell_type": "markdown",
   "metadata": {},
   "source": [
    "**Validação cruzada**\n",
    "\n",
    "OBS: Para problemas de regressão, é necessário utilizar o KFold."
   ]
  },
  {
   "cell_type": "code",
   "execution_count": 12,
   "metadata": {},
   "outputs": [
    {
     "name": "stdout",
     "output_type": "stream",
     "text": [
      "MSE: 63796420.58010224\n",
      "RMSE: 7987.266151825807\n"
     ]
    }
   ],
   "source": [
    "pipeline_lr = Pipeline([\n",
    "    ('scaler', MinMaxScaler()),\n",
    "    ('estimator', LinearRegression())\n",
    "])\n",
    "\n",
    "results_lr = cross_val_score(pipeline_lr, X, y,\n",
    "                            cv=kfold,\n",
    "                            scoring='neg_mean_squared_error')\n",
    "cros_validate_view_scores(results_lr)"
   ]
  },
  {
   "cell_type": "markdown",
   "metadata": {},
   "source": [
    "#### Voting Regressor"
   ]
  },
  {
   "cell_type": "code",
   "execution_count": 13,
   "metadata": {},
   "outputs": [
    {
     "name": "stdout",
     "output_type": "stream",
     "text": [
      "Voting Regressor\n",
      "MSE: 569867124.5275605\n",
      "RMSE: 23871.889839884076\n",
      "R² Score: 91.35\n"
     ]
    }
   ],
   "source": [
    "base_models = [\n",
    "    ('dt', DecisionTreeRegressor(random_state=SEED)),\n",
    "    ('rt', RandomForestRegressor(n_estimators=100, random_state=SEED)),\n",
    "    ('knn', KNeighborsRegressor()),\n",
    "    ('svc', SVR()),\n",
    "    ('lr', LinearRegression())\n",
    "]\n",
    "\n",
    "model_bg = VotingRegressor(estimators=base_models)\n",
    "model_bg.fit(X_train, y_train)\n",
    "\n",
    "model_bg_predict = model_bg.predict(X_test)\n",
    "view_scores(y_test, model_bg_predict, 'Voting Regressor')"
   ]
  },
  {
   "cell_type": "markdown",
   "metadata": {},
   "source": [
    "**Validação Cruzada**"
   ]
  },
  {
   "cell_type": "code",
   "execution_count": 14,
   "metadata": {},
   "outputs": [
    {
     "name": "stdout",
     "output_type": "stream",
     "text": [
      "MSE: 326629122.63104314\n",
      "RMSE: 18072.88362799482\n"
     ]
    }
   ],
   "source": [
    "pipeline_vt = Pipeline([\n",
    "    ('scaler', MinMaxScaler()),\n",
    "    ('estimator', VotingRegressor(estimators=base_models))\n",
    "])\n",
    "\n",
    "results_vt = cross_val_score(pipeline_vt, X, y,\n",
    "                            cv=kfold,\n",
    "                            scoring='neg_mean_squared_error')\n",
    "cros_validate_view_scores(results_vt)"
   ]
  },
  {
   "cell_type": "markdown",
   "metadata": {},
   "source": [
    "#### Stacking"
   ]
  },
  {
   "cell_type": "code",
   "execution_count": 15,
   "metadata": {},
   "outputs": [
    {
     "name": "stdout",
     "output_type": "stream",
     "text": [
      "Stacking\n",
      "MSE: 209959029.25\n",
      "RMSE: 14489.963052057794\n",
      "R² Score: 96.81\n"
     ]
    }
   ],
   "source": [
    "model_st = StackingRegressor(estimators=base_models,\n",
    "                             final_estimator=DecisionTreeRegressor())\n",
    "model_st.fit(X_train, y_train)\n",
    "\n",
    "model_st_predict = model_st.predict(X_test)\n",
    "view_scores(y_test, model_st_predict, 'Stacking')"
   ]
  },
  {
   "cell_type": "markdown",
   "metadata": {},
   "source": [
    "**Validação Cruzada**"
   ]
  },
  {
   "cell_type": "code",
   "execution_count": 16,
   "metadata": {},
   "outputs": [
    {
     "name": "stdout",
     "output_type": "stream",
     "text": [
      "MSE: 132161373.40291667\n",
      "RMSE: 11496.146023903691\n"
     ]
    }
   ],
   "source": [
    "pipeline_stc = Pipeline([\n",
    "    ('scaler', MinMaxScaler()),\n",
    "    ('estimator', StackingRegressor(estimators=base_models,\n",
    "                             final_estimator=DecisionTreeRegressor()))\n",
    "])\n",
    "\n",
    "results_stc = cross_val_score(pipeline_stc, X, y,\n",
    "                            cv=kfold,\n",
    "                            scoring='neg_mean_squared_error')\n",
    "cros_validate_view_scores(results_stc)"
   ]
  },
  {
   "cell_type": "markdown",
   "metadata": {},
   "source": [
    "#### Floresta Aleatória"
   ]
  },
  {
   "cell_type": "code",
   "execution_count": 17,
   "metadata": {},
   "outputs": [
    {
     "name": "stdout",
     "output_type": "stream",
     "text": [
      "Floresta Aleatória\n",
      "MSE: 115633352.57091635\n",
      "RMSE: 10753.29496344801\n",
      "R² Score: 98.25\n"
     ]
    }
   ],
   "source": [
    "model_rf = RandomForestRegressor(random_state=SEED)\n",
    "model_rf.fit(X_train, y_train)\n",
    "\n",
    "model_rf_predict = model_rf.predict(X_test)\n",
    "view_scores(y_test, model_rf_predict, 'Floresta Aleatória')"
   ]
  },
  {
   "cell_type": "markdown",
   "metadata": {},
   "source": [
    "**Validação Cruzada**"
   ]
  },
  {
   "cell_type": "code",
   "execution_count": 18,
   "metadata": {},
   "outputs": [
    {
     "name": "stdout",
     "output_type": "stream",
     "text": [
      "MSE: 56225466.882245764\n",
      "RMSE: 7498.364280444486\n"
     ]
    }
   ],
   "source": [
    "pipeline_rf = Pipeline([\n",
    "    ('scaler', MinMaxScaler()),\n",
    "    ('estimator', RandomForestRegressor(random_state=SEED))\n",
    "])\n",
    "\n",
    "results_rf = cross_val_score(pipeline_rf, X, y,\n",
    "                            cv=kfold,\n",
    "                            scoring='neg_mean_squared_error')\n",
    "cros_validate_view_scores(results_rf)"
   ]
  },
  {
   "cell_type": "markdown",
   "metadata": {},
   "source": [
    "#### Bagging Regressor"
   ]
  },
  {
   "cell_type": "code",
   "execution_count": 19,
   "metadata": {},
   "outputs": [
    {
     "name": "stdout",
     "output_type": "stream",
     "text": [
      "Bagging Regressor\n",
      "MSE: 105016428.0835991\n",
      "RMSE: 10247.75234300669\n",
      "R² Score: 98.41\n"
     ]
    }
   ],
   "source": [
    "model_bg = BaggingRegressor(estimator=LinearRegression(), random_state=SEED)\n",
    "model_bg.fit(X_train, y_train)\n",
    "\n",
    "model_bg_predict = model_bg.predict(X_test)\n",
    "view_scores(y_test, model_bg_predict, 'Bagging Regressor')"
   ]
  },
  {
   "cell_type": "markdown",
   "metadata": {},
   "source": [
    "**Validação Cruzada**"
   ]
  },
  {
   "cell_type": "code",
   "execution_count": 20,
   "metadata": {},
   "outputs": [
    {
     "name": "stdout",
     "output_type": "stream",
     "text": [
      "MSE: 63243434.74110867\n",
      "RMSE: 7952.574095291956\n"
     ]
    }
   ],
   "source": [
    "pipeline_bg = Pipeline([\n",
    "    ('scaler', MinMaxScaler()),\n",
    "    ('estimator', BaggingRegressor(estimator=LinearRegression(), random_state=SEED))\n",
    "])\n",
    "\n",
    "results_bg = cross_val_score(pipeline_bg, X, y,\n",
    "                            cv=kfold,\n",
    "                            scoring='neg_mean_squared_error')\n",
    "cros_validate_view_scores(results_bg)"
   ]
  },
  {
   "cell_type": "markdown",
   "metadata": {},
   "source": [
    "#### XGBoost"
   ]
  },
  {
   "cell_type": "code",
   "execution_count": 21,
   "metadata": {},
   "outputs": [
    {
     "name": "stdout",
     "output_type": "stream",
     "text": [
      "XGBoost Regressor\n",
      "MSE: 104275771.64785266\n",
      "RMSE: 10211.550893368385\n",
      "R² Score: 98.42\n"
     ]
    }
   ],
   "source": [
    "model_xgb = XGBRegressor()\n",
    "model_xgb.fit(X_train, y_train)\n",
    "\n",
    "model_xgb_predict = model_xgb.predict(X_test)\n",
    "view_scores(y_test, model_xgb_predict, 'XGBoost Regressor')"
   ]
  },
  {
   "cell_type": "markdown",
   "metadata": {},
   "source": [
    "**Validação Cruzada**"
   ]
  },
  {
   "cell_type": "code",
   "execution_count": 22,
   "metadata": {},
   "outputs": [
    {
     "name": "stdout",
     "output_type": "stream",
     "text": [
      "MSE: 78923854.00488426\n",
      "RMSE: 8883.90983772822\n"
     ]
    }
   ],
   "source": [
    "pipeline_xgb = Pipeline([\n",
    "    ('scaler', MinMaxScaler()),\n",
    "    ('estimator', XGBRegressor())\n",
    "])\n",
    "\n",
    "results_xgb = cross_val_score(pipeline_xgb, X, y,\n",
    "                            cv=kfold,\n",
    "                            scoring='neg_mean_squared_error')\n",
    "cros_validate_view_scores(results_xgb)"
   ]
  },
  {
   "cell_type": "markdown",
   "metadata": {},
   "source": [
    "#### Redes Neurais\n",
    "\n",
    "Apesar de redes neurais serem poderosas, nem sempre é a melhor escolha."
   ]
  },
  {
   "cell_type": "code",
   "execution_count": 23,
   "metadata": {},
   "outputs": [
    {
     "name": "stderr",
     "output_type": "stream",
     "text": [
      "c:\\Users\\DIOGO-PC\\AppData\\Local\\Programs\\Python\\Python310\\lib\\site-packages\\keras\\src\\layers\\core\\dense.py:87: UserWarning: Do not pass an `input_shape`/`input_dim` argument to a layer. When using Sequential models, prefer using an `Input(shape)` object as the first layer in the model instead.\n",
      "  super().__init__(activity_regularizer=activity_regularizer, **kwargs)\n"
     ]
    }
   ],
   "source": [
    "model_keras = keras.Sequential([\n",
    "    keras.layers.Dense(256, activation='relu', input_shape=(X_train.shape[1],)),\n",
    "    keras.layers.Dense(128, activation='relu'),\n",
    "    keras.layers.Dense(64, activation='relu'),\n",
    "    keras.layers.Dense(32, activation='relu'),\n",
    "    keras.layers.Dense(16, activation='relu'),\n",
    "    keras.layers.Dense(1, activation='linear')\n",
    "])"
   ]
  },
  {
   "cell_type": "code",
   "execution_count": 24,
   "metadata": {},
   "outputs": [
    {
     "data": {
      "text/html": [
       "<pre style=\"white-space:pre;overflow-x:auto;line-height:normal;font-family:Menlo,'DejaVu Sans Mono',consolas,'Courier New',monospace\"><span style=\"font-weight: bold\">Model: \"sequential\"</span>\n",
       "</pre>\n"
      ],
      "text/plain": [
       "\u001b[1mModel: \"sequential\"\u001b[0m\n"
      ]
     },
     "metadata": {},
     "output_type": "display_data"
    },
    {
     "data": {
      "text/html": [
       "<pre style=\"white-space:pre;overflow-x:auto;line-height:normal;font-family:Menlo,'DejaVu Sans Mono',consolas,'Courier New',monospace\">┏━━━━━━━━━━━━━━━━━━━━━━━━━━━━━━━━━┳━━━━━━━━━━━━━━━━━━━━━━━━┳━━━━━━━━━━━━━━━┓\n",
       "┃<span style=\"font-weight: bold\"> Layer (type)                    </span>┃<span style=\"font-weight: bold\"> Output Shape           </span>┃<span style=\"font-weight: bold\">       Param # </span>┃\n",
       "┡━━━━━━━━━━━━━━━━━━━━━━━━━━━━━━━━━╇━━━━━━━━━━━━━━━━━━━━━━━━╇━━━━━━━━━━━━━━━┩\n",
       "│ dense (<span style=\"color: #0087ff; text-decoration-color: #0087ff\">Dense</span>)                   │ (<span style=\"color: #00d7ff; text-decoration-color: #00d7ff\">None</span>, <span style=\"color: #00af00; text-decoration-color: #00af00\">256</span>)            │         <span style=\"color: #00af00; text-decoration-color: #00af00\">1,536</span> │\n",
       "├─────────────────────────────────┼────────────────────────┼───────────────┤\n",
       "│ dense_1 (<span style=\"color: #0087ff; text-decoration-color: #0087ff\">Dense</span>)                 │ (<span style=\"color: #00d7ff; text-decoration-color: #00d7ff\">None</span>, <span style=\"color: #00af00; text-decoration-color: #00af00\">128</span>)            │        <span style=\"color: #00af00; text-decoration-color: #00af00\">32,896</span> │\n",
       "├─────────────────────────────────┼────────────────────────┼───────────────┤\n",
       "│ dense_2 (<span style=\"color: #0087ff; text-decoration-color: #0087ff\">Dense</span>)                 │ (<span style=\"color: #00d7ff; text-decoration-color: #00d7ff\">None</span>, <span style=\"color: #00af00; text-decoration-color: #00af00\">64</span>)             │         <span style=\"color: #00af00; text-decoration-color: #00af00\">8,256</span> │\n",
       "├─────────────────────────────────┼────────────────────────┼───────────────┤\n",
       "│ dense_3 (<span style=\"color: #0087ff; text-decoration-color: #0087ff\">Dense</span>)                 │ (<span style=\"color: #00d7ff; text-decoration-color: #00d7ff\">None</span>, <span style=\"color: #00af00; text-decoration-color: #00af00\">32</span>)             │         <span style=\"color: #00af00; text-decoration-color: #00af00\">2,080</span> │\n",
       "├─────────────────────────────────┼────────────────────────┼───────────────┤\n",
       "│ dense_4 (<span style=\"color: #0087ff; text-decoration-color: #0087ff\">Dense</span>)                 │ (<span style=\"color: #00d7ff; text-decoration-color: #00d7ff\">None</span>, <span style=\"color: #00af00; text-decoration-color: #00af00\">16</span>)             │           <span style=\"color: #00af00; text-decoration-color: #00af00\">528</span> │\n",
       "├─────────────────────────────────┼────────────────────────┼───────────────┤\n",
       "│ dense_5 (<span style=\"color: #0087ff; text-decoration-color: #0087ff\">Dense</span>)                 │ (<span style=\"color: #00d7ff; text-decoration-color: #00d7ff\">None</span>, <span style=\"color: #00af00; text-decoration-color: #00af00\">1</span>)              │            <span style=\"color: #00af00; text-decoration-color: #00af00\">17</span> │\n",
       "└─────────────────────────────────┴────────────────────────┴───────────────┘\n",
       "</pre>\n"
      ],
      "text/plain": [
       "┏━━━━━━━━━━━━━━━━━━━━━━━━━━━━━━━━━┳━━━━━━━━━━━━━━━━━━━━━━━━┳━━━━━━━━━━━━━━━┓\n",
       "┃\u001b[1m \u001b[0m\u001b[1mLayer (type)                   \u001b[0m\u001b[1m \u001b[0m┃\u001b[1m \u001b[0m\u001b[1mOutput Shape          \u001b[0m\u001b[1m \u001b[0m┃\u001b[1m \u001b[0m\u001b[1m      Param #\u001b[0m\u001b[1m \u001b[0m┃\n",
       "┡━━━━━━━━━━━━━━━━━━━━━━━━━━━━━━━━━╇━━━━━━━━━━━━━━━━━━━━━━━━╇━━━━━━━━━━━━━━━┩\n",
       "│ dense (\u001b[38;5;33mDense\u001b[0m)                   │ (\u001b[38;5;45mNone\u001b[0m, \u001b[38;5;34m256\u001b[0m)            │         \u001b[38;5;34m1,536\u001b[0m │\n",
       "├─────────────────────────────────┼────────────────────────┼───────────────┤\n",
       "│ dense_1 (\u001b[38;5;33mDense\u001b[0m)                 │ (\u001b[38;5;45mNone\u001b[0m, \u001b[38;5;34m128\u001b[0m)            │        \u001b[38;5;34m32,896\u001b[0m │\n",
       "├─────────────────────────────────┼────────────────────────┼───────────────┤\n",
       "│ dense_2 (\u001b[38;5;33mDense\u001b[0m)                 │ (\u001b[38;5;45mNone\u001b[0m, \u001b[38;5;34m64\u001b[0m)             │         \u001b[38;5;34m8,256\u001b[0m │\n",
       "├─────────────────────────────────┼────────────────────────┼───────────────┤\n",
       "│ dense_3 (\u001b[38;5;33mDense\u001b[0m)                 │ (\u001b[38;5;45mNone\u001b[0m, \u001b[38;5;34m32\u001b[0m)             │         \u001b[38;5;34m2,080\u001b[0m │\n",
       "├─────────────────────────────────┼────────────────────────┼───────────────┤\n",
       "│ dense_4 (\u001b[38;5;33mDense\u001b[0m)                 │ (\u001b[38;5;45mNone\u001b[0m, \u001b[38;5;34m16\u001b[0m)             │           \u001b[38;5;34m528\u001b[0m │\n",
       "├─────────────────────────────────┼────────────────────────┼───────────────┤\n",
       "│ dense_5 (\u001b[38;5;33mDense\u001b[0m)                 │ (\u001b[38;5;45mNone\u001b[0m, \u001b[38;5;34m1\u001b[0m)              │            \u001b[38;5;34m17\u001b[0m │\n",
       "└─────────────────────────────────┴────────────────────────┴───────────────┘\n"
      ]
     },
     "metadata": {},
     "output_type": "display_data"
    },
    {
     "data": {
      "text/html": [
       "<pre style=\"white-space:pre;overflow-x:auto;line-height:normal;font-family:Menlo,'DejaVu Sans Mono',consolas,'Courier New',monospace\"><span style=\"font-weight: bold\"> Total params: </span><span style=\"color: #00af00; text-decoration-color: #00af00\">45,313</span> (177.00 KB)\n",
       "</pre>\n"
      ],
      "text/plain": [
       "\u001b[1m Total params: \u001b[0m\u001b[38;5;34m45,313\u001b[0m (177.00 KB)\n"
      ]
     },
     "metadata": {},
     "output_type": "display_data"
    },
    {
     "data": {
      "text/html": [
       "<pre style=\"white-space:pre;overflow-x:auto;line-height:normal;font-family:Menlo,'DejaVu Sans Mono',consolas,'Courier New',monospace\"><span style=\"font-weight: bold\"> Trainable params: </span><span style=\"color: #00af00; text-decoration-color: #00af00\">45,313</span> (177.00 KB)\n",
       "</pre>\n"
      ],
      "text/plain": [
       "\u001b[1m Trainable params: \u001b[0m\u001b[38;5;34m45,313\u001b[0m (177.00 KB)\n"
      ]
     },
     "metadata": {},
     "output_type": "display_data"
    },
    {
     "data": {
      "text/html": [
       "<pre style=\"white-space:pre;overflow-x:auto;line-height:normal;font-family:Menlo,'DejaVu Sans Mono',consolas,'Courier New',monospace\"><span style=\"font-weight: bold\"> Non-trainable params: </span><span style=\"color: #00af00; text-decoration-color: #00af00\">0</span> (0.00 B)\n",
       "</pre>\n"
      ],
      "text/plain": [
       "\u001b[1m Non-trainable params: \u001b[0m\u001b[38;5;34m0\u001b[0m (0.00 B)\n"
      ]
     },
     "metadata": {},
     "output_type": "display_data"
    }
   ],
   "source": [
    "model_keras.compile(optimizer=keras.optimizers.Adam(),\n",
    "                    loss=keras.losses.MeanSquaredError(),\n",
    "                    metrics=[keras.metrics.R2Score(), keras.metrics.RootMeanSquaredError()])\n",
    "\n",
    "model_keras.summary()"
   ]
  },
  {
   "cell_type": "code",
   "execution_count": 25,
   "metadata": {},
   "outputs": [],
   "source": [
    "callbacks = [keras.callbacks.EarlyStopping(monitor='val_loss', patience=5, restore_best_weights=True),\n",
    "             keras.callbacks.ModelCheckpoint(monitor='val_loss',\n",
    "                                             filepath='checkpoint_best_model.keras', save_best_only=True)]"
   ]
  },
  {
   "cell_type": "code",
   "execution_count": 26,
   "metadata": {},
   "outputs": [
    {
     "name": "stdout",
     "output_type": "stream",
     "text": [
      "Epoch 1/150\n",
      "\u001b[1m4/4\u001b[0m \u001b[32m━━━━━━━━━━━━━━━━━━━━\u001b[0m\u001b[37m\u001b[0m \u001b[1m2s\u001b[0m 102ms/step - loss: 6280366592.0000 - r2_score: -0.5475 - root_mean_squared_error: 79144.9375 - val_loss: 13004070912.0000 - val_r2_score: -0.9734 - val_root_mean_squared_error: 114035.3906\n",
      "Epoch 2/150\n",
      "\u001b[1m4/4\u001b[0m \u001b[32m━━━━━━━━━━━━━━━━━━━━\u001b[0m\u001b[37m\u001b[0m \u001b[1m0s\u001b[0m 33ms/step - loss: 7645824000.0000 - r2_score: -0.7039 - root_mean_squared_error: 87190.2031 - val_loss: 13004060672.0000 - val_r2_score: -0.9734 - val_root_mean_squared_error: 114035.3516\n",
      "Epoch 3/150\n",
      "\u001b[1m4/4\u001b[0m \u001b[32m━━━━━━━━━━━━━━━━━━━━\u001b[0m\u001b[37m\u001b[0m \u001b[1m0s\u001b[0m 37ms/step - loss: 6185055232.0000 - r2_score: -0.5423 - root_mean_squared_error: 78528.3516 - val_loss: 13004042240.0000 - val_r2_score: -0.9734 - val_root_mean_squared_error: 114035.2656\n",
      "Epoch 4/150\n",
      "\u001b[1m4/4\u001b[0m \u001b[32m━━━━━━━━━━━━━━━━━━━━\u001b[0m\u001b[37m\u001b[0m \u001b[1m0s\u001b[0m 32ms/step - loss: 7183862784.0000 - r2_score: -0.6109 - root_mean_squared_error: 84731.2734 - val_loss: 13004007424.0000 - val_r2_score: -0.9734 - val_root_mean_squared_error: 114035.1172\n",
      "Epoch 5/150\n",
      "\u001b[1m4/4\u001b[0m \u001b[32m━━━━━━━━━━━━━━━━━━━━\u001b[0m\u001b[37m\u001b[0m \u001b[1m0s\u001b[0m 33ms/step - loss: 7184252416.0000 - r2_score: -0.5822 - root_mean_squared_error: 84722.1094 - val_loss: 13003943936.0000 - val_r2_score: -0.9734 - val_root_mean_squared_error: 114034.8359\n",
      "Epoch 6/150\n",
      "\u001b[1m4/4\u001b[0m \u001b[32m━━━━━━━━━━━━━━━━━━━━\u001b[0m\u001b[37m\u001b[0m \u001b[1m0s\u001b[0m 32ms/step - loss: 7055163904.0000 - r2_score: -0.5870 - root_mean_squared_error: 83968.8984 - val_loss: 13003842560.0000 - val_r2_score: -0.9734 - val_root_mean_squared_error: 114034.3906\n",
      "Epoch 7/150\n",
      "\u001b[1m4/4\u001b[0m \u001b[32m━━━━━━━━━━━━━━━━━━━━\u001b[0m\u001b[37m\u001b[0m \u001b[1m0s\u001b[0m 34ms/step - loss: 7050420224.0000 - r2_score: -0.6414 - root_mean_squared_error: 83928.2578 - val_loss: 13003669504.0000 - val_r2_score: -0.9734 - val_root_mean_squared_error: 114033.6328\n",
      "Epoch 8/150\n",
      "\u001b[1m4/4\u001b[0m \u001b[32m━━━━━━━━━━━━━━━━━━━━\u001b[0m\u001b[37m\u001b[0m \u001b[1m0s\u001b[0m 34ms/step - loss: 6725923840.0000 - r2_score: -0.5607 - root_mean_squared_error: 81891.2109 - val_loss: 13003384832.0000 - val_r2_score: -0.9733 - val_root_mean_squared_error: 114032.3828\n",
      "Epoch 9/150\n",
      "\u001b[1m4/4\u001b[0m \u001b[32m━━━━━━━━━━━━━━━━━━━━\u001b[0m\u001b[37m\u001b[0m \u001b[1m0s\u001b[0m 34ms/step - loss: 7044566528.0000 - r2_score: -0.5889 - root_mean_squared_error: 83889.4688 - val_loss: 13002915840.0000 - val_r2_score: -0.9732 - val_root_mean_squared_error: 114030.3281\n",
      "Epoch 10/150\n",
      "\u001b[1m4/4\u001b[0m \u001b[32m━━━━━━━━━━━━━━━━━━━━\u001b[0m\u001b[37m\u001b[0m \u001b[1m0s\u001b[0m 36ms/step - loss: 6550541824.0000 - r2_score: -0.5951 - root_mean_squared_error: 80915.9922 - val_loss: 13002162176.0000 - val_r2_score: -0.9731 - val_root_mean_squared_error: 114027.0234\n",
      "Epoch 11/150\n",
      "\u001b[1m4/4\u001b[0m \u001b[32m━━━━━━━━━━━━━━━━━━━━\u001b[0m\u001b[37m\u001b[0m \u001b[1m0s\u001b[0m 34ms/step - loss: 6470534144.0000 - r2_score: -0.5578 - root_mean_squared_error: 80230.6250 - val_loss: 13000986624.0000 - val_r2_score: -0.9729 - val_root_mean_squared_error: 114021.8672\n",
      "Epoch 12/150\n",
      "\u001b[1m4/4\u001b[0m \u001b[32m━━━━━━━━━━━━━━━━━━━━\u001b[0m\u001b[37m\u001b[0m \u001b[1m0s\u001b[0m 32ms/step - loss: 7151248384.0000 - r2_score: -0.6087 - root_mean_squared_error: 84400.1406 - val_loss: 12999182336.0000 - val_r2_score: -0.9727 - val_root_mean_squared_error: 114013.9531\n",
      "Epoch 13/150\n",
      "\u001b[1m4/4\u001b[0m \u001b[32m━━━━━━━━━━━━━━━━━━━━\u001b[0m\u001b[37m\u001b[0m \u001b[1m0s\u001b[0m 33ms/step - loss: 6843301888.0000 - r2_score: -0.5826 - root_mean_squared_error: 82654.7109 - val_loss: 12996417536.0000 - val_r2_score: -0.9723 - val_root_mean_squared_error: 114001.8281\n",
      "Epoch 14/150\n",
      "\u001b[1m4/4\u001b[0m \u001b[32m━━━━━━━━━━━━━━━━━━━━\u001b[0m\u001b[37m\u001b[0m \u001b[1m0s\u001b[0m 32ms/step - loss: 6967692800.0000 - r2_score: -0.5832 - root_mean_squared_error: 83329.5391 - val_loss: 12992301056.0000 - val_r2_score: -0.9716 - val_root_mean_squared_error: 113983.7734\n",
      "Epoch 15/150\n",
      "\u001b[1m4/4\u001b[0m \u001b[32m━━━━━━━━━━━━━━━━━━━━\u001b[0m\u001b[37m\u001b[0m \u001b[1m0s\u001b[0m 33ms/step - loss: 7129464320.0000 - r2_score: -0.6334 - root_mean_squared_error: 84420.5703 - val_loss: 12986161152.0000 - val_r2_score: -0.9707 - val_root_mean_squared_error: 113956.8359\n",
      "Epoch 16/150\n",
      "\u001b[1m4/4\u001b[0m \u001b[32m━━━━━━━━━━━━━━━━━━━━\u001b[0m\u001b[37m\u001b[0m \u001b[1m0s\u001b[0m 33ms/step - loss: 7203019776.0000 - r2_score: -0.5598 - root_mean_squared_error: 84795.0703 - val_loss: 12977180672.0000 - val_r2_score: -0.9693 - val_root_mean_squared_error: 113917.4297\n",
      "Epoch 17/150\n",
      "\u001b[1m4/4\u001b[0m \u001b[32m━━━━━━━━━━━━━━━━━━━━\u001b[0m\u001b[37m\u001b[0m \u001b[1m0s\u001b[0m 33ms/step - loss: 6288766976.0000 - r2_score: -0.5543 - root_mean_squared_error: 79199.4141 - val_loss: 12964399104.0000 - val_r2_score: -0.9674 - val_root_mean_squared_error: 113861.3125\n",
      "Epoch 18/150\n",
      "\u001b[1m4/4\u001b[0m \u001b[32m━━━━━━━━━━━━━━━━━━━━\u001b[0m\u001b[37m\u001b[0m \u001b[1m0s\u001b[0m 33ms/step - loss: 7065790464.0000 - r2_score: -0.5950 - root_mean_squared_error: 84012.8203 - val_loss: 12946269184.0000 - val_r2_score: -0.9646 - val_root_mean_squared_error: 113781.6719\n",
      "Epoch 19/150\n",
      "\u001b[1m4/4\u001b[0m \u001b[32m━━━━━━━━━━━━━━━━━━━━\u001b[0m\u001b[37m\u001b[0m \u001b[1m0s\u001b[0m 33ms/step - loss: 6341997056.0000 - r2_score: -0.5357 - root_mean_squared_error: 79588.3906 - val_loss: 12921149440.0000 - val_r2_score: -0.9608 - val_root_mean_squared_error: 113671.2344\n",
      "Epoch 20/150\n",
      "\u001b[1m4/4\u001b[0m \u001b[32m━━━━━━━━━━━━━━━━━━━━\u001b[0m\u001b[37m\u001b[0m \u001b[1m0s\u001b[0m 33ms/step - loss: 7197403648.0000 - r2_score: -0.6155 - root_mean_squared_error: 84660.8750 - val_loss: 12886852608.0000 - val_r2_score: -0.9556 - val_root_mean_squared_error: 113520.2734\n",
      "Epoch 21/150\n",
      "\u001b[1m4/4\u001b[0m \u001b[32m━━━━━━━━━━━━━━━━━━━━\u001b[0m\u001b[37m\u001b[0m \u001b[1m0s\u001b[0m 33ms/step - loss: 7532046336.0000 - r2_score: -0.5974 - root_mean_squared_error: 86632.0078 - val_loss: 12840918016.0000 - val_r2_score: -0.9487 - val_root_mean_squared_error: 113317.7734\n",
      "Epoch 22/150\n",
      "\u001b[1m4/4\u001b[0m \u001b[32m━━━━━━━━━━━━━━━━━━━━\u001b[0m\u001b[37m\u001b[0m \u001b[1m0s\u001b[0m 32ms/step - loss: 7596168192.0000 - r2_score: -0.6107 - root_mean_squared_error: 87007.1016 - val_loss: 12780668928.0000 - val_r2_score: -0.9395 - val_root_mean_squared_error: 113051.6172\n",
      "Epoch 23/150\n",
      "\u001b[1m4/4\u001b[0m \u001b[32m━━━━━━━━━━━━━━━━━━━━\u001b[0m\u001b[37m\u001b[0m \u001b[1m0s\u001b[0m 34ms/step - loss: 6896832000.0000 - r2_score: -0.5832 - root_mean_squared_error: 83033.0938 - val_loss: 12701164544.0000 - val_r2_score: -0.9274 - val_root_mean_squared_error: 112699.4453\n",
      "Epoch 24/150\n",
      "\u001b[1m4/4\u001b[0m \u001b[32m━━━━━━━━━━━━━━━━━━━━\u001b[0m\u001b[37m\u001b[0m \u001b[1m0s\u001b[0m 32ms/step - loss: 7728731136.0000 - r2_score: -0.6017 - root_mean_squared_error: 87605.5859 - val_loss: 12598185984.0000 - val_r2_score: -0.9118 - val_root_mean_squared_error: 112241.6406\n",
      "Epoch 25/150\n",
      "\u001b[1m4/4\u001b[0m \u001b[32m━━━━━━━━━━━━━━━━━━━━\u001b[0m\u001b[37m\u001b[0m \u001b[1m0s\u001b[0m 32ms/step - loss: 6965167616.0000 - r2_score: -0.5490 - root_mean_squared_error: 83293.4609 - val_loss: 12466772992.0000 - val_r2_score: -0.8919 - val_root_mean_squared_error: 111654.7031\n",
      "Epoch 26/150\n",
      "\u001b[1m4/4\u001b[0m \u001b[32m━━━━━━━━━━━━━━━━━━━━\u001b[0m\u001b[37m\u001b[0m \u001b[1m0s\u001b[0m 36ms/step - loss: 5932474368.0000 - r2_score: -0.4631 - root_mean_squared_error: 76859.4688 - val_loss: 12300955648.0000 - val_r2_score: -0.8667 - val_root_mean_squared_error: 110909.6719\n",
      "Epoch 27/150\n",
      "\u001b[1m4/4\u001b[0m \u001b[32m━━━━━━━━━━━━━━━━━━━━\u001b[0m\u001b[37m\u001b[0m \u001b[1m0s\u001b[0m 32ms/step - loss: 6130423808.0000 - r2_score: -0.4778 - root_mean_squared_error: 78282.0469 - val_loss: 12092006400.0000 - val_r2_score: -0.8350 - val_root_mean_squared_error: 109963.6562\n",
      "Epoch 28/150\n",
      "\u001b[1m4/4\u001b[0m \u001b[32m━━━━━━━━━━━━━━━━━━━━\u001b[0m\u001b[37m\u001b[0m \u001b[1m0s\u001b[0m 32ms/step - loss: 5260673536.0000 - r2_score: -0.3859 - root_mean_squared_error: 72026.0859 - val_loss: 11836377088.0000 - val_r2_score: -0.7962 - val_root_mean_squared_error: 108795.1172\n",
      "Epoch 29/150\n",
      "\u001b[1m4/4\u001b[0m \u001b[32m━━━━━━━━━━━━━━━━━━━━\u001b[0m\u001b[37m\u001b[0m \u001b[1m0s\u001b[0m 34ms/step - loss: 6769491968.0000 - r2_score: -0.4577 - root_mean_squared_error: 82145.8203 - val_loss: 11520139264.0000 - val_r2_score: -0.7482 - val_root_mean_squared_error: 107331.9141\n",
      "Epoch 30/150\n",
      "\u001b[1m4/4\u001b[0m \u001b[32m━━━━━━━━━━━━━━━━━━━━\u001b[0m\u001b[37m\u001b[0m \u001b[1m0s\u001b[0m 33ms/step - loss: 6243960320.0000 - r2_score: -0.3828 - root_mean_squared_error: 78981.0234 - val_loss: 11142875136.0000 - val_r2_score: -0.6910 - val_root_mean_squared_error: 105559.8203\n",
      "Epoch 31/150\n",
      "\u001b[1m4/4\u001b[0m \u001b[32m━━━━━━━━━━━━━━━━━━━━\u001b[0m\u001b[37m\u001b[0m \u001b[1m0s\u001b[0m 34ms/step - loss: 5762167296.0000 - r2_score: -0.3337 - root_mean_squared_error: 75828.0859 - val_loss: 10698758144.0000 - val_r2_score: -0.6236 - val_root_mean_squared_error: 103434.8047\n",
      "Epoch 32/150\n",
      "\u001b[1m4/4\u001b[0m \u001b[32m━━━━━━━━━━━━━━━━━━━━\u001b[0m\u001b[37m\u001b[0m \u001b[1m0s\u001b[0m 32ms/step - loss: 4749584384.0000 - r2_score: -0.2076 - root_mean_squared_error: 68652.2578 - val_loss: 10185511936.0000 - val_r2_score: -0.5457 - val_root_mean_squared_error: 100923.2969\n",
      "Epoch 33/150\n",
      "\u001b[1m4/4\u001b[0m \u001b[32m━━━━━━━━━━━━━━━━━━━━\u001b[0m\u001b[37m\u001b[0m \u001b[1m0s\u001b[0m 32ms/step - loss: 5100113408.0000 - r2_score: -0.1971 - root_mean_squared_error: 71366.5547 - val_loss: 9599535104.0000 - val_r2_score: -0.4568 - val_root_mean_squared_error: 97977.2188\n",
      "Epoch 34/150\n",
      "\u001b[1m4/4\u001b[0m \u001b[32m━━━━━━━━━━━━━━━━━━━━\u001b[0m\u001b[37m\u001b[0m \u001b[1m0s\u001b[0m 32ms/step - loss: 4741608960.0000 - r2_score: -0.1186 - root_mean_squared_error: 68848.6953 - val_loss: 8949221376.0000 - val_r2_score: -0.3581 - val_root_mean_squared_error: 94600.3281\n",
      "Epoch 35/150\n",
      "\u001b[1m4/4\u001b[0m \u001b[32m━━━━━━━━━━━━━━━━━━━━\u001b[0m\u001b[37m\u001b[0m \u001b[1m0s\u001b[0m 33ms/step - loss: 4421689856.0000 - r2_score: -0.0427 - root_mean_squared_error: 66490.5078 - val_loss: 8259423232.0000 - val_r2_score: -0.2534 - val_root_mean_squared_error: 90881.3672\n",
      "Epoch 36/150\n",
      "\u001b[1m4/4\u001b[0m \u001b[32m━━━━━━━━━━━━━━━━━━━━\u001b[0m\u001b[37m\u001b[0m \u001b[1m0s\u001b[0m 33ms/step - loss: 4412113920.0000 - r2_score: -3.9462e-04 - root_mean_squared_error: 66364.9219 - val_loss: 7545186304.0000 - val_r2_score: -0.1450 - val_root_mean_squared_error: 86863.0312\n",
      "Epoch 37/150\n",
      "\u001b[1m4/4\u001b[0m \u001b[32m━━━━━━━━━━━━━━━━━━━━\u001b[0m\u001b[37m\u001b[0m \u001b[1m0s\u001b[0m 33ms/step - loss: 4095193600.0000 - r2_score: 0.0702 - root_mean_squared_error: 63987.1016 - val_loss: 6888164352.0000 - val_r2_score: -0.0453 - val_root_mean_squared_error: 82994.9688\n",
      "Epoch 38/150\n",
      "\u001b[1m4/4\u001b[0m \u001b[32m━━━━━━━━━━━━━━━━━━━━\u001b[0m\u001b[37m\u001b[0m \u001b[1m0s\u001b[0m 33ms/step - loss: 4172774400.0000 - r2_score: 0.0839 - root_mean_squared_error: 64536.3594 - val_loss: 6305704960.0000 - val_r2_score: 0.0431 - val_root_mean_squared_error: 79408.4688\n",
      "Epoch 39/150\n",
      "\u001b[1m4/4\u001b[0m \u001b[32m━━━━━━━━━━━━━━━━━━━━\u001b[0m\u001b[37m\u001b[0m \u001b[1m0s\u001b[0m 34ms/step - loss: 4053526784.0000 - r2_score: 0.1048 - root_mean_squared_error: 63598.0898 - val_loss: 5856517632.0000 - val_r2_score: 0.1113 - val_root_mean_squared_error: 76527.8906\n",
      "Epoch 40/150\n",
      "\u001b[1m4/4\u001b[0m \u001b[32m━━━━━━━━━━━━━━━━━━━━\u001b[0m\u001b[37m\u001b[0m \u001b[1m0s\u001b[0m 32ms/step - loss: 3840225792.0000 - r2_score: 0.1503 - root_mean_squared_error: 61891.8125 - val_loss: 5546114560.0000 - val_r2_score: 0.1584 - val_root_mean_squared_error: 74472.2422\n",
      "Epoch 41/150\n",
      "\u001b[1m4/4\u001b[0m \u001b[32m━━━━━━━━━━━━━━━━━━━━\u001b[0m\u001b[37m\u001b[0m \u001b[1m0s\u001b[0m 34ms/step - loss: 3844242688.0000 - r2_score: 0.1514 - root_mean_squared_error: 61982.1719 - val_loss: 5361579520.0000 - val_r2_score: 0.1864 - val_root_mean_squared_error: 73222.8047\n",
      "Epoch 42/150\n",
      "\u001b[1m4/4\u001b[0m \u001b[32m━━━━━━━━━━━━━━━━━━━━\u001b[0m\u001b[37m\u001b[0m \u001b[1m0s\u001b[0m 33ms/step - loss: 3240986880.0000 - r2_score: 0.1507 - root_mean_squared_error: 56866.8398 - val_loss: 5325783552.0000 - val_r2_score: 0.1918 - val_root_mean_squared_error: 72977.9688\n",
      "Epoch 43/150\n",
      "\u001b[1m4/4\u001b[0m \u001b[32m━━━━━━━━━━━━━━━━━━━━\u001b[0m\u001b[37m\u001b[0m \u001b[1m0s\u001b[0m 34ms/step - loss: 3434610688.0000 - r2_score: 0.2065 - root_mean_squared_error: 58587.6992 - val_loss: 5278364160.0000 - val_r2_score: 0.1990 - val_root_mean_squared_error: 72652.3516\n",
      "Epoch 44/150\n",
      "\u001b[1m4/4\u001b[0m \u001b[32m━━━━━━━━━━━━━━━━━━━━\u001b[0m\u001b[37m\u001b[0m \u001b[1m0s\u001b[0m 32ms/step - loss: 3525910016.0000 - r2_score: 0.1966 - root_mean_squared_error: 59372.3945 - val_loss: 5239435264.0000 - val_r2_score: 0.2049 - val_root_mean_squared_error: 72383.9453\n",
      "Epoch 45/150\n",
      "\u001b[1m4/4\u001b[0m \u001b[32m━━━━━━━━━━━━━━━━━━━━\u001b[0m\u001b[37m\u001b[0m \u001b[1m0s\u001b[0m 34ms/step - loss: 3633305856.0000 - r2_score: 0.1828 - root_mean_squared_error: 60252.3516 - val_loss: 5208015872.0000 - val_r2_score: 0.2097 - val_root_mean_squared_error: 72166.5859\n",
      "Epoch 46/150\n",
      "\u001b[1m4/4\u001b[0m \u001b[32m━━━━━━━━━━━━━━━━━━━━\u001b[0m\u001b[37m\u001b[0m \u001b[1m0s\u001b[0m 34ms/step - loss: 3045089024.0000 - r2_score: 0.1843 - root_mean_squared_error: 55117.8750 - val_loss: 5204878336.0000 - val_r2_score: 0.2101 - val_root_mean_squared_error: 72144.8438\n",
      "Epoch 47/150\n",
      "\u001b[1m4/4\u001b[0m \u001b[32m━━━━━━━━━━━━━━━━━━━━\u001b[0m\u001b[37m\u001b[0m \u001b[1m0s\u001b[0m 33ms/step - loss: 3336505344.0000 - r2_score: 0.2361 - root_mean_squared_error: 57760.9492 - val_loss: 5119355392.0000 - val_r2_score: 0.2231 - val_root_mean_squared_error: 71549.6719\n",
      "Epoch 48/150\n",
      "\u001b[1m4/4\u001b[0m \u001b[32m━━━━━━━━━━━━━━━━━━━━\u001b[0m\u001b[37m\u001b[0m \u001b[1m0s\u001b[0m 38ms/step - loss: 3488288768.0000 - r2_score: 0.2526 - root_mean_squared_error: 59030.5234 - val_loss: 4994690048.0000 - val_r2_score: 0.2420 - val_root_mean_squared_error: 70673.1250\n",
      "Epoch 49/150\n",
      "\u001b[1m4/4\u001b[0m \u001b[32m━━━━━━━━━━━━━━━━━━━━\u001b[0m\u001b[37m\u001b[0m \u001b[1m0s\u001b[0m 33ms/step - loss: 3162483712.0000 - r2_score: 0.2478 - root_mean_squared_error: 56223.8516 - val_loss: 4902727680.0000 - val_r2_score: 0.2560 - val_root_mean_squared_error: 70019.4844\n",
      "Epoch 50/150\n",
      "\u001b[1m4/4\u001b[0m \u001b[32m━━━━━━━━━━━━━━━━━━━━\u001b[0m\u001b[37m\u001b[0m \u001b[1m0s\u001b[0m 33ms/step - loss: 3185229056.0000 - r2_score: 0.2777 - root_mean_squared_error: 56425.3789 - val_loss: 4783425536.0000 - val_r2_score: 0.2741 - val_root_mean_squared_error: 69162.3125\n",
      "Epoch 51/150\n",
      "\u001b[1m4/4\u001b[0m \u001b[32m━━━━━━━━━━━━━━━━━━━━\u001b[0m\u001b[37m\u001b[0m \u001b[1m0s\u001b[0m 33ms/step - loss: 2839702528.0000 - r2_score: 0.2455 - root_mean_squared_error: 53250.7812 - val_loss: 4700664832.0000 - val_r2_score: 0.2867 - val_root_mean_squared_error: 68561.3984\n",
      "Epoch 52/150\n",
      "\u001b[1m4/4\u001b[0m \u001b[32m━━━━━━━━━━━━━━━━━━━━\u001b[0m\u001b[37m\u001b[0m \u001b[1m0s\u001b[0m 33ms/step - loss: 2967934720.0000 - r2_score: 0.2707 - root_mean_squared_error: 54451.1641 - val_loss: 4568434688.0000 - val_r2_score: 0.3067 - val_root_mean_squared_error: 67590.1953\n",
      "Epoch 53/150\n",
      "\u001b[1m4/4\u001b[0m \u001b[32m━━━━━━━━━━━━━━━━━━━━\u001b[0m\u001b[37m\u001b[0m \u001b[1m0s\u001b[0m 33ms/step - loss: 2946625024.0000 - r2_score: 0.3094 - root_mean_squared_error: 54218.3047 - val_loss: 4430607360.0000 - val_r2_score: 0.3276 - val_root_mean_squared_error: 66562.8047\n",
      "Epoch 54/150\n",
      "\u001b[1m4/4\u001b[0m \u001b[32m━━━━━━━━━━━━━━━━━━━━\u001b[0m\u001b[37m\u001b[0m \u001b[1m0s\u001b[0m 33ms/step - loss: 3080860416.0000 - r2_score: 0.3437 - root_mean_squared_error: 55476.6094 - val_loss: 4252133376.0000 - val_r2_score: 0.3547 - val_root_mean_squared_error: 65208.3828\n",
      "Epoch 55/150\n",
      "\u001b[1m4/4\u001b[0m \u001b[32m━━━━━━━━━━━━━━━━━━━━\u001b[0m\u001b[37m\u001b[0m \u001b[1m0s\u001b[0m 33ms/step - loss: 2726881792.0000 - r2_score: 0.3310 - root_mean_squared_error: 52207.8867 - val_loss: 4154737408.0000 - val_r2_score: 0.3695 - val_root_mean_squared_error: 64457.2539\n",
      "Epoch 56/150\n",
      "\u001b[1m4/4\u001b[0m \u001b[32m━━━━━━━━━━━━━━━━━━━━\u001b[0m\u001b[37m\u001b[0m \u001b[1m0s\u001b[0m 35ms/step - loss: 2770992896.0000 - r2_score: 0.3804 - root_mean_squared_error: 52634.4609 - val_loss: 4032482304.0000 - val_r2_score: 0.3881 - val_root_mean_squared_error: 63501.8281\n",
      "Epoch 57/150\n",
      "\u001b[1m4/4\u001b[0m \u001b[32m━━━━━━━━━━━━━━━━━━━━\u001b[0m\u001b[37m\u001b[0m \u001b[1m0s\u001b[0m 33ms/step - loss: 2949725440.0000 - r2_score: 0.3843 - root_mean_squared_error: 54228.9531 - val_loss: 3901517312.0000 - val_r2_score: 0.4079 - val_root_mean_squared_error: 62462.1289\n",
      "Epoch 58/150\n",
      "\u001b[1m4/4\u001b[0m \u001b[32m━━━━━━━━━━━━━━━━━━━━\u001b[0m\u001b[37m\u001b[0m \u001b[1m0s\u001b[0m 32ms/step - loss: 2768791808.0000 - r2_score: 0.4012 - root_mean_squared_error: 52606.4023 - val_loss: 3778088192.0000 - val_r2_score: 0.4267 - val_root_mean_squared_error: 61466.1562\n",
      "Epoch 59/150\n",
      "\u001b[1m4/4\u001b[0m \u001b[32m━━━━━━━━━━━━━━━━━━━━\u001b[0m\u001b[37m\u001b[0m \u001b[1m0s\u001b[0m 32ms/step - loss: 2368304640.0000 - r2_score: 0.3800 - root_mean_squared_error: 48562.6562 - val_loss: 3697942528.0000 - val_r2_score: 0.4388 - val_root_mean_squared_error: 60810.7109\n",
      "Epoch 60/150\n",
      "\u001b[1m4/4\u001b[0m \u001b[32m━━━━━━━━━━━━━━━━━━━━\u001b[0m\u001b[37m\u001b[0m \u001b[1m0s\u001b[0m 32ms/step - loss: 2355987200.0000 - r2_score: 0.4381 - root_mean_squared_error: 48501.0820 - val_loss: 3570604288.0000 - val_r2_score: 0.4581 - val_root_mean_squared_error: 59754.5352\n",
      "Epoch 61/150\n",
      "\u001b[1m4/4\u001b[0m \u001b[32m━━━━━━━━━━━━━━━━━━━━\u001b[0m\u001b[37m\u001b[0m \u001b[1m0s\u001b[0m 33ms/step - loss: 2296936960.0000 - r2_score: 0.4159 - root_mean_squared_error: 47913.5117 - val_loss: 3461093888.0000 - val_r2_score: 0.4748 - val_root_mean_squared_error: 58831.0625\n",
      "Epoch 62/150\n",
      "\u001b[1m4/4\u001b[0m \u001b[32m━━━━━━━━━━━━━━━━━━━━\u001b[0m\u001b[37m\u001b[0m \u001b[1m0s\u001b[0m 32ms/step - loss: 2357360896.0000 - r2_score: 0.4214 - root_mean_squared_error: 48537.8320 - val_loss: 3309807104.0000 - val_r2_score: 0.4977 - val_root_mean_squared_error: 57530.9219\n",
      "Epoch 63/150\n",
      "\u001b[1m4/4\u001b[0m \u001b[32m━━━━━━━━━━━━━━━━━━━━\u001b[0m\u001b[37m\u001b[0m \u001b[1m0s\u001b[0m 34ms/step - loss: 2394130432.0000 - r2_score: 0.4639 - root_mean_squared_error: 48901.8242 - val_loss: 3126747904.0000 - val_r2_score: 0.5255 - val_root_mean_squared_error: 55917.3320\n",
      "Epoch 64/150\n",
      "\u001b[1m4/4\u001b[0m \u001b[32m━━━━━━━━━━━━━━━━━━━━\u001b[0m\u001b[37m\u001b[0m \u001b[1m0s\u001b[0m 33ms/step - loss: 1976403328.0000 - r2_score: 0.5121 - root_mean_squared_error: 44393.0508 - val_loss: 2963554304.0000 - val_r2_score: 0.5503 - val_root_mean_squared_error: 54438.5352\n",
      "Epoch 65/150\n",
      "\u001b[1m4/4\u001b[0m \u001b[32m━━━━━━━━━━━━━━━━━━━━\u001b[0m\u001b[37m\u001b[0m \u001b[1m0s\u001b[0m 37ms/step - loss: 2076651264.0000 - r2_score: 0.5252 - root_mean_squared_error: 45545.7188 - val_loss: 2806445568.0000 - val_r2_score: 0.5741 - val_root_mean_squared_error: 52975.8945\n",
      "Epoch 66/150\n",
      "\u001b[1m4/4\u001b[0m \u001b[32m━━━━━━━━━━━━━━━━━━━━\u001b[0m\u001b[37m\u001b[0m \u001b[1m0s\u001b[0m 40ms/step - loss: 1777231488.0000 - r2_score: 0.4933 - root_mean_squared_error: 42120.0898 - val_loss: 2678551552.0000 - val_r2_score: 0.5935 - val_root_mean_squared_error: 51754.7266\n",
      "Epoch 67/150\n",
      "\u001b[1m4/4\u001b[0m \u001b[32m━━━━━━━━━━━━━━━━━━━━\u001b[0m\u001b[37m\u001b[0m \u001b[1m0s\u001b[0m 33ms/step - loss: 1995100800.0000 - r2_score: 0.5608 - root_mean_squared_error: 44608.3828 - val_loss: 2485881344.0000 - val_r2_score: 0.6228 - val_root_mean_squared_error: 49858.6133\n",
      "Epoch 68/150\n",
      "\u001b[1m4/4\u001b[0m \u001b[32m━━━━━━━━━━━━━━━━━━━━\u001b[0m\u001b[37m\u001b[0m \u001b[1m0s\u001b[0m 32ms/step - loss: 1726279040.0000 - r2_score: 0.5893 - root_mean_squared_error: 41547.1836 - val_loss: 2310178304.0000 - val_r2_score: 0.6494 - val_root_mean_squared_error: 48064.3125\n",
      "Epoch 69/150\n",
      "\u001b[1m4/4\u001b[0m \u001b[32m━━━━━━━━━━━━━━━━━━━━\u001b[0m\u001b[37m\u001b[0m \u001b[1m0s\u001b[0m 33ms/step - loss: 1678138368.0000 - r2_score: 0.6137 - root_mean_squared_error: 40957.9922 - val_loss: 2135407872.0000 - val_r2_score: 0.6759 - val_root_mean_squared_error: 46210.4727\n",
      "Epoch 70/150\n",
      "\u001b[1m4/4\u001b[0m \u001b[32m━━━━━━━━━━━━━━━━━━━━\u001b[0m\u001b[37m\u001b[0m \u001b[1m0s\u001b[0m 34ms/step - loss: 1460461056.0000 - r2_score: 0.6247 - root_mean_squared_error: 38200.0352 - val_loss: 1982750464.0000 - val_r2_score: 0.6991 - val_root_mean_squared_error: 44528.0859\n",
      "Epoch 71/150\n",
      "\u001b[1m4/4\u001b[0m \u001b[32m━━━━━━━━━━━━━━━━━━━━\u001b[0m\u001b[37m\u001b[0m \u001b[1m0s\u001b[0m 35ms/step - loss: 1326507136.0000 - r2_score: 0.6661 - root_mean_squared_error: 36387.9023 - val_loss: 1818678784.0000 - val_r2_score: 0.7240 - val_root_mean_squared_error: 42645.9688\n",
      "Epoch 72/150\n",
      "\u001b[1m4/4\u001b[0m \u001b[32m━━━━━━━━━━━━━━━━━━━━\u001b[0m\u001b[37m\u001b[0m \u001b[1m0s\u001b[0m 34ms/step - loss: 1312630016.0000 - r2_score: 0.6885 - root_mean_squared_error: 36220.4062 - val_loss: 1651754368.0000 - val_r2_score: 0.7493 - val_root_mean_squared_error: 40641.7812\n",
      "Epoch 73/150\n",
      "\u001b[1m4/4\u001b[0m \u001b[32m━━━━━━━━━━━━━━━━━━━━\u001b[0m\u001b[37m\u001b[0m \u001b[1m0s\u001b[0m 35ms/step - loss: 1136136320.0000 - r2_score: 0.6986 - root_mean_squared_error: 33674.3555 - val_loss: 1493774464.0000 - val_r2_score: 0.7733 - val_root_mean_squared_error: 38649.3789\n",
      "Epoch 74/150\n",
      "\u001b[1m4/4\u001b[0m \u001b[32m━━━━━━━━━━━━━━━━━━━━\u001b[0m\u001b[37m\u001b[0m \u001b[1m0s\u001b[0m 34ms/step - loss: 1153099392.0000 - r2_score: 0.7422 - root_mean_squared_error: 33945.3281 - val_loss: 1324824320.0000 - val_r2_score: 0.7990 - val_root_mean_squared_error: 36398.1367\n",
      "Epoch 75/150\n",
      "\u001b[1m4/4\u001b[0m \u001b[32m━━━━━━━━━━━━━━━━━━━━\u001b[0m\u001b[37m\u001b[0m \u001b[1m0s\u001b[0m 33ms/step - loss: 915502336.0000 - r2_score: 0.7875 - root_mean_squared_error: 30218.4355 - val_loss: 1159554432.0000 - val_r2_score: 0.8240 - val_root_mean_squared_error: 34052.2305\n",
      "Epoch 76/150\n",
      "\u001b[1m4/4\u001b[0m \u001b[32m━━━━━━━━━━━━━━━━━━━━\u001b[0m\u001b[37m\u001b[0m \u001b[1m0s\u001b[0m 33ms/step - loss: 918489792.0000 - r2_score: 0.7941 - root_mean_squared_error: 30287.6348 - val_loss: 1020743872.0000 - val_r2_score: 0.8451 - val_root_mean_squared_error: 31949.0820\n",
      "Epoch 77/150\n",
      "\u001b[1m4/4\u001b[0m \u001b[32m━━━━━━━━━━━━━━━━━━━━\u001b[0m\u001b[37m\u001b[0m \u001b[1m0s\u001b[0m 32ms/step - loss: 776292608.0000 - r2_score: 0.8097 - root_mean_squared_error: 27843.3418 - val_loss: 891891712.0000 - val_r2_score: 0.8647 - val_root_mean_squared_error: 29864.5566\n",
      "Epoch 78/150\n",
      "\u001b[1m4/4\u001b[0m \u001b[32m━━━━━━━━━━━━━━━━━━━━\u001b[0m\u001b[37m\u001b[0m \u001b[1m0s\u001b[0m 32ms/step - loss: 730224320.0000 - r2_score: 0.8441 - root_mean_squared_error: 27005.0430 - val_loss: 767982080.0000 - val_r2_score: 0.8835 - val_root_mean_squared_error: 27712.4902\n",
      "Epoch 79/150\n",
      "\u001b[1m4/4\u001b[0m \u001b[32m━━━━━━━━━━━━━━━━━━━━\u001b[0m\u001b[37m\u001b[0m \u001b[1m0s\u001b[0m 33ms/step - loss: 575793728.0000 - r2_score: 0.8742 - root_mean_squared_error: 23992.0098 - val_loss: 658246592.0000 - val_r2_score: 0.9001 - val_root_mean_squared_error: 25656.3164\n",
      "Epoch 80/150\n",
      "\u001b[1m4/4\u001b[0m \u001b[32m━━━━━━━━━━━━━━━━━━━━\u001b[0m\u001b[37m\u001b[0m \u001b[1m0s\u001b[0m 33ms/step - loss: 574441856.0000 - r2_score: 0.8743 - root_mean_squared_error: 23934.4199 - val_loss: 560735360.0000 - val_r2_score: 0.9149 - val_root_mean_squared_error: 23679.8516\n",
      "Epoch 81/150\n",
      "\u001b[1m4/4\u001b[0m \u001b[32m━━━━━━━━━━━━━━━━━━━━\u001b[0m\u001b[37m\u001b[0m \u001b[1m0s\u001b[0m 37ms/step - loss: 426578816.0000 - r2_score: 0.9060 - root_mean_squared_error: 20647.9473 - val_loss: 473466816.0000 - val_r2_score: 0.9281 - val_root_mean_squared_error: 21759.2930\n",
      "Epoch 82/150\n",
      "\u001b[1m4/4\u001b[0m \u001b[32m━━━━━━━━━━━━━━━━━━━━\u001b[0m\u001b[37m\u001b[0m \u001b[1m0s\u001b[0m 36ms/step - loss: 362722496.0000 - r2_score: 0.9194 - root_mean_squared_error: 19036.6250 - val_loss: 396999040.0000 - val_r2_score: 0.9398 - val_root_mean_squared_error: 19924.8340\n",
      "Epoch 83/150\n",
      "\u001b[1m4/4\u001b[0m \u001b[32m━━━━━━━━━━━━━━━━━━━━\u001b[0m\u001b[37m\u001b[0m \u001b[1m0s\u001b[0m 34ms/step - loss: 344900768.0000 - r2_score: 0.9264 - root_mean_squared_error: 18548.3613 - val_loss: 333305312.0000 - val_r2_score: 0.9494 - val_root_mean_squared_error: 18256.6504\n",
      "Epoch 84/150\n",
      "\u001b[1m4/4\u001b[0m \u001b[32m━━━━━━━━━━━━━━━━━━━━\u001b[0m\u001b[37m\u001b[0m \u001b[1m0s\u001b[0m 33ms/step - loss: 284359616.0000 - r2_score: 0.9406 - root_mean_squared_error: 16852.1836 - val_loss: 283184864.0000 - val_r2_score: 0.9570 - val_root_mean_squared_error: 16828.0977\n",
      "Epoch 85/150\n",
      "\u001b[1m4/4\u001b[0m \u001b[32m━━━━━━━━━━━━━━━━━━━━\u001b[0m\u001b[37m\u001b[0m \u001b[1m0s\u001b[0m 38ms/step - loss: 231082560.0000 - r2_score: 0.9424 - root_mean_squared_error: 15188.9639 - val_loss: 245593792.0000 - val_r2_score: 0.9627 - val_root_mean_squared_error: 15671.4326\n",
      "Epoch 86/150\n",
      "\u001b[1m4/4\u001b[0m \u001b[32m━━━━━━━━━━━━━━━━━━━━\u001b[0m\u001b[37m\u001b[0m \u001b[1m0s\u001b[0m 35ms/step - loss: 191807216.0000 - r2_score: 0.9556 - root_mean_squared_error: 13848.2676 - val_loss: 214268992.0000 - val_r2_score: 0.9675 - val_root_mean_squared_error: 14637.9297\n",
      "Epoch 87/150\n",
      "\u001b[1m4/4\u001b[0m \u001b[32m━━━━━━━━━━━━━━━━━━━━\u001b[0m\u001b[37m\u001b[0m \u001b[1m0s\u001b[0m 33ms/step - loss: 165102480.0000 - r2_score: 0.9645 - root_mean_squared_error: 12848.1592 - val_loss: 189059760.0000 - val_r2_score: 0.9713 - val_root_mean_squared_error: 13749.9004\n",
      "Epoch 88/150\n",
      "\u001b[1m4/4\u001b[0m \u001b[32m━━━━━━━━━━━━━━━━━━━━\u001b[0m\u001b[37m\u001b[0m \u001b[1m0s\u001b[0m 32ms/step - loss: 133750616.0000 - r2_score: 0.9689 - root_mean_squared_error: 11557.0732 - val_loss: 171968576.0000 - val_r2_score: 0.9739 - val_root_mean_squared_error: 13113.6787\n",
      "Epoch 89/150\n",
      "\u001b[1m4/4\u001b[0m \u001b[32m━━━━━━━━━━━━━━━━━━━━\u001b[0m\u001b[37m\u001b[0m \u001b[1m0s\u001b[0m 32ms/step - loss: 117452192.0000 - r2_score: 0.9690 - root_mean_squared_error: 10835.8477 - val_loss: 158723200.0000 - val_r2_score: 0.9759 - val_root_mean_squared_error: 12598.5400\n",
      "Epoch 90/150\n",
      "\u001b[1m4/4\u001b[0m \u001b[32m━━━━━━━━━━━━━━━━━━━━\u001b[0m\u001b[37m\u001b[0m \u001b[1m0s\u001b[0m 33ms/step - loss: 110919784.0000 - r2_score: 0.9751 - root_mean_squared_error: 10528.5469 - val_loss: 147298176.0000 - val_r2_score: 0.9776 - val_root_mean_squared_error: 12136.6455\n",
      "Epoch 91/150\n",
      "\u001b[1m4/4\u001b[0m \u001b[32m━━━━━━━━━━━━━━━━━━━━\u001b[0m\u001b[37m\u001b[0m \u001b[1m0s\u001b[0m 32ms/step - loss: 91011776.0000 - r2_score: 0.9766 - root_mean_squared_error: 9535.3320 - val_loss: 140297584.0000 - val_r2_score: 0.9787 - val_root_mean_squared_error: 11844.7285\n",
      "Epoch 92/150\n",
      "\u001b[1m4/4\u001b[0m \u001b[32m━━━━━━━━━━━━━━━━━━━━\u001b[0m\u001b[37m\u001b[0m \u001b[1m0s\u001b[0m 33ms/step - loss: 78125784.0000 - r2_score: 0.9772 - root_mean_squared_error: 8794.7637 - val_loss: 134637568.0000 - val_r2_score: 0.9796 - val_root_mean_squared_error: 11603.3428\n",
      "Epoch 93/150\n",
      "\u001b[1m4/4\u001b[0m \u001b[32m━━━━━━━━━━━━━━━━━━━━\u001b[0m\u001b[37m\u001b[0m \u001b[1m0s\u001b[0m 33ms/step - loss: 76809856.0000 - r2_score: 0.9814 - root_mean_squared_error: 8753.1963 - val_loss: 130064312.0000 - val_r2_score: 0.9803 - val_root_mean_squared_error: 11404.5742\n",
      "Epoch 94/150\n",
      "\u001b[1m4/4\u001b[0m \u001b[32m━━━━━━━━━━━━━━━━━━━━\u001b[0m\u001b[37m\u001b[0m \u001b[1m0s\u001b[0m 32ms/step - loss: 77294424.0000 - r2_score: 0.9818 - root_mean_squared_error: 8774.2695 - val_loss: 126411712.0000 - val_r2_score: 0.9808 - val_root_mean_squared_error: 11243.2959\n",
      "Epoch 95/150\n",
      "\u001b[1m4/4\u001b[0m \u001b[32m━━━━━━━━━━━━━━━━━━━━\u001b[0m\u001b[37m\u001b[0m \u001b[1m0s\u001b[0m 33ms/step - loss: 68415768.0000 - r2_score: 0.9857 - root_mean_squared_error: 8268.8047 - val_loss: 123489968.0000 - val_r2_score: 0.9813 - val_root_mean_squared_error: 11112.6045\n",
      "Epoch 96/150\n",
      "\u001b[1m4/4\u001b[0m \u001b[32m━━━━━━━━━━━━━━━━━━━━\u001b[0m\u001b[37m\u001b[0m \u001b[1m0s\u001b[0m 33ms/step - loss: 53563196.0000 - r2_score: 0.9851 - root_mean_squared_error: 7226.9697 - val_loss: 122386480.0000 - val_r2_score: 0.9814 - val_root_mean_squared_error: 11062.8428\n",
      "Epoch 97/150\n",
      "\u001b[1m4/4\u001b[0m \u001b[32m━━━━━━━━━━━━━━━━━━━━\u001b[0m\u001b[37m\u001b[0m \u001b[1m0s\u001b[0m 37ms/step - loss: 71137608.0000 - r2_score: 0.9851 - root_mean_squared_error: 8408.5332 - val_loss: 122223312.0000 - val_r2_score: 0.9815 - val_root_mean_squared_error: 11055.4648\n",
      "Epoch 98/150\n",
      "\u001b[1m4/4\u001b[0m \u001b[32m━━━━━━━━━━━━━━━━━━━━\u001b[0m\u001b[37m\u001b[0m \u001b[1m0s\u001b[0m 33ms/step - loss: 55865508.0000 - r2_score: 0.9877 - root_mean_squared_error: 7469.7290 - val_loss: 120842136.0000 - val_r2_score: 0.9817 - val_root_mean_squared_error: 10992.8223\n",
      "Epoch 99/150\n",
      "\u001b[1m4/4\u001b[0m \u001b[32m━━━━━━━━━━━━━━━━━━━━\u001b[0m\u001b[37m\u001b[0m \u001b[1m0s\u001b[0m 34ms/step - loss: 54719296.0000 - r2_score: 0.9877 - root_mean_squared_error: 7381.0610 - val_loss: 119732328.0000 - val_r2_score: 0.9818 - val_root_mean_squared_error: 10942.2266\n",
      "Epoch 100/150\n",
      "\u001b[1m4/4\u001b[0m \u001b[32m━━━━━━━━━━━━━━━━━━━━\u001b[0m\u001b[37m\u001b[0m \u001b[1m0s\u001b[0m 33ms/step - loss: 61556320.0000 - r2_score: 0.9862 - root_mean_squared_error: 7829.7158 - val_loss: 118685152.0000 - val_r2_score: 0.9820 - val_root_mean_squared_error: 10894.2715\n",
      "Epoch 101/150\n",
      "\u001b[1m4/4\u001b[0m \u001b[32m━━━━━━━━━━━━━━━━━━━━\u001b[0m\u001b[37m\u001b[0m \u001b[1m0s\u001b[0m 34ms/step - loss: 47469836.0000 - r2_score: 0.9886 - root_mean_squared_error: 6880.4438 - val_loss: 117424256.0000 - val_r2_score: 0.9822 - val_root_mean_squared_error: 10836.2471\n",
      "Epoch 102/150\n",
      "\u001b[1m4/4\u001b[0m \u001b[32m━━━━━━━━━━━━━━━━━━━━\u001b[0m\u001b[37m\u001b[0m \u001b[1m0s\u001b[0m 32ms/step - loss: 49810800.0000 - r2_score: 0.9884 - root_mean_squared_error: 7014.1421 - val_loss: 116604496.0000 - val_r2_score: 0.9823 - val_root_mean_squared_error: 10798.3564\n",
      "Epoch 103/150\n",
      "\u001b[1m4/4\u001b[0m \u001b[32m━━━━━━━━━━━━━━━━━━━━\u001b[0m\u001b[37m\u001b[0m \u001b[1m0s\u001b[0m 38ms/step - loss: 54300736.0000 - r2_score: 0.9868 - root_mean_squared_error: 7354.7896 - val_loss: 116096472.0000 - val_r2_score: 0.9824 - val_root_mean_squared_error: 10774.8076\n",
      "Epoch 104/150\n",
      "\u001b[1m4/4\u001b[0m \u001b[32m━━━━━━━━━━━━━━━━━━━━\u001b[0m\u001b[37m\u001b[0m \u001b[1m0s\u001b[0m 33ms/step - loss: 59886720.0000 - r2_score: 0.9867 - root_mean_squared_error: 7716.0952 - val_loss: 115613104.0000 - val_r2_score: 0.9825 - val_root_mean_squared_error: 10752.3535\n",
      "Epoch 105/150\n",
      "\u001b[1m4/4\u001b[0m \u001b[32m━━━━━━━━━━━━━━━━━━━━\u001b[0m\u001b[37m\u001b[0m \u001b[1m0s\u001b[0m 32ms/step - loss: 54702812.0000 - r2_score: 0.9881 - root_mean_squared_error: 7363.5933 - val_loss: 115410864.0000 - val_r2_score: 0.9825 - val_root_mean_squared_error: 10742.9453\n",
      "Epoch 106/150\n",
      "\u001b[1m4/4\u001b[0m \u001b[32m━━━━━━━━━━━━━━━━━━━━\u001b[0m\u001b[37m\u001b[0m \u001b[1m0s\u001b[0m 22ms/step - loss: 56157120.0000 - r2_score: 0.9872 - root_mean_squared_error: 7461.8228 - val_loss: 115582048.0000 - val_r2_score: 0.9825 - val_root_mean_squared_error: 10750.9092\n",
      "Epoch 107/150\n",
      "\u001b[1m4/4\u001b[0m \u001b[32m━━━━━━━━━━━━━━━━━━━━\u001b[0m\u001b[37m\u001b[0m \u001b[1m0s\u001b[0m 22ms/step - loss: 50953944.0000 - r2_score: 0.9880 - root_mean_squared_error: 7134.8438 - val_loss: 116697656.0000 - val_r2_score: 0.9823 - val_root_mean_squared_error: 10802.6689\n",
      "Epoch 108/150\n",
      "\u001b[1m4/4\u001b[0m \u001b[32m━━━━━━━━━━━━━━━━━━━━\u001b[0m\u001b[37m\u001b[0m \u001b[1m0s\u001b[0m 22ms/step - loss: 39358008.0000 - r2_score: 0.9903 - root_mean_squared_error: 6222.7837 - val_loss: 116677568.0000 - val_r2_score: 0.9823 - val_root_mean_squared_error: 10801.7393\n",
      "Epoch 109/150\n",
      "\u001b[1m4/4\u001b[0m \u001b[32m━━━━━━━━━━━━━━━━━━━━\u001b[0m\u001b[37m\u001b[0m \u001b[1m0s\u001b[0m 22ms/step - loss: 40327736.0000 - r2_score: 0.9893 - root_mean_squared_error: 6331.6211 - val_loss: 116288480.0000 - val_r2_score: 0.9824 - val_root_mean_squared_error: 10783.7139\n",
      "Epoch 110/150\n",
      "\u001b[1m4/4\u001b[0m \u001b[32m━━━━━━━━━━━━━━━━━━━━\u001b[0m\u001b[37m\u001b[0m \u001b[1m0s\u001b[0m 23ms/step - loss: 53447240.0000 - r2_score: 0.9883 - root_mean_squared_error: 7287.4150 - val_loss: 115881136.0000 - val_r2_score: 0.9824 - val_root_mean_squared_error: 10764.8105\n"
     ]
    }
   ],
   "source": [
    "history = model_keras.fit(X_train, y_train,\n",
    "                epochs=150,\n",
    "                batch_size=32,\n",
    "                validation_data=(X_test, y_test),\n",
    "                callbacks=callbacks)"
   ]
  },
  {
   "cell_type": "code",
   "execution_count": 27,
   "metadata": {},
   "outputs": [
    {
     "name": "stdout",
     "output_type": "stream",
     "text": [
      "\u001b[1m4/4\u001b[0m \u001b[32m━━━━━━━━━━━━━━━━━━━━\u001b[0m\u001b[37m\u001b[0m \u001b[1m0s\u001b[0m 19ms/step\n",
      "\u001b[1m1/1\u001b[0m \u001b[32m━━━━━━━━━━━━━━━━━━━━\u001b[0m\u001b[37m\u001b[0m \u001b[1m0s\u001b[0m 30ms/step\n"
     ]
    }
   ],
   "source": [
    "predict_keras_train = model_keras.predict(X_train)\n",
    "predict_keras_test = model_keras.predict(X_test)"
   ]
  },
  {
   "cell_type": "code",
   "execution_count": 28,
   "metadata": {},
   "outputs": [
    {
     "data": {
      "text/plain": [
       "Text(0.5, 0, 'Rendimentos')"
      ]
     },
     "execution_count": 28,
     "metadata": {},
     "output_type": "execute_result"
    },
    {
     "data": {
      "image/png": "[encoded data removed]",
      "text/plain": [
       "<Figure size 640x480 with 1 Axes>"
      ]
     },
     "metadata": {},
     "output_type": "display_data"
    }
   ],
   "source": [
    "resid_train = y_train - predict_keras_train.reshape(-1) # flatten() tbm funciona para reduzir as dimensões do array\n",
    "resid_test = y_test - predict_keras_test.reshape(-1)\n",
    "\n",
    "sns.scatterplot(x=y_train, y=resid_train)\n",
    "sns.scatterplot(x=y_test, y=resid_test)\n",
    "plt.title(\"Gráfico de Resíduos\")\n",
    "plt.ylabel(\"Resíduos\")\n",
    "plt.xlabel(\"Rendimentos\")"
   ]
  }
 ],
 "metadata": {
  "kernelspec": {
   "display_name": "Python 3",
   "language": "python",
   "name": "python3"
  },
  "language_info": {
   "codemirror_mode": {
    "name": "ipython",
    "version": 3
   },
   "file_extension": ".py",
   "mimetype": "text/x-python",
   "name": "python",
   "nbconvert_exporter": "python",
   "pygments_lexer": "ipython3",
   "version": "3.10.10"
  }
 },
 "nbformat": 4,
 "nbformat_minor": 2
}
