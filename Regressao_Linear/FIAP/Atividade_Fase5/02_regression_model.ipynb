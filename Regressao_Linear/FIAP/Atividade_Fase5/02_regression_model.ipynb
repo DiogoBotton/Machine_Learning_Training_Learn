{
 "cells": [
  {
   "cell_type": "code",
   "execution_count": 1,
   "metadata": {},
   "outputs": [],
   "source": [
    "import pandas as pd\n",
    "import seaborn as sns\n",
    "import matplotlib.pyplot as plt\n",
    "import numpy as np\n",
    "\n",
    "from sklearn.preprocessing import MinMaxScaler\n",
    "from sklearn.model_selection import train_test_split, cross_val_score, cross_validate, KFold\n",
    "from sklearn.metrics import mean_squared_error, r2_score\n",
    "\n",
    "from sklearn.ensemble import RandomForestRegressor, BaggingRegressor, StackingRegressor, VotingRegressor\n",
    "from sklearn.linear_model import LinearRegression\n",
    "from sklearn.tree import DecisionTreeRegressor\n",
    "from sklearn.svm import SVR\n",
    "from sklearn.neighbors import KNeighborsRegressor\n",
    "from xgboost import XGBRegressor\n",
    "\n",
    "from sklearn.pipeline import Pipeline\n",
    "\n",
    "import keras\n",
    "\n",
    "import joblib"
   ]
  },
  {
   "cell_type": "code",
   "execution_count": 2,
   "metadata": {},
   "outputs": [
    {
     "data": {
      "text/html": [
       "<div>\n",
       "<style scoped>\n",
       "    .dataframe tbody tr th:only-of-type {\n",
       "        vertical-align: middle;\n",
       "    }\n",
       "\n",
       "    .dataframe tbody tr th {\n",
       "        vertical-align: top;\n",
       "    }\n",
       "\n",
       "    .dataframe thead th {\n",
       "        text-align: right;\n",
       "    }\n",
       "</style>\n",
       "<table border=\"1\" class=\"dataframe\">\n",
       "  <thead>\n",
       "    <tr style=\"text-align: right;\">\n",
       "      <th></th>\n",
       "      <th>Crop</th>\n",
       "      <th>Precipitation</th>\n",
       "      <th>SpecificHumidity_g_kg</th>\n",
       "      <th>RelativeHumidity_%</th>\n",
       "      <th>Temperature_C</th>\n",
       "      <th>Yield</th>\n",
       "    </tr>\n",
       "  </thead>\n",
       "  <tbody>\n",
       "    <tr>\n",
       "      <th>0</th>\n",
       "      <td>Cocoa, beans</td>\n",
       "      <td>2248.92</td>\n",
       "      <td>17.72</td>\n",
       "      <td>83.40</td>\n",
       "      <td>26.01</td>\n",
       "      <td>11560</td>\n",
       "    </tr>\n",
       "    <tr>\n",
       "      <th>1</th>\n",
       "      <td>Cocoa, beans</td>\n",
       "      <td>1938.42</td>\n",
       "      <td>17.54</td>\n",
       "      <td>82.11</td>\n",
       "      <td>26.11</td>\n",
       "      <td>11253</td>\n",
       "    </tr>\n",
       "    <tr>\n",
       "      <th>2</th>\n",
       "      <td>Cocoa, beans</td>\n",
       "      <td>2301.54</td>\n",
       "      <td>17.81</td>\n",
       "      <td>82.79</td>\n",
       "      <td>26.24</td>\n",
       "      <td>9456</td>\n",
       "    </tr>\n",
       "    <tr>\n",
       "      <th>3</th>\n",
       "      <td>Cocoa, beans</td>\n",
       "      <td>2592.35</td>\n",
       "      <td>17.61</td>\n",
       "      <td>85.07</td>\n",
       "      <td>25.56</td>\n",
       "      <td>9321</td>\n",
       "    </tr>\n",
       "    <tr>\n",
       "      <th>4</th>\n",
       "      <td>Cocoa, beans</td>\n",
       "      <td>2344.72</td>\n",
       "      <td>17.61</td>\n",
       "      <td>84.12</td>\n",
       "      <td>25.76</td>\n",
       "      <td>8800</td>\n",
       "    </tr>\n",
       "  </tbody>\n",
       "</table>\n",
       "</div>"
      ],
      "text/plain": [
       "           Crop  Precipitation  SpecificHumidity_g_kg  RelativeHumidity_%  \\\n",
       "0  Cocoa, beans        2248.92                  17.72               83.40   \n",
       "1  Cocoa, beans        1938.42                  17.54               82.11   \n",
       "2  Cocoa, beans        2301.54                  17.81               82.79   \n",
       "3  Cocoa, beans        2592.35                  17.61               85.07   \n",
       "4  Cocoa, beans        2344.72                  17.61               84.12   \n",
       "\n",
       "   Temperature_C  Yield  \n",
       "0          26.01  11560  \n",
       "1          26.11  11253  \n",
       "2          26.24   9456  \n",
       "3          25.56   9321  \n",
       "4          25.76   8800  "
      ]
     },
     "execution_count": 2,
     "metadata": {},
     "output_type": "execute_result"
    }
   ],
   "source": [
    "df = pd.read_csv('crop_yield.csv')\n",
    "df.head()"
   ]
  },
  {
   "cell_type": "markdown",
   "metadata": {},
   "source": [
    "### Pré-Processamento dos dados\n",
    "\n",
    "Como já realizamos a análise exploratória dos dados, podemos partir para a preparação dos dados para o algoritmo de Machine Learning."
   ]
  },
  {
   "cell_type": "markdown",
   "metadata": {},
   "source": [
    "**Tratamento dos dados categóricos**\n",
    "\n",
    "O parâmetro *drop-first=True* serve para evitar multicolinearidade entre os dados, ou seja, variáveis que se correlacionam entre si."
   ]
  },
  {
   "cell_type": "code",
   "execution_count": 3,
   "metadata": {},
   "outputs": [],
   "source": [
    "df = pd.get_dummies(df, columns=['Crop'], drop_first=True)"
   ]
  },
  {
   "cell_type": "markdown",
   "metadata": {},
   "source": [
    "**Combinação das 2 features de humidade**"
   ]
  },
  {
   "cell_type": "code",
   "execution_count": 4,
   "metadata": {},
   "outputs": [
    {
     "data": {
      "text/html": [
       "<div>\n",
       "<style scoped>\n",
       "    .dataframe tbody tr th:only-of-type {\n",
       "        vertical-align: middle;\n",
       "    }\n",
       "\n",
       "    .dataframe tbody tr th {\n",
       "        vertical-align: top;\n",
       "    }\n",
       "\n",
       "    .dataframe thead th {\n",
       "        text-align: right;\n",
       "    }\n",
       "</style>\n",
       "<table border=\"1\" class=\"dataframe\">\n",
       "  <thead>\n",
       "    <tr style=\"text-align: right;\">\n",
       "      <th></th>\n",
       "      <th>Precipitation</th>\n",
       "      <th>Temperature_C</th>\n",
       "      <th>Yield</th>\n",
       "      <th>Crop_Oil palm fruit</th>\n",
       "      <th>Crop_Rice, paddy</th>\n",
       "      <th>Crop_Rubber, natural</th>\n",
       "      <th>HumidityCombined</th>\n",
       "    </tr>\n",
       "  </thead>\n",
       "  <tbody>\n",
       "    <tr>\n",
       "      <th>0</th>\n",
       "      <td>2248.92</td>\n",
       "      <td>26.01</td>\n",
       "      <td>11560</td>\n",
       "      <td>False</td>\n",
       "      <td>False</td>\n",
       "      <td>False</td>\n",
       "      <td>1477.8480</td>\n",
       "    </tr>\n",
       "    <tr>\n",
       "      <th>1</th>\n",
       "      <td>1938.42</td>\n",
       "      <td>26.11</td>\n",
       "      <td>11253</td>\n",
       "      <td>False</td>\n",
       "      <td>False</td>\n",
       "      <td>False</td>\n",
       "      <td>1440.2094</td>\n",
       "    </tr>\n",
       "    <tr>\n",
       "      <th>2</th>\n",
       "      <td>2301.54</td>\n",
       "      <td>26.24</td>\n",
       "      <td>9456</td>\n",
       "      <td>False</td>\n",
       "      <td>False</td>\n",
       "      <td>False</td>\n",
       "      <td>1474.4899</td>\n",
       "    </tr>\n",
       "    <tr>\n",
       "      <th>3</th>\n",
       "      <td>2592.35</td>\n",
       "      <td>25.56</td>\n",
       "      <td>9321</td>\n",
       "      <td>False</td>\n",
       "      <td>False</td>\n",
       "      <td>False</td>\n",
       "      <td>1498.0827</td>\n",
       "    </tr>\n",
       "    <tr>\n",
       "      <th>4</th>\n",
       "      <td>2344.72</td>\n",
       "      <td>25.76</td>\n",
       "      <td>8800</td>\n",
       "      <td>False</td>\n",
       "      <td>False</td>\n",
       "      <td>False</td>\n",
       "      <td>1481.3532</td>\n",
       "    </tr>\n",
       "  </tbody>\n",
       "</table>\n",
       "</div>"
      ],
      "text/plain": [
       "   Precipitation  Temperature_C  Yield  Crop_Oil palm fruit  Crop_Rice, paddy  \\\n",
       "0        2248.92          26.01  11560                False             False   \n",
       "1        1938.42          26.11  11253                False             False   \n",
       "2        2301.54          26.24   9456                False             False   \n",
       "3        2592.35          25.56   9321                False             False   \n",
       "4        2344.72          25.76   8800                False             False   \n",
       "\n",
       "   Crop_Rubber, natural  HumidityCombined  \n",
       "0                 False         1477.8480  \n",
       "1                 False         1440.2094  \n",
       "2                 False         1474.4899  \n",
       "3                 False         1498.0827  \n",
       "4                 False         1481.3532  "
      ]
     },
     "execution_count": 4,
     "metadata": {},
     "output_type": "execute_result"
    }
   ],
   "source": [
    "df['HumidityCombined'] = df['RelativeHumidity_%'] * df['SpecificHumidity_g_kg'] # Combinação das features\n",
    "\n",
    "df.drop(['SpecificHumidity_g_kg', 'RelativeHumidity_%'], axis=1, inplace=True) # Excluindo valores de humidade anteriores\n",
    "df.head()"
   ]
  },
  {
   "cell_type": "markdown",
   "metadata": {},
   "source": [
    "**Separando variáveis independentes (X) da variável dependente (y)**"
   ]
  },
  {
   "cell_type": "code",
   "execution_count": 5,
   "metadata": {},
   "outputs": [],
   "source": [
    "X = df[['Crop_Oil palm fruit', 'Crop_Rice, paddy', 'Precipitation', 'HumidityCombined', 'Temperature_C']]\n",
    "y = df['Yield']"
   ]
  },
  {
   "cell_type": "markdown",
   "metadata": {},
   "source": [
    "**Separação dos dados em treino e teste**\n",
    "\n",
    "Método HoldOut, porém também faremos validação cruzada."
   ]
  },
  {
   "cell_type": "code",
   "execution_count": 6,
   "metadata": {},
   "outputs": [],
   "source": [
    "SEED = 80\n",
    "\n",
    "X_train, X_test, y_train, y_test = train_test_split(X, y, test_size=0.2, random_state=SEED)"
   ]
  },
  {
   "cell_type": "markdown",
   "metadata": {},
   "source": [
    "**Normalização**"
   ]
  },
  {
   "cell_type": "code",
   "execution_count": 7,
   "metadata": {},
   "outputs": [],
   "source": [
    "normalization = MinMaxScaler()\n",
    "\n",
    "X_train = normalization.fit_transform(X_train)\n",
    "X_test = normalization.transform(X_test)"
   ]
  },
  {
   "cell_type": "markdown",
   "metadata": {},
   "source": [
    "### Treinamento com vários modelos"
   ]
  },
  {
   "cell_type": "code",
   "execution_count": 8,
   "metadata": {},
   "outputs": [],
   "source": [
    "def view_scores(y_true, y_pred, title):\n",
    "    mse = mean_squared_error(y_true, y_pred)\n",
    "    r2 = r2_score(y_true, y_pred)\n",
    "\n",
    "    print(title)\n",
    "    print(f'MSE: {mse}')\n",
    "    print(f'RMSE: {np.sqrt(mse)}')\n",
    "    print(f'R² Score: {r2*100:.2f}')"
   ]
  },
  {
   "cell_type": "code",
   "execution_count": 9,
   "metadata": {},
   "outputs": [],
   "source": [
    "def cros_validate_view_scores(results):\n",
    "   mse_scores = -results['test_neg_mean_squared_error'].mean() # Realiza a média e converte para valores positivos\n",
    "   r2_scores = results['test_r2'].mean() # Realiza a média e converte para valores positivos\n",
    "   \n",
    "   print(f'MSE: {mse_scores}')\n",
    "   print(f'RMSE: {np.sqrt(mse_scores)}')\n",
    "   print(f'R²: {r2_scores}')"
   ]
  },
  {
   "cell_type": "code",
   "execution_count": 10,
   "metadata": {},
   "outputs": [],
   "source": [
    "kfold = KFold(n_splits=10, shuffle=True, random_state=SEED)"
   ]
  },
  {
   "cell_type": "markdown",
   "metadata": {},
   "source": [
    "#### Modelo Baseline"
   ]
  },
  {
   "cell_type": "code",
   "execution_count": 11,
   "metadata": {},
   "outputs": [
    {
     "name": "stdout",
     "output_type": "stream",
     "text": [
      "Modelo Baseline (Logistic Regression)\n",
      "MSE: 104920296.4095226\n",
      "RMSE: 10243.060890648\n",
      "R² Score: 98.41\n"
     ]
    }
   ],
   "source": [
    "model_lr = LinearRegression()\n",
    "model_lr.fit(X_train, y_train)\n",
    "\n",
    "model_lr_predict = model_lr.predict(X_test)\n",
    "view_scores(y_test, model_lr_predict, 'Modelo Baseline (Logistic Regression)')"
   ]
  },
  {
   "cell_type": "markdown",
   "metadata": {},
   "source": [
    "**Validação cruzada**\n",
    "\n",
    "OBS: Para problemas de regressão, é necessário utilizar o KFold."
   ]
  },
  {
   "cell_type": "code",
   "execution_count": 12,
   "metadata": {},
   "outputs": [
    {
     "name": "stdout",
     "output_type": "stream",
     "text": [
      "MSE: 63796420.58010224\n",
      "RMSE: 7987.266151825807\n",
      "R²: 0.9857091410803847\n"
     ]
    }
   ],
   "source": [
    "pipeline_lr = Pipeline([\n",
    "    ('scaler', MinMaxScaler()),\n",
    "    ('estimator', LinearRegression())\n",
    "])\n",
    "\n",
    "results_lr = cross_validate(pipeline_lr, X, y,\n",
    "                            cv=kfold,\n",
    "                            scoring=['neg_mean_squared_error', 'r2'])\n",
    "cros_validate_view_scores(results_lr)"
   ]
  },
  {
   "cell_type": "markdown",
   "metadata": {},
   "source": [
    "#### Voting Regressor"
   ]
  },
  {
   "cell_type": "code",
   "execution_count": 13,
   "metadata": {},
   "outputs": [
    {
     "name": "stdout",
     "output_type": "stream",
     "text": [
      "Voting Regressor\n",
      "MSE: 569867124.5275605\n",
      "RMSE: 23871.889839884076\n",
      "R² Score: 91.35\n"
     ]
    }
   ],
   "source": [
    "base_models = [\n",
    "    ('dt', DecisionTreeRegressor(random_state=SEED)),\n",
    "    ('rt', RandomForestRegressor(n_estimators=100, random_state=SEED)),\n",
    "    ('knn', KNeighborsRegressor()),\n",
    "    ('svc', SVR()),\n",
    "    ('lr', LinearRegression())\n",
    "]\n",
    "\n",
    "model_bg = VotingRegressor(estimators=base_models)\n",
    "model_bg.fit(X_train, y_train)\n",
    "\n",
    "model_bg_predict = model_bg.predict(X_test)\n",
    "view_scores(y_test, model_bg_predict, 'Voting Regressor')"
   ]
  },
  {
   "cell_type": "markdown",
   "metadata": {},
   "source": [
    "**Validação Cruzada**"
   ]
  },
  {
   "cell_type": "code",
   "execution_count": 14,
   "metadata": {},
   "outputs": [
    {
     "name": "stdout",
     "output_type": "stream",
     "text": [
      "MSE: 326629122.63104314\n",
      "RMSE: 18072.88362799482\n",
      "R²: 0.9347059551639847\n"
     ]
    }
   ],
   "source": [
    "pipeline_vt = Pipeline([\n",
    "    ('scaler', MinMaxScaler()),\n",
    "    ('estimator', VotingRegressor(estimators=base_models))\n",
    "])\n",
    "\n",
    "results_vt = cross_validate(pipeline_vt, X, y,\n",
    "                            cv=kfold,\n",
    "                            scoring=['neg_mean_squared_error', 'r2'])\n",
    "cros_validate_view_scores(results_vt)"
   ]
  },
  {
   "cell_type": "markdown",
   "metadata": {},
   "source": [
    "#### Stacking"
   ]
  },
  {
   "cell_type": "code",
   "execution_count": 15,
   "metadata": {},
   "outputs": [
    {
     "name": "stdout",
     "output_type": "stream",
     "text": [
      "Stacking\n",
      "MSE: 206480760.59375\n",
      "RMSE: 14369.438423047366\n",
      "R² Score: 96.87\n"
     ]
    }
   ],
   "source": [
    "model_st = StackingRegressor(estimators=base_models,\n",
    "                             final_estimator=DecisionTreeRegressor(random_state=SEED))\n",
    "model_st.fit(X_train, y_train)\n",
    "\n",
    "model_st_predict = model_st.predict(X_test)\n",
    "view_scores(y_test, model_st_predict, 'Stacking')"
   ]
  },
  {
   "cell_type": "markdown",
   "metadata": {},
   "source": [
    "**Validação Cruzada**"
   ]
  },
  {
   "cell_type": "code",
   "execution_count": 16,
   "metadata": {},
   "outputs": [
    {
     "name": "stdout",
     "output_type": "stream",
     "text": [
      "MSE: 144103160.73208332\n",
      "RMSE: 12004.297594281947\n",
      "R²: 0.9713342627873043\n"
     ]
    }
   ],
   "source": [
    "pipeline_stc = Pipeline([\n",
    "    ('scaler', MinMaxScaler()),\n",
    "    ('estimator', StackingRegressor(estimators=base_models,\n",
    "                             final_estimator=DecisionTreeRegressor(random_state=SEED)))\n",
    "])\n",
    "\n",
    "results_stc = cross_validate(pipeline_stc, X, y,\n",
    "                            cv=kfold,\n",
    "                            scoring=['neg_mean_squared_error', 'r2'])\n",
    "cros_validate_view_scores(results_stc)"
   ]
  },
  {
   "cell_type": "markdown",
   "metadata": {},
   "source": [
    "#### Floresta Aleatória"
   ]
  },
  {
   "cell_type": "code",
   "execution_count": 17,
   "metadata": {},
   "outputs": [
    {
     "name": "stdout",
     "output_type": "stream",
     "text": [
      "Floresta Aleatória\n",
      "MSE: 115633352.57091635\n",
      "RMSE: 10753.29496344801\n",
      "R² Score: 98.25\n"
     ]
    }
   ],
   "source": [
    "model_rf = RandomForestRegressor(random_state=SEED)\n",
    "model_rf.fit(X_train, y_train)\n",
    "\n",
    "model_rf_predict = model_rf.predict(X_test)\n",
    "view_scores(y_test, model_rf_predict, 'Floresta Aleatória')"
   ]
  },
  {
   "cell_type": "markdown",
   "metadata": {},
   "source": [
    "**Validação Cruzada**"
   ]
  },
  {
   "cell_type": "code",
   "execution_count": 18,
   "metadata": {},
   "outputs": [
    {
     "name": "stdout",
     "output_type": "stream",
     "text": [
      "MSE: 56225466.882245764\n",
      "RMSE: 7498.364280444486\n",
      "R²: 0.9878509996350626\n"
     ]
    }
   ],
   "source": [
    "pipeline_rf = Pipeline([\n",
    "    ('scaler', MinMaxScaler()),\n",
    "    ('estimator', RandomForestRegressor(random_state=SEED))\n",
    "])\n",
    "\n",
    "results_rf = cross_validate(pipeline_rf, X, y,\n",
    "                            cv=kfold,\n",
    "                            scoring=['neg_mean_squared_error', 'r2'])\n",
    "cros_validate_view_scores(results_rf)"
   ]
  },
  {
   "cell_type": "markdown",
   "metadata": {},
   "source": [
    "#### Bagging Regressor"
   ]
  },
  {
   "cell_type": "code",
   "execution_count": 19,
   "metadata": {},
   "outputs": [
    {
     "name": "stdout",
     "output_type": "stream",
     "text": [
      "Bagging Regressor\n",
      "MSE: 105016428.0835991\n",
      "RMSE: 10247.75234300669\n",
      "R² Score: 98.41\n"
     ]
    }
   ],
   "source": [
    "model_bg = BaggingRegressor(estimator=LinearRegression(), random_state=SEED)\n",
    "model_bg.fit(X_train, y_train)\n",
    "\n",
    "model_bg_predict = model_bg.predict(X_test)\n",
    "view_scores(y_test, model_bg_predict, 'Bagging Regressor')"
   ]
  },
  {
   "cell_type": "markdown",
   "metadata": {},
   "source": [
    "**Validação Cruzada**"
   ]
  },
  {
   "cell_type": "code",
   "execution_count": 20,
   "metadata": {},
   "outputs": [
    {
     "name": "stdout",
     "output_type": "stream",
     "text": [
      "MSE: 63243434.74110867\n",
      "RMSE: 7952.574095291956\n",
      "R²: 0.9857591418519032\n"
     ]
    }
   ],
   "source": [
    "pipeline_bg = Pipeline([\n",
    "    ('scaler', MinMaxScaler()),\n",
    "    ('estimator', BaggingRegressor(estimator=LinearRegression(), random_state=SEED))\n",
    "])\n",
    "\n",
    "results_bg = cross_validate(pipeline_bg, X, y,\n",
    "                            cv=kfold,\n",
    "                            scoring=['neg_mean_squared_error', 'r2'])\n",
    "cros_validate_view_scores(results_bg)"
   ]
  },
  {
   "cell_type": "markdown",
   "metadata": {},
   "source": [
    "#### XGBoost"
   ]
  },
  {
   "cell_type": "code",
   "execution_count": 21,
   "metadata": {},
   "outputs": [
    {
     "name": "stdout",
     "output_type": "stream",
     "text": [
      "XGBoost Regressor\n",
      "MSE: 104275771.64785266\n",
      "RMSE: 10211.550893368385\n",
      "R² Score: 98.42\n"
     ]
    }
   ],
   "source": [
    "model_xgb = XGBRegressor()\n",
    "model_xgb.fit(X_train, y_train)\n",
    "\n",
    "model_xgb_predict = model_xgb.predict(X_test)\n",
    "view_scores(y_test, model_xgb_predict, 'XGBoost Regressor')"
   ]
  },
  {
   "cell_type": "markdown",
   "metadata": {},
   "source": [
    "**Validação Cruzada**"
   ]
  },
  {
   "cell_type": "code",
   "execution_count": 22,
   "metadata": {},
   "outputs": [
    {
     "name": "stdout",
     "output_type": "stream",
     "text": [
      "MSE: 78923854.00488426\n",
      "RMSE: 8883.90983772822\n",
      "R²: 0.9830909132957458\n"
     ]
    }
   ],
   "source": [
    "pipeline_xgb = Pipeline([\n",
    "    ('scaler', MinMaxScaler()),\n",
    "    ('estimator', XGBRegressor())\n",
    "])\n",
    "\n",
    "results_xgb = cross_validate(pipeline_xgb, X, y,\n",
    "                            cv=kfold,\n",
    "                            scoring=['neg_mean_squared_error', 'r2'])\n",
    "cros_validate_view_scores(results_xgb)"
   ]
  },
  {
   "cell_type": "markdown",
   "metadata": {},
   "source": [
    "#### Redes Neurais\n",
    "\n",
    "Apesar de redes neurais serem poderosas, nem sempre é a melhor escolha."
   ]
  },
  {
   "cell_type": "code",
   "execution_count": 23,
   "metadata": {},
   "outputs": [
    {
     "name": "stderr",
     "output_type": "stream",
     "text": [
      "c:\\Users\\DIOGO-PC\\AppData\\Local\\Programs\\Python\\Python310\\lib\\site-packages\\keras\\src\\layers\\core\\dense.py:87: UserWarning: Do not pass an `input_shape`/`input_dim` argument to a layer. When using Sequential models, prefer using an `Input(shape)` object as the first layer in the model instead.\n",
      "  super().__init__(activity_regularizer=activity_regularizer, **kwargs)\n"
     ]
    }
   ],
   "source": [
    "model_keras = keras.Sequential([\n",
    "    keras.layers.Dense(256, activation='relu', input_shape=(X_train.shape[1],)),\n",
    "    keras.layers.Dense(128, activation='relu'),\n",
    "    keras.layers.Dense(64, activation='relu'),\n",
    "    keras.layers.Dense(32, activation='relu'),\n",
    "    keras.layers.Dense(16, activation='relu'),\n",
    "    keras.layers.Dense(1, activation='linear')\n",
    "])"
   ]
  },
  {
   "cell_type": "code",
   "execution_count": 24,
   "metadata": {},
   "outputs": [
    {
     "data": {
      "text/html": [
       "<pre style=\"white-space:pre;overflow-x:auto;line-height:normal;font-family:Menlo,'DejaVu Sans Mono',consolas,'Courier New',monospace\"><span style=\"font-weight: bold\">Model: \"sequential\"</span>\n",
       "</pre>\n"
      ],
      "text/plain": [
       "\u001b[1mModel: \"sequential\"\u001b[0m\n"
      ]
     },
     "metadata": {},
     "output_type": "display_data"
    },
    {
     "data": {
      "text/html": [
       "<pre style=\"white-space:pre;overflow-x:auto;line-height:normal;font-family:Menlo,'DejaVu Sans Mono',consolas,'Courier New',monospace\">┏━━━━━━━━━━━━━━━━━━━━━━━━━━━━━━━━━┳━━━━━━━━━━━━━━━━━━━━━━━━┳━━━━━━━━━━━━━━━┓\n",
       "┃<span style=\"font-weight: bold\"> Layer (type)                    </span>┃<span style=\"font-weight: bold\"> Output Shape           </span>┃<span style=\"font-weight: bold\">       Param # </span>┃\n",
       "┡━━━━━━━━━━━━━━━━━━━━━━━━━━━━━━━━━╇━━━━━━━━━━━━━━━━━━━━━━━━╇━━━━━━━━━━━━━━━┩\n",
       "│ dense (<span style=\"color: #0087ff; text-decoration-color: #0087ff\">Dense</span>)                   │ (<span style=\"color: #00d7ff; text-decoration-color: #00d7ff\">None</span>, <span style=\"color: #00af00; text-decoration-color: #00af00\">256</span>)            │         <span style=\"color: #00af00; text-decoration-color: #00af00\">1,536</span> │\n",
       "├─────────────────────────────────┼────────────────────────┼───────────────┤\n",
       "│ dense_1 (<span style=\"color: #0087ff; text-decoration-color: #0087ff\">Dense</span>)                 │ (<span style=\"color: #00d7ff; text-decoration-color: #00d7ff\">None</span>, <span style=\"color: #00af00; text-decoration-color: #00af00\">128</span>)            │        <span style=\"color: #00af00; text-decoration-color: #00af00\">32,896</span> │\n",
       "├─────────────────────────────────┼────────────────────────┼───────────────┤\n",
       "│ dense_2 (<span style=\"color: #0087ff; text-decoration-color: #0087ff\">Dense</span>)                 │ (<span style=\"color: #00d7ff; text-decoration-color: #00d7ff\">None</span>, <span style=\"color: #00af00; text-decoration-color: #00af00\">64</span>)             │         <span style=\"color: #00af00; text-decoration-color: #00af00\">8,256</span> │\n",
       "├─────────────────────────────────┼────────────────────────┼───────────────┤\n",
       "│ dense_3 (<span style=\"color: #0087ff; text-decoration-color: #0087ff\">Dense</span>)                 │ (<span style=\"color: #00d7ff; text-decoration-color: #00d7ff\">None</span>, <span style=\"color: #00af00; text-decoration-color: #00af00\">32</span>)             │         <span style=\"color: #00af00; text-decoration-color: #00af00\">2,080</span> │\n",
       "├─────────────────────────────────┼────────────────────────┼───────────────┤\n",
       "│ dense_4 (<span style=\"color: #0087ff; text-decoration-color: #0087ff\">Dense</span>)                 │ (<span style=\"color: #00d7ff; text-decoration-color: #00d7ff\">None</span>, <span style=\"color: #00af00; text-decoration-color: #00af00\">16</span>)             │           <span style=\"color: #00af00; text-decoration-color: #00af00\">528</span> │\n",
       "├─────────────────────────────────┼────────────────────────┼───────────────┤\n",
       "│ dense_5 (<span style=\"color: #0087ff; text-decoration-color: #0087ff\">Dense</span>)                 │ (<span style=\"color: #00d7ff; text-decoration-color: #00d7ff\">None</span>, <span style=\"color: #00af00; text-decoration-color: #00af00\">1</span>)              │            <span style=\"color: #00af00; text-decoration-color: #00af00\">17</span> │\n",
       "└─────────────────────────────────┴────────────────────────┴───────────────┘\n",
       "</pre>\n"
      ],
      "text/plain": [
       "┏━━━━━━━━━━━━━━━━━━━━━━━━━━━━━━━━━┳━━━━━━━━━━━━━━━━━━━━━━━━┳━━━━━━━━━━━━━━━┓\n",
       "┃\u001b[1m \u001b[0m\u001b[1mLayer (type)                   \u001b[0m\u001b[1m \u001b[0m┃\u001b[1m \u001b[0m\u001b[1mOutput Shape          \u001b[0m\u001b[1m \u001b[0m┃\u001b[1m \u001b[0m\u001b[1m      Param #\u001b[0m\u001b[1m \u001b[0m┃\n",
       "┡━━━━━━━━━━━━━━━━━━━━━━━━━━━━━━━━━╇━━━━━━━━━━━━━━━━━━━━━━━━╇━━━━━━━━━━━━━━━┩\n",
       "│ dense (\u001b[38;5;33mDense\u001b[0m)                   │ (\u001b[38;5;45mNone\u001b[0m, \u001b[38;5;34m256\u001b[0m)            │         \u001b[38;5;34m1,536\u001b[0m │\n",
       "├─────────────────────────────────┼────────────────────────┼───────────────┤\n",
       "│ dense_1 (\u001b[38;5;33mDense\u001b[0m)                 │ (\u001b[38;5;45mNone\u001b[0m, \u001b[38;5;34m128\u001b[0m)            │        \u001b[38;5;34m32,896\u001b[0m │\n",
       "├─────────────────────────────────┼────────────────────────┼───────────────┤\n",
       "│ dense_2 (\u001b[38;5;33mDense\u001b[0m)                 │ (\u001b[38;5;45mNone\u001b[0m, \u001b[38;5;34m64\u001b[0m)             │         \u001b[38;5;34m8,256\u001b[0m │\n",
       "├─────────────────────────────────┼────────────────────────┼───────────────┤\n",
       "│ dense_3 (\u001b[38;5;33mDense\u001b[0m)                 │ (\u001b[38;5;45mNone\u001b[0m, \u001b[38;5;34m32\u001b[0m)             │         \u001b[38;5;34m2,080\u001b[0m │\n",
       "├─────────────────────────────────┼────────────────────────┼───────────────┤\n",
       "│ dense_4 (\u001b[38;5;33mDense\u001b[0m)                 │ (\u001b[38;5;45mNone\u001b[0m, \u001b[38;5;34m16\u001b[0m)             │           \u001b[38;5;34m528\u001b[0m │\n",
       "├─────────────────────────────────┼────────────────────────┼───────────────┤\n",
       "│ dense_5 (\u001b[38;5;33mDense\u001b[0m)                 │ (\u001b[38;5;45mNone\u001b[0m, \u001b[38;5;34m1\u001b[0m)              │            \u001b[38;5;34m17\u001b[0m │\n",
       "└─────────────────────────────────┴────────────────────────┴───────────────┘\n"
      ]
     },
     "metadata": {},
     "output_type": "display_data"
    },
    {
     "data": {
      "text/html": [
       "<pre style=\"white-space:pre;overflow-x:auto;line-height:normal;font-family:Menlo,'DejaVu Sans Mono',consolas,'Courier New',monospace\"><span style=\"font-weight: bold\"> Total params: </span><span style=\"color: #00af00; text-decoration-color: #00af00\">45,313</span> (177.00 KB)\n",
       "</pre>\n"
      ],
      "text/plain": [
       "\u001b[1m Total params: \u001b[0m\u001b[38;5;34m45,313\u001b[0m (177.00 KB)\n"
      ]
     },
     "metadata": {},
     "output_type": "display_data"
    },
    {
     "data": {
      "text/html": [
       "<pre style=\"white-space:pre;overflow-x:auto;line-height:normal;font-family:Menlo,'DejaVu Sans Mono',consolas,'Courier New',monospace\"><span style=\"font-weight: bold\"> Trainable params: </span><span style=\"color: #00af00; text-decoration-color: #00af00\">45,313</span> (177.00 KB)\n",
       "</pre>\n"
      ],
      "text/plain": [
       "\u001b[1m Trainable params: \u001b[0m\u001b[38;5;34m45,313\u001b[0m (177.00 KB)\n"
      ]
     },
     "metadata": {},
     "output_type": "display_data"
    },
    {
     "data": {
      "text/html": [
       "<pre style=\"white-space:pre;overflow-x:auto;line-height:normal;font-family:Menlo,'DejaVu Sans Mono',consolas,'Courier New',monospace\"><span style=\"font-weight: bold\"> Non-trainable params: </span><span style=\"color: #00af00; text-decoration-color: #00af00\">0</span> (0.00 B)\n",
       "</pre>\n"
      ],
      "text/plain": [
       "\u001b[1m Non-trainable params: \u001b[0m\u001b[38;5;34m0\u001b[0m (0.00 B)\n"
      ]
     },
     "metadata": {},
     "output_type": "display_data"
    }
   ],
   "source": [
    "model_keras.compile(optimizer=keras.optimizers.Adam(),\n",
    "                    loss=keras.losses.MeanSquaredError(),\n",
    "                    metrics=[keras.metrics.R2Score(), keras.metrics.RootMeanSquaredError()])\n",
    "\n",
    "model_keras.summary()"
   ]
  },
  {
   "cell_type": "code",
   "execution_count": 25,
   "metadata": {},
   "outputs": [],
   "source": [
    "callbacks = [keras.callbacks.EarlyStopping(monitor='val_loss', patience=5, restore_best_weights=True),\n",
    "             keras.callbacks.ModelCheckpoint(monitor='val_loss',\n",
    "                                             filepath='checkpoint_best_model.keras', save_best_only=True)]"
   ]
  },
  {
   "cell_type": "code",
   "execution_count": 26,
   "metadata": {},
   "outputs": [
    {
     "name": "stdout",
     "output_type": "stream",
     "text": [
      "Epoch 1/150\n",
      "\u001b[1m4/4\u001b[0m \u001b[32m━━━━━━━━━━━━━━━━━━━━\u001b[0m\u001b[37m\u001b[0m \u001b[1m2s\u001b[0m 98ms/step - loss: 6634391552.0000 - r2_score: -0.5416 - root_mean_squared_error: 81439.7188 - val_loss: 13003982848.0000 - val_r2_score: -0.9734 - val_root_mean_squared_error: 114035.0078\n",
      "Epoch 2/150\n",
      "\u001b[1m4/4\u001b[0m \u001b[32m━━━━━━━━━━━━━━━━━━━━\u001b[0m\u001b[37m\u001b[0m \u001b[1m0s\u001b[0m 36ms/step - loss: 6304685056.0000 - r2_score: -0.5766 - root_mean_squared_error: 78494.1719 - val_loss: 13003868160.0000 - val_r2_score: -0.9734 - val_root_mean_squared_error: 114034.5078\n",
      "Epoch 3/150\n",
      "\u001b[1m4/4\u001b[0m \u001b[32m━━━━━━━━━━━━━━━━━━━━\u001b[0m\u001b[37m\u001b[0m \u001b[1m0s\u001b[0m 33ms/step - loss: 6292566528.0000 - r2_score: -0.5611 - root_mean_squared_error: 79194.4453 - val_loss: 13003671552.0000 - val_r2_score: -0.9734 - val_root_mean_squared_error: 114033.6406\n",
      "Epoch 4/150\n",
      "\u001b[1m4/4\u001b[0m \u001b[32m━━━━━━━━━━━━━━━━━━━━\u001b[0m\u001b[37m\u001b[0m \u001b[1m0s\u001b[0m 32ms/step - loss: 7695609856.0000 - r2_score: -0.6347 - root_mean_squared_error: 87608.0234 - val_loss: 13003325440.0000 - val_r2_score: -0.9733 - val_root_mean_squared_error: 114032.1250\n",
      "Epoch 5/150\n",
      "\u001b[1m4/4\u001b[0m \u001b[32m━━━━━━━━━━━━━━━━━━━━\u001b[0m\u001b[37m\u001b[0m \u001b[1m0s\u001b[0m 32ms/step - loss: 6462177280.0000 - r2_score: -0.5516 - root_mean_squared_error: 80364.2344 - val_loss: 13002731520.0000 - val_r2_score: -0.9732 - val_root_mean_squared_error: 114029.5234\n",
      "Epoch 6/150\n",
      "\u001b[1m4/4\u001b[0m \u001b[32m━━━━━━━━━━━━━━━━━━━━\u001b[0m\u001b[37m\u001b[0m \u001b[1m0s\u001b[0m 32ms/step - loss: 5531944448.0000 - r2_score: -0.5296 - root_mean_squared_error: 73774.6719 - val_loss: 13001748480.0000 - val_r2_score: -0.9731 - val_root_mean_squared_error: 114025.2109\n",
      "Epoch 7/150\n",
      "\u001b[1m4/4\u001b[0m \u001b[32m━━━━━━━━━━━━━━━━━━━━\u001b[0m\u001b[37m\u001b[0m \u001b[1m0s\u001b[0m 32ms/step - loss: 7436541952.0000 - r2_score: -0.5993 - root_mean_squared_error: 86152.0156 - val_loss: 13000102912.0000 - val_r2_score: -0.9728 - val_root_mean_squared_error: 114017.9922\n",
      "Epoch 8/150\n",
      "\u001b[1m4/4\u001b[0m \u001b[32m━━━━━━━━━━━━━━━━━━━━\u001b[0m\u001b[37m\u001b[0m \u001b[1m0s\u001b[0m 32ms/step - loss: 6375448064.0000 - r2_score: -0.5642 - root_mean_squared_error: 79640.8984 - val_loss: 12997413888.0000 - val_r2_score: -0.9724 - val_root_mean_squared_error: 114006.2031\n",
      "Epoch 9/150\n",
      "\u001b[1m4/4\u001b[0m \u001b[32m━━━━━━━━━━━━━━━━━━━━\u001b[0m\u001b[37m\u001b[0m \u001b[1m0s\u001b[0m 32ms/step - loss: 6580648448.0000 - r2_score: -0.5473 - root_mean_squared_error: 81035.9375 - val_loss: 12993116160.0000 - val_r2_score: -0.9718 - val_root_mean_squared_error: 113987.3516\n",
      "Epoch 10/150\n",
      "\u001b[1m4/4\u001b[0m \u001b[32m━━━━━━━━━━━━━━━━━━━━\u001b[0m\u001b[37m\u001b[0m \u001b[1m0s\u001b[0m 32ms/step - loss: 5749331968.0000 - r2_score: -0.5268 - root_mean_squared_error: 75115.6250 - val_loss: 12986601472.0000 - val_r2_score: -0.9708 - val_root_mean_squared_error: 113958.7734\n",
      "Epoch 11/150\n",
      "\u001b[1m4/4\u001b[0m \u001b[32m━━━━━━━━━━━━━━━━━━━━\u001b[0m\u001b[37m\u001b[0m \u001b[1m0s\u001b[0m 31ms/step - loss: 6274267136.0000 - r2_score: -0.5566 - root_mean_squared_error: 79065.5859 - val_loss: 12976599040.0000 - val_r2_score: -0.9692 - val_root_mean_squared_error: 113914.8750\n",
      "Epoch 12/150\n",
      "\u001b[1m4/4\u001b[0m \u001b[32m━━━━━━━━━━━━━━━━━━━━\u001b[0m\u001b[37m\u001b[0m \u001b[1m0s\u001b[0m 32ms/step - loss: 7515856384.0000 - r2_score: -0.6112 - root_mean_squared_error: 86543.6562 - val_loss: 12961208320.0000 - val_r2_score: -0.9669 - val_root_mean_squared_error: 113847.3047\n",
      "Epoch 13/150\n",
      "\u001b[1m4/4\u001b[0m \u001b[32m━━━━━━━━━━━━━━━━━━━━\u001b[0m\u001b[37m\u001b[0m \u001b[1m0s\u001b[0m 32ms/step - loss: 7124661248.0000 - r2_score: -0.5779 - root_mean_squared_error: 84355.5625 - val_loss: 12938035200.0000 - val_r2_score: -0.9634 - val_root_mean_squared_error: 113745.4844\n",
      "Epoch 14/150\n",
      "\u001b[1m4/4\u001b[0m \u001b[32m━━━━━━━━━━━━━━━━━━━━\u001b[0m\u001b[37m\u001b[0m \u001b[1m0s\u001b[0m 33ms/step - loss: 6332648960.0000 - r2_score: -0.5663 - root_mean_squared_error: 79449.4297 - val_loss: 12904439808.0000 - val_r2_score: -0.9583 - val_root_mean_squared_error: 113597.7109\n",
      "Epoch 15/150\n",
      "\u001b[1m4/4\u001b[0m \u001b[32m━━━━━━━━━━━━━━━━━━━━\u001b[0m\u001b[37m\u001b[0m \u001b[1m0s\u001b[0m 32ms/step - loss: 6988850176.0000 - r2_score: -0.5652 - root_mean_squared_error: 83539.2188 - val_loss: 12856270848.0000 - val_r2_score: -0.9510 - val_root_mean_squared_error: 113385.5000\n",
      "Epoch 16/150\n",
      "\u001b[1m4/4\u001b[0m \u001b[32m━━━━━━━━━━━━━━━━━━━━\u001b[0m\u001b[37m\u001b[0m \u001b[1m0s\u001b[0m 32ms/step - loss: 7252606976.0000 - r2_score: -0.5809 - root_mean_squared_error: 85000.2734 - val_loss: 12787598336.0000 - val_r2_score: -0.9406 - val_root_mean_squared_error: 113082.2656\n",
      "Epoch 17/150\n",
      "\u001b[1m4/4\u001b[0m \u001b[32m━━━━━━━━━━━━━━━━━━━━\u001b[0m\u001b[37m\u001b[0m \u001b[1m0s\u001b[0m 33ms/step - loss: 6205817856.0000 - r2_score: -0.5211 - root_mean_squared_error: 78658.2969 - val_loss: 12691263488.0000 - val_r2_score: -0.9259 - val_root_mean_squared_error: 112655.5078\n",
      "Epoch 18/150\n",
      "\u001b[1m4/4\u001b[0m \u001b[32m━━━━━━━━━━━━━━━━━━━━\u001b[0m\u001b[37m\u001b[0m \u001b[1m0s\u001b[0m 34ms/step - loss: 6157075968.0000 - r2_score: -0.4995 - root_mean_squared_error: 78348.9688 - val_loss: 12558509056.0000 - val_r2_score: -0.9058 - val_root_mean_squared_error: 112064.7500\n",
      "Epoch 19/150\n",
      "\u001b[1m4/4\u001b[0m \u001b[32m━━━━━━━━━━━━━━━━━━━━\u001b[0m\u001b[37m\u001b[0m \u001b[1m0s\u001b[0m 38ms/step - loss: 6670699008.0000 - r2_score: -0.5141 - root_mean_squared_error: 81616.7891 - val_loss: 12378195968.0000 - val_r2_score: -0.8784 - val_root_mean_squared_error: 111257.3438\n",
      "Epoch 20/150\n",
      "\u001b[1m4/4\u001b[0m \u001b[32m━━━━━━━━━━━━━━━━━━━━\u001b[0m\u001b[37m\u001b[0m \u001b[1m0s\u001b[0m 37ms/step - loss: 6223285248.0000 - r2_score: -0.4696 - root_mean_squared_error: 78494.9375 - val_loss: 12140776448.0000 - val_r2_score: -0.8424 - val_root_mean_squared_error: 110185.1953\n",
      "Epoch 21/150\n",
      "\u001b[1m4/4\u001b[0m \u001b[32m━━━━━━━━━━━━━━━━━━━━\u001b[0m\u001b[37m\u001b[0m \u001b[1m0s\u001b[0m 34ms/step - loss: 6665699840.0000 - r2_score: -0.4780 - root_mean_squared_error: 81581.5312 - val_loss: 11832416256.0000 - val_r2_score: -0.7956 - val_root_mean_squared_error: 108776.9141\n",
      "Epoch 22/150\n",
      "\u001b[1m4/4\u001b[0m \u001b[32m━━━━━━━━━━━━━━━━━━━━\u001b[0m\u001b[37m\u001b[0m \u001b[1m0s\u001b[0m 33ms/step - loss: 5427777024.0000 - r2_score: -0.3628 - root_mean_squared_error: 73545.1719 - val_loss: 11440943104.0000 - val_r2_score: -0.7362 - val_root_mean_squared_error: 106962.3438\n",
      "Epoch 23/150\n",
      "\u001b[1m4/4\u001b[0m \u001b[32m━━━━━━━━━━━━━━━━━━━━\u001b[0m\u001b[37m\u001b[0m \u001b[1m0s\u001b[0m 35ms/step - loss: 6237892608.0000 - r2_score: -0.3576 - root_mean_squared_error: 78929.8906 - val_loss: 10943748096.0000 - val_r2_score: -0.6608 - val_root_mean_squared_error: 104612.3672\n",
      "Epoch 24/150\n",
      "\u001b[1m4/4\u001b[0m \u001b[32m━━━━━━━━━━━━━━━━━━━━\u001b[0m\u001b[37m\u001b[0m \u001b[1m0s\u001b[0m 34ms/step - loss: 5513383936.0000 - r2_score: -0.2954 - root_mean_squared_error: 74234.5156 - val_loss: 10339546112.0000 - val_r2_score: -0.5691 - val_root_mean_squared_error: 101683.5625\n",
      "Epoch 25/150\n",
      "\u001b[1m4/4\u001b[0m \u001b[32m━━━━━━━━━━━━━━━━━━━━\u001b[0m\u001b[37m\u001b[0m \u001b[1m0s\u001b[0m 36ms/step - loss: 5446171136.0000 - r2_score: -0.2392 - root_mean_squared_error: 73675.7500 - val_loss: 9626281984.0000 - val_r2_score: -0.4608 - val_root_mean_squared_error: 98113.6172\n",
      "Epoch 26/150\n",
      "\u001b[1m4/4\u001b[0m \u001b[32m━━━━━━━━━━━━━━━━━━━━\u001b[0m\u001b[37m\u001b[0m \u001b[1m0s\u001b[0m 31ms/step - loss: 4200581888.0000 - r2_score: -0.0849 - root_mean_squared_error: 63470.3438 - val_loss: 8838755328.0000 - val_r2_score: -0.3413 - val_root_mean_squared_error: 94014.6562\n",
      "Epoch 27/150\n",
      "\u001b[1m4/4\u001b[0m \u001b[32m━━━━━━━━━━━━━━━━━━━━\u001b[0m\u001b[37m\u001b[0m \u001b[1m0s\u001b[0m 32ms/step - loss: 4539494400.0000 - r2_score: -0.0442 - root_mean_squared_error: 67252.5703 - val_loss: 7993928704.0000 - val_r2_score: -0.2131 - val_root_mean_squared_error: 89408.7734\n",
      "Epoch 28/150\n",
      "\u001b[1m4/4\u001b[0m \u001b[32m━━━━━━━━━━━━━━━━━━━━\u001b[0m\u001b[37m\u001b[0m \u001b[1m0s\u001b[0m 31ms/step - loss: 3893306880.0000 - r2_score: 0.0600 - root_mean_squared_error: 62356.6484 - val_loss: 7156664320.0000 - val_r2_score: -0.0860 - val_root_mean_squared_error: 84597.0703\n",
      "Epoch 29/150\n",
      "\u001b[1m4/4\u001b[0m \u001b[32m━━━━━━━━━━━━━━━━━━━━\u001b[0m\u001b[37m\u001b[0m \u001b[1m0s\u001b[0m 32ms/step - loss: 4493416448.0000 - r2_score: 0.0592 - root_mean_squared_error: 66759.7812 - val_loss: 6394782720.0000 - val_r2_score: 0.0296 - val_root_mean_squared_error: 79967.3828\n",
      "Epoch 30/150\n",
      "\u001b[1m4/4\u001b[0m \u001b[32m━━━━━━━━━━━━━━━━━━━━\u001b[0m\u001b[37m\u001b[0m \u001b[1m0s\u001b[0m 31ms/step - loss: 3881374208.0000 - r2_score: 0.1249 - root_mean_squared_error: 62295.3320 - val_loss: 5818860544.0000 - val_r2_score: 0.1170 - val_root_mean_squared_error: 76281.4531\n",
      "Epoch 31/150\n",
      "\u001b[1m4/4\u001b[0m \u001b[32m━━━━━━━━━━━━━━━━━━━━\u001b[0m\u001b[37m\u001b[0m \u001b[1m0s\u001b[0m 32ms/step - loss: 3256477696.0000 - r2_score: 0.1150 - root_mean_squared_error: 56871.7891 - val_loss: 5502233600.0000 - val_r2_score: 0.1650 - val_root_mean_squared_error: 74177.0391\n",
      "Epoch 32/150\n",
      "\u001b[1m4/4\u001b[0m \u001b[32m━━━━━━━━━━━━━━━━━━━━\u001b[0m\u001b[37m\u001b[0m \u001b[1m0s\u001b[0m 31ms/step - loss: 3212855552.0000 - r2_score: 0.1293 - root_mean_squared_error: 56599.2852 - val_loss: 5354357760.0000 - val_r2_score: 0.1875 - val_root_mean_squared_error: 73173.4766\n",
      "Epoch 33/150\n",
      "\u001b[1m4/4\u001b[0m \u001b[32m━━━━━━━━━━━━━━━━━━━━\u001b[0m\u001b[37m\u001b[0m \u001b[1m0s\u001b[0m 32ms/step - loss: 3267344896.0000 - r2_score: 0.0993 - root_mean_squared_error: 57061.0000 - val_loss: 5275172864.0000 - val_r2_score: 0.1995 - val_root_mean_squared_error: 72630.3828\n",
      "Epoch 34/150\n",
      "\u001b[1m4/4\u001b[0m \u001b[32m━━━━━━━━━━━━━━━━━━━━\u001b[0m\u001b[37m\u001b[0m \u001b[1m0s\u001b[0m 32ms/step - loss: 3787692800.0000 - r2_score: 0.1968 - root_mean_squared_error: 61442.6016 - val_loss: 5168231424.0000 - val_r2_score: 0.2157 - val_root_mean_squared_error: 71890.4141\n",
      "Epoch 35/150\n",
      "\u001b[1m4/4\u001b[0m \u001b[32m━━━━━━━━━━━━━━━━━━━━\u001b[0m\u001b[37m\u001b[0m \u001b[1m0s\u001b[0m 32ms/step - loss: 3484568320.0000 - r2_score: 0.2014 - root_mean_squared_error: 59023.8242 - val_loss: 5134284800.0000 - val_r2_score: 0.2209 - val_root_mean_squared_error: 71653.9219\n",
      "Epoch 36/150\n",
      "\u001b[1m4/4\u001b[0m \u001b[32m━━━━━━━━━━━━━━━━━━━━\u001b[0m\u001b[37m\u001b[0m \u001b[1m0s\u001b[0m 33ms/step - loss: 3514098432.0000 - r2_score: 0.2291 - root_mean_squared_error: 59238.0547 - val_loss: 5085876224.0000 - val_r2_score: 0.2282 - val_root_mean_squared_error: 71315.3281\n",
      "Epoch 37/150\n",
      "\u001b[1m4/4\u001b[0m \u001b[32m━━━━━━━━━━━━━━━━━━━━\u001b[0m\u001b[37m\u001b[0m \u001b[1m0s\u001b[0m 35ms/step - loss: 3178055936.0000 - r2_score: 0.1867 - root_mean_squared_error: 56358.4844 - val_loss: 5068200960.0000 - val_r2_score: 0.2309 - val_root_mean_squared_error: 71191.2969\n",
      "Epoch 38/150\n",
      "\u001b[1m4/4\u001b[0m \u001b[32m━━━━━━━━━━━━━━━━━━━━\u001b[0m\u001b[37m\u001b[0m \u001b[1m0s\u001b[0m 32ms/step - loss: 3211271168.0000 - r2_score: 0.2586 - root_mean_squared_error: 56659.8242 - val_loss: 4970320384.0000 - val_r2_score: 0.2457 - val_root_mean_squared_error: 70500.5000\n",
      "Epoch 39/150\n",
      "\u001b[1m4/4\u001b[0m \u001b[32m━━━━━━━━━━━━━━━━━━━━\u001b[0m\u001b[37m\u001b[0m \u001b[1m0s\u001b[0m 32ms/step - loss: 3237072128.0000 - r2_score: 0.2597 - root_mean_squared_error: 56882.1719 - val_loss: 4818574336.0000 - val_r2_score: 0.2688 - val_root_mean_squared_error: 69415.9531\n",
      "Epoch 40/150\n",
      "\u001b[1m4/4\u001b[0m \u001b[32m━━━━━━━━━━━━━━━━━━━━\u001b[0m\u001b[37m\u001b[0m \u001b[1m0s\u001b[0m 32ms/step - loss: 3215211008.0000 - r2_score: 0.2902 - root_mean_squared_error: 56651.0000 - val_loss: 4647237632.0000 - val_r2_score: 0.2948 - val_root_mean_squared_error: 68170.6484\n",
      "Epoch 41/150\n",
      "\u001b[1m4/4\u001b[0m \u001b[32m━━━━━━━━━━━━━━━━━━━━\u001b[0m\u001b[37m\u001b[0m \u001b[1m0s\u001b[0m 33ms/step - loss: 3004760064.0000 - r2_score: 0.3057 - root_mean_squared_error: 54809.6133 - val_loss: 4459404288.0000 - val_r2_score: 0.3233 - val_root_mean_squared_error: 66778.7734\n",
      "Epoch 42/150\n",
      "\u001b[1m4/4\u001b[0m \u001b[32m━━━━━━━━━━━━━━━━━━━━\u001b[0m\u001b[37m\u001b[0m \u001b[1m0s\u001b[0m 31ms/step - loss: 2639200512.0000 - r2_score: 0.3128 - root_mean_squared_error: 51270.2227 - val_loss: 4293763328.0000 - val_r2_score: 0.3484 - val_root_mean_squared_error: 65526.8125\n",
      "Epoch 43/150\n",
      "\u001b[1m4/4\u001b[0m \u001b[32m━━━━━━━━━━━━━━━━━━━━\u001b[0m\u001b[37m\u001b[0m \u001b[1m0s\u001b[0m 31ms/step - loss: 2572584448.0000 - r2_score: 0.2973 - root_mean_squared_error: 50656.1680 - val_loss: 4139147776.0000 - val_r2_score: 0.3719 - val_root_mean_squared_error: 64336.2070\n",
      "Epoch 44/150\n",
      "\u001b[1m4/4\u001b[0m \u001b[32m━━━━━━━━━━━━━━━━━━━━\u001b[0m\u001b[37m\u001b[0m \u001b[1m0s\u001b[0m 31ms/step - loss: 2864190464.0000 - r2_score: 0.3885 - root_mean_squared_error: 53501.0117 - val_loss: 3885080576.0000 - val_r2_score: 0.4104 - val_root_mean_squared_error: 62330.4141\n",
      "Epoch 45/150\n",
      "\u001b[1m4/4\u001b[0m \u001b[32m━━━━━━━━━━━━━━━━━━━━\u001b[0m\u001b[37m\u001b[0m \u001b[1m0s\u001b[0m 31ms/step - loss: 2247512576.0000 - r2_score: 0.3151 - root_mean_squared_error: 47216.5625 - val_loss: 3748824064.0000 - val_r2_score: 0.4311 - val_root_mean_squared_error: 61227.6406\n",
      "Epoch 46/150\n",
      "\u001b[1m4/4\u001b[0m \u001b[32m━━━━━━━━━━━━━━━━━━━━\u001b[0m\u001b[37m\u001b[0m \u001b[1m0s\u001b[0m 32ms/step - loss: 2641070848.0000 - r2_score: 0.4085 - root_mean_squared_error: 51356.3672 - val_loss: 3556231424.0000 - val_r2_score: 0.4603 - val_root_mean_squared_error: 59634.1445\n",
      "Epoch 47/150\n",
      "\u001b[1m4/4\u001b[0m \u001b[32m━━━━━━━━━━━━━━━━━━━━\u001b[0m\u001b[37m\u001b[0m \u001b[1m0s\u001b[0m 31ms/step - loss: 2443665152.0000 - r2_score: 0.4396 - root_mean_squared_error: 49403.6289 - val_loss: 3373955584.0000 - val_r2_score: 0.4880 - val_root_mean_squared_error: 58085.7617\n",
      "Epoch 48/150\n",
      "\u001b[1m4/4\u001b[0m \u001b[32m━━━━━━━━━━━━━━━━━━━━\u001b[0m\u001b[37m\u001b[0m \u001b[1m0s\u001b[0m 31ms/step - loss: 2349310208.0000 - r2_score: 0.4632 - root_mean_squared_error: 48449.2305 - val_loss: 3176410368.0000 - val_r2_score: 0.5180 - val_root_mean_squared_error: 56359.6523\n",
      "Epoch 49/150\n",
      "\u001b[1m4/4\u001b[0m \u001b[32m━━━━━━━━━━━━━━━━━━━━\u001b[0m\u001b[37m\u001b[0m \u001b[1m0s\u001b[0m 31ms/step - loss: 2452873472.0000 - r2_score: 0.5013 - root_mean_squared_error: 49456.0430 - val_loss: 2947397632.0000 - val_r2_score: 0.5527 - val_root_mean_squared_error: 54289.9414\n",
      "Epoch 50/150\n",
      "\u001b[1m4/4\u001b[0m \u001b[32m━━━━━━━━━━━━━━━━━━━━\u001b[0m\u001b[37m\u001b[0m \u001b[1m0s\u001b[0m 32ms/step - loss: 1997790464.0000 - r2_score: 0.5162 - root_mean_squared_error: 44687.1211 - val_loss: 2809945600.0000 - val_r2_score: 0.5736 - val_root_mean_squared_error: 53008.9219\n",
      "Epoch 51/150\n",
      "\u001b[1m4/4\u001b[0m \u001b[32m━━━━━━━━━━━━━━━━━━━━\u001b[0m\u001b[37m\u001b[0m \u001b[1m0s\u001b[0m 31ms/step - loss: 1960024448.0000 - r2_score: 0.5606 - root_mean_squared_error: 44267.2656 - val_loss: 2628405248.0000 - val_r2_score: 0.6011 - val_root_mean_squared_error: 51267.9766\n",
      "Epoch 52/150\n",
      "\u001b[1m4/4\u001b[0m \u001b[32m━━━━━━━━━━━━━━━━━━━━\u001b[0m\u001b[37m\u001b[0m \u001b[1m0s\u001b[0m 32ms/step - loss: 1911811584.0000 - r2_score: 0.5826 - root_mean_squared_error: 43703.2109 - val_loss: 2422624768.0000 - val_r2_score: 0.6324 - val_root_mean_squared_error: 49220.1680\n",
      "Epoch 53/150\n",
      "\u001b[1m4/4\u001b[0m \u001b[32m━━━━━━━━━━━━━━━━━━━━\u001b[0m\u001b[37m\u001b[0m \u001b[1m0s\u001b[0m 31ms/step - loss: 1584926592.0000 - r2_score: 0.5829 - root_mean_squared_error: 39801.5938 - val_loss: 2253497600.0000 - val_r2_score: 0.6580 - val_root_mean_squared_error: 47471.0195\n",
      "Epoch 54/150\n",
      "\u001b[1m4/4\u001b[0m \u001b[32m━━━━━━━━━━━━━━━━━━━━\u001b[0m\u001b[37m\u001b[0m \u001b[1m0s\u001b[0m 31ms/step - loss: 1677809280.0000 - r2_score: 0.6452 - root_mean_squared_error: 40934.8008 - val_loss: 2002236928.0000 - val_r2_score: 0.6962 - val_root_mean_squared_error: 44746.3633\n",
      "Epoch 55/150\n",
      "\u001b[1m4/4\u001b[0m \u001b[32m━━━━━━━━━━━━━━━━━━━━\u001b[0m\u001b[37m\u001b[0m \u001b[1m0s\u001b[0m 31ms/step - loss: 1462998272.0000 - r2_score: 0.6504 - root_mean_squared_error: 38241.9180 - val_loss: 1799578368.0000 - val_r2_score: 0.7269 - val_root_mean_squared_error: 42421.4375\n",
      "Epoch 56/150\n",
      "\u001b[1m4/4\u001b[0m \u001b[32m━━━━━━━━━━━━━━━━━━━━\u001b[0m\u001b[37m\u001b[0m \u001b[1m0s\u001b[0m 31ms/step - loss: 1260285312.0000 - r2_score: 0.6929 - root_mean_squared_error: 35497.9805 - val_loss: 1585893632.0000 - val_r2_score: 0.7593 - val_root_mean_squared_error: 39823.2812\n",
      "Epoch 57/150\n",
      "\u001b[1m4/4\u001b[0m \u001b[32m━━━━━━━━━━━━━━━━━━━━\u001b[0m\u001b[37m\u001b[0m \u001b[1m0s\u001b[0m 31ms/step - loss: 1121499264.0000 - r2_score: 0.7417 - root_mean_squared_error: 33488.1758 - val_loss: 1363266048.0000 - val_r2_score: 0.7931 - val_root_mean_squared_error: 36922.4336\n",
      "Epoch 58/150\n",
      "\u001b[1m4/4\u001b[0m \u001b[32m━━━━━━━━━━━━━━━━━━━━\u001b[0m\u001b[37m\u001b[0m \u001b[1m0s\u001b[0m 31ms/step - loss: 937632640.0000 - r2_score: 0.7800 - root_mean_squared_error: 30609.4629 - val_loss: 1163309696.0000 - val_r2_score: 0.8235 - val_root_mean_squared_error: 34107.3242\n",
      "Epoch 59/150\n",
      "\u001b[1m4/4\u001b[0m \u001b[32m━━━━━━━━━━━━━━━━━━━━\u001b[0m\u001b[37m\u001b[0m \u001b[1m0s\u001b[0m 31ms/step - loss: 779313984.0000 - r2_score: 0.8098 - root_mean_squared_error: 27894.8398 - val_loss: 979471104.0000 - val_r2_score: 0.8514 - val_root_mean_squared_error: 31296.5039\n",
      "Epoch 60/150\n",
      "\u001b[1m4/4\u001b[0m \u001b[32m━━━━━━━━━━━━━━━━━━━━\u001b[0m\u001b[37m\u001b[0m \u001b[1m0s\u001b[0m 32ms/step - loss: 714202752.0000 - r2_score: 0.8277 - root_mean_squared_error: 26721.9941 - val_loss: 809084800.0000 - val_r2_score: 0.8772 - val_root_mean_squared_error: 28444.4160\n",
      "Epoch 61/150\n",
      "\u001b[1m4/4\u001b[0m \u001b[32m━━━━━━━━━━━━━━━━━━━━\u001b[0m\u001b[37m\u001b[0m \u001b[1m0s\u001b[0m 31ms/step - loss: 621340352.0000 - r2_score: 0.8555 - root_mean_squared_error: 24911.8066 - val_loss: 658430272.0000 - val_r2_score: 0.9001 - val_root_mean_squared_error: 25659.8965\n",
      "Epoch 62/150\n",
      "\u001b[1m4/4\u001b[0m \u001b[32m━━━━━━━━━━━━━━━━━━━━\u001b[0m\u001b[37m\u001b[0m \u001b[1m0s\u001b[0m 32ms/step - loss: 471560512.0000 - r2_score: 0.8899 - root_mean_squared_error: 21713.1973 - val_loss: 527112608.0000 - val_r2_score: 0.9200 - val_root_mean_squared_error: 22958.9336\n",
      "Epoch 63/150\n",
      "\u001b[1m4/4\u001b[0m \u001b[32m━━━━━━━━━━━━━━━━━━━━\u001b[0m\u001b[37m\u001b[0m \u001b[1m0s\u001b[0m 31ms/step - loss: 405293440.0000 - r2_score: 0.9111 - root_mean_squared_error: 20102.0059 - val_loss: 418720576.0000 - val_r2_score: 0.9365 - val_root_mean_squared_error: 20462.6621\n",
      "Epoch 64/150\n",
      "\u001b[1m4/4\u001b[0m \u001b[32m━━━━━━━━━━━━━━━━━━━━\u001b[0m\u001b[37m\u001b[0m \u001b[1m0s\u001b[0m 32ms/step - loss: 352095936.0000 - r2_score: 0.9271 - root_mean_squared_error: 18734.8711 - val_loss: 333549600.0000 - val_r2_score: 0.9494 - val_root_mean_squared_error: 18263.3398\n",
      "Epoch 65/150\n",
      "\u001b[1m4/4\u001b[0m \u001b[32m━━━━━━━━━━━━━━━━━━━━\u001b[0m\u001b[37m\u001b[0m \u001b[1m0s\u001b[0m 31ms/step - loss: 262513264.0000 - r2_score: 0.9360 - root_mean_squared_error: 16195.3174 - val_loss: 271910336.0000 - val_r2_score: 0.9587 - val_root_mean_squared_error: 16489.7031\n",
      "Epoch 66/150\n",
      "\u001b[1m4/4\u001b[0m \u001b[32m━━━━━━━━━━━━━━━━━━━━\u001b[0m\u001b[37m\u001b[0m \u001b[1m0s\u001b[0m 31ms/step - loss: 207706480.0000 - r2_score: 0.9526 - root_mean_squared_error: 14408.2334 - val_loss: 227820272.0000 - val_r2_score: 0.9654 - val_root_mean_squared_error: 15093.7158\n",
      "Epoch 67/150\n",
      "\u001b[1m4/4\u001b[0m \u001b[32m━━━━━━━━━━━━━━━━━━━━\u001b[0m\u001b[37m\u001b[0m \u001b[1m0s\u001b[0m 31ms/step - loss: 160784736.0000 - r2_score: 0.9609 - root_mean_squared_error: 12673.5938 - val_loss: 194042592.0000 - val_r2_score: 0.9706 - val_root_mean_squared_error: 13929.9170\n",
      "Epoch 68/150\n",
      "\u001b[1m4/4\u001b[0m \u001b[32m━━━━━━━━━━━━━━━━━━━━\u001b[0m\u001b[37m\u001b[0m \u001b[1m0s\u001b[0m 31ms/step - loss: 148916896.0000 - r2_score: 0.9634 - root_mean_squared_error: 12194.8916 - val_loss: 172328096.0000 - val_r2_score: 0.9738 - val_root_mean_squared_error: 13127.3799\n",
      "Epoch 69/150\n",
      "\u001b[1m4/4\u001b[0m \u001b[32m━━━━━━━━━━━━━━━━━━━━\u001b[0m\u001b[37m\u001b[0m \u001b[1m0s\u001b[0m 31ms/step - loss: 119678336.0000 - r2_score: 0.9721 - root_mean_squared_error: 10936.1787 - val_loss: 157282016.0000 - val_r2_score: 0.9761 - val_root_mean_squared_error: 12541.2129\n",
      "Epoch 70/150\n",
      "\u001b[1m4/4\u001b[0m \u001b[32m━━━━━━━━━━━━━━━━━━━━\u001b[0m\u001b[37m\u001b[0m \u001b[1m0s\u001b[0m 31ms/step - loss: 109303344.0000 - r2_score: 0.9680 - root_mean_squared_error: 10451.3486 - val_loss: 148803792.0000 - val_r2_score: 0.9774 - val_root_mean_squared_error: 12198.5156\n",
      "Epoch 71/150\n",
      "\u001b[1m4/4\u001b[0m \u001b[32m━━━━━━━━━━━━━━━━━━━━\u001b[0m\u001b[37m\u001b[0m \u001b[1m0s\u001b[0m 31ms/step - loss: 87980144.0000 - r2_score: 0.9772 - root_mean_squared_error: 9372.1211 - val_loss: 141230496.0000 - val_r2_score: 0.9786 - val_root_mean_squared_error: 11884.0439\n",
      "Epoch 72/150\n",
      "\u001b[1m4/4\u001b[0m \u001b[32m━━━━━━━━━━━━━━━━━━━━\u001b[0m\u001b[37m\u001b[0m \u001b[1m0s\u001b[0m 31ms/step - loss: 83662400.0000 - r2_score: 0.9803 - root_mean_squared_error: 9142.6748 - val_loss: 135799632.0000 - val_r2_score: 0.9794 - val_root_mean_squared_error: 11653.3096\n",
      "Epoch 73/150\n",
      "\u001b[1m4/4\u001b[0m \u001b[32m━━━━━━━━━━━━━━━━━━━━\u001b[0m\u001b[37m\u001b[0m \u001b[1m0s\u001b[0m 31ms/step - loss: 83113488.0000 - r2_score: 0.9817 - root_mean_squared_error: 9100.6475 - val_loss: 132116680.0000 - val_r2_score: 0.9800 - val_root_mean_squared_error: 11494.2021\n",
      "Epoch 74/150\n",
      "\u001b[1m4/4\u001b[0m \u001b[32m━━━━━━━━━━━━━━━━━━━━\u001b[0m\u001b[37m\u001b[0m \u001b[1m0s\u001b[0m 32ms/step - loss: 64936352.0000 - r2_score: 0.9847 - root_mean_squared_error: 8047.8833 - val_loss: 128573304.0000 - val_r2_score: 0.9805 - val_root_mean_squared_error: 11339.0166\n",
      "Epoch 75/150\n",
      "\u001b[1m4/4\u001b[0m \u001b[32m━━━━━━━━━━━━━━━━━━━━\u001b[0m\u001b[37m\u001b[0m \u001b[1m0s\u001b[0m 31ms/step - loss: 63275804.0000 - r2_score: 0.9855 - root_mean_squared_error: 7952.8052 - val_loss: 126752520.0000 - val_r2_score: 0.9808 - val_root_mean_squared_error: 11258.4424\n",
      "Epoch 76/150\n",
      "\u001b[1m4/4\u001b[0m \u001b[32m━━━━━━━━━━━━━━━━━━━━\u001b[0m\u001b[37m\u001b[0m \u001b[1m0s\u001b[0m 31ms/step - loss: 57196452.0000 - r2_score: 0.9847 - root_mean_squared_error: 7557.5737 - val_loss: 124896080.0000 - val_r2_score: 0.9810 - val_root_mean_squared_error: 11175.6914\n",
      "Epoch 77/150\n",
      "\u001b[1m4/4\u001b[0m \u001b[32m━━━━━━━━━━━━━━━━━━━━\u001b[0m\u001b[37m\u001b[0m \u001b[1m0s\u001b[0m 22ms/step - loss: 66750372.0000 - r2_score: 0.9849 - root_mean_squared_error: 8157.2520 - val_loss: 124932296.0000 - val_r2_score: 0.9810 - val_root_mean_squared_error: 11177.3115\n",
      "Epoch 78/150\n",
      "\u001b[1m4/4\u001b[0m \u001b[32m━━━━━━━━━━━━━━━━━━━━\u001b[0m\u001b[37m\u001b[0m \u001b[1m0s\u001b[0m 26ms/step - loss: 60288880.0000 - r2_score: 0.9872 - root_mean_squared_error: 7750.9253 - val_loss: 126164224.0000 - val_r2_score: 0.9809 - val_root_mean_squared_error: 11232.2852\n",
      "Epoch 79/150\n",
      "\u001b[1m4/4\u001b[0m \u001b[32m━━━━━━━━━━━━━━━━━━━━\u001b[0m\u001b[37m\u001b[0m \u001b[1m0s\u001b[0m 21ms/step - loss: 44304512.0000 - r2_score: 0.9886 - root_mean_squared_error: 6603.1597 - val_loss: 125163760.0000 - val_r2_score: 0.9810 - val_root_mean_squared_error: 11187.6611\n",
      "Epoch 80/150\n",
      "\u001b[1m4/4\u001b[0m \u001b[32m━━━━━━━━━━━━━━━━━━━━\u001b[0m\u001b[37m\u001b[0m \u001b[1m0s\u001b[0m 31ms/step - loss: 56337584.0000 - r2_score: 0.9845 - root_mean_squared_error: 7499.4595 - val_loss: 124456592.0000 - val_r2_score: 0.9811 - val_root_mean_squared_error: 11156.0117\n",
      "Epoch 81/150\n",
      "\u001b[1m4/4\u001b[0m \u001b[32m━━━━━━━━━━━━━━━━━━━━\u001b[0m\u001b[37m\u001b[0m \u001b[1m0s\u001b[0m 31ms/step - loss: 57635904.0000 - r2_score: 0.9870 - root_mean_squared_error: 7578.9761 - val_loss: 122820848.0000 - val_r2_score: 0.9814 - val_root_mean_squared_error: 11082.4570\n",
      "Epoch 82/150\n",
      "\u001b[1m4/4\u001b[0m \u001b[32m━━━━━━━━━━━━━━━━━━━━\u001b[0m\u001b[37m\u001b[0m \u001b[1m0s\u001b[0m 31ms/step - loss: 51014216.0000 - r2_score: 0.9884 - root_mean_squared_error: 7126.3979 - val_loss: 120874016.0000 - val_r2_score: 0.9817 - val_root_mean_squared_error: 10994.2715\n",
      "Epoch 83/150\n",
      "\u001b[1m4/4\u001b[0m \u001b[32m━━━━━━━━━━━━━━━━━━━━\u001b[0m\u001b[37m\u001b[0m \u001b[1m0s\u001b[0m 21ms/step - loss: 45232660.0000 - r2_score: 0.9889 - root_mean_squared_error: 6716.4341 - val_loss: 121318816.0000 - val_r2_score: 0.9816 - val_root_mean_squared_error: 11014.4824\n",
      "Epoch 84/150\n",
      "\u001b[1m4/4\u001b[0m \u001b[32m━━━━━━━━━━━━━━━━━━━━\u001b[0m\u001b[37m\u001b[0m \u001b[1m0s\u001b[0m 21ms/step - loss: 43033704.0000 - r2_score: 0.9869 - root_mean_squared_error: 6533.9478 - val_loss: 121118304.0000 - val_r2_score: 0.9816 - val_root_mean_squared_error: 11005.3760\n",
      "Epoch 85/150\n",
      "\u001b[1m4/4\u001b[0m \u001b[32m━━━━━━━━━━━━━━━━━━━━\u001b[0m\u001b[37m\u001b[0m \u001b[1m0s\u001b[0m 32ms/step - loss: 40714796.0000 - r2_score: 0.9902 - root_mean_squared_error: 6329.5264 - val_loss: 120505000.0000 - val_r2_score: 0.9817 - val_root_mean_squared_error: 10977.4766\n",
      "Epoch 86/150\n",
      "\u001b[1m4/4\u001b[0m \u001b[32m━━━━━━━━━━━━━━━━━━━━\u001b[0m\u001b[37m\u001b[0m \u001b[1m0s\u001b[0m 23ms/step - loss: 54317436.0000 - r2_score: 0.9880 - root_mean_squared_error: 7360.1265 - val_loss: 120568576.0000 - val_r2_score: 0.9817 - val_root_mean_squared_error: 10980.3721\n",
      "Epoch 87/150\n",
      "\u001b[1m4/4\u001b[0m \u001b[32m━━━━━━━━━━━━━━━━━━━━\u001b[0m\u001b[37m\u001b[0m \u001b[1m0s\u001b[0m 31ms/step - loss: 52231256.0000 - r2_score: 0.9891 - root_mean_squared_error: 7217.9727 - val_loss: 119888176.0000 - val_r2_score: 0.9818 - val_root_mean_squared_error: 10949.3457\n",
      "Epoch 88/150\n",
      "\u001b[1m4/4\u001b[0m \u001b[32m━━━━━━━━━━━━━━━━━━━━\u001b[0m\u001b[37m\u001b[0m \u001b[1m0s\u001b[0m 21ms/step - loss: 46914012.0000 - r2_score: 0.9884 - root_mean_squared_error: 6839.8501 - val_loss: 121000736.0000 - val_r2_score: 0.9816 - val_root_mean_squared_error: 11000.0332\n",
      "Epoch 89/150\n",
      "\u001b[1m4/4\u001b[0m \u001b[32m━━━━━━━━━━━━━━━━━━━━\u001b[0m\u001b[37m\u001b[0m \u001b[1m0s\u001b[0m 31ms/step - loss: 50484200.0000 - r2_score: 0.9884 - root_mean_squared_error: 7087.0024 - val_loss: 119659552.0000 - val_r2_score: 0.9818 - val_root_mean_squared_error: 10938.9004\n",
      "Epoch 90/150\n",
      "\u001b[1m4/4\u001b[0m \u001b[32m━━━━━━━━━━━━━━━━━━━━\u001b[0m\u001b[37m\u001b[0m \u001b[1m0s\u001b[0m 32ms/step - loss: 45665104.0000 - r2_score: 0.9894 - root_mean_squared_error: 6745.2759 - val_loss: 119149296.0000 - val_r2_score: 0.9819 - val_root_mean_squared_error: 10915.5527\n",
      "Epoch 91/150\n",
      "\u001b[1m4/4\u001b[0m \u001b[32m━━━━━━━━━━━━━━━━━━━━\u001b[0m\u001b[37m\u001b[0m \u001b[1m0s\u001b[0m 32ms/step - loss: 49407700.0000 - r2_score: 0.9870 - root_mean_squared_error: 7027.2891 - val_loss: 118833744.0000 - val_r2_score: 0.9820 - val_root_mean_squared_error: 10901.0889\n",
      "Epoch 92/150\n",
      "\u001b[1m4/4\u001b[0m \u001b[32m━━━━━━━━━━━━━━━━━━━━\u001b[0m\u001b[37m\u001b[0m \u001b[1m0s\u001b[0m 24ms/step - loss: 49376256.0000 - r2_score: 0.9888 - root_mean_squared_error: 7020.0264 - val_loss: 119049168.0000 - val_r2_score: 0.9819 - val_root_mean_squared_error: 10910.9658\n",
      "Epoch 93/150\n",
      "\u001b[1m4/4\u001b[0m \u001b[32m━━━━━━━━━━━━━━━━━━━━\u001b[0m\u001b[37m\u001b[0m \u001b[1m0s\u001b[0m 33ms/step - loss: 50309844.0000 - r2_score: 0.9897 - root_mean_squared_error: 7080.9014 - val_loss: 117670648.0000 - val_r2_score: 0.9821 - val_root_mean_squared_error: 10847.6104\n",
      "Epoch 94/150\n",
      "\u001b[1m4/4\u001b[0m \u001b[32m━━━━━━━━━━━━━━━━━━━━\u001b[0m\u001b[37m\u001b[0m \u001b[1m0s\u001b[0m 21ms/step - loss: 46455788.0000 - r2_score: 0.9893 - root_mean_squared_error: 6810.3672 - val_loss: 118627344.0000 - val_r2_score: 0.9820 - val_root_mean_squared_error: 10891.6182\n",
      "Epoch 95/150\n",
      "\u001b[1m4/4\u001b[0m \u001b[32m━━━━━━━━━━━━━━━━━━━━\u001b[0m\u001b[37m\u001b[0m \u001b[1m0s\u001b[0m 22ms/step - loss: 51521956.0000 - r2_score: 0.9874 - root_mean_squared_error: 7173.1626 - val_loss: 119979776.0000 - val_r2_score: 0.9818 - val_root_mean_squared_error: 10953.5283\n",
      "Epoch 96/150\n",
      "\u001b[1m4/4\u001b[0m \u001b[32m━━━━━━━━━━━━━━━━━━━━\u001b[0m\u001b[37m\u001b[0m \u001b[1m0s\u001b[0m 21ms/step - loss: 47220100.0000 - r2_score: 0.9873 - root_mean_squared_error: 6843.1938 - val_loss: 119372136.0000 - val_r2_score: 0.9819 - val_root_mean_squared_error: 10925.7559\n",
      "Epoch 97/150\n",
      "\u001b[1m4/4\u001b[0m \u001b[32m━━━━━━━━━━━━━━━━━━━━\u001b[0m\u001b[37m\u001b[0m \u001b[1m0s\u001b[0m 27ms/step - loss: 58505904.0000 - r2_score: 0.9873 - root_mean_squared_error: 7584.1235 - val_loss: 118606736.0000 - val_r2_score: 0.9820 - val_root_mean_squared_error: 10890.6719\n",
      "Epoch 98/150\n",
      "\u001b[1m4/4\u001b[0m \u001b[32m━━━━━━━━━━━━━━━━━━━━\u001b[0m\u001b[37m\u001b[0m \u001b[1m0s\u001b[0m 21ms/step - loss: 36849516.0000 - r2_score: 0.9911 - root_mean_squared_error: 5991.2310 - val_loss: 118081824.0000 - val_r2_score: 0.9821 - val_root_mean_squared_error: 10866.5459\n"
     ]
    }
   ],
   "source": [
    "history = model_keras.fit(X_train, y_train,\n",
    "                epochs=150,\n",
    "                batch_size=32,\n",
    "                validation_data=(X_test, y_test),\n",
    "                callbacks=callbacks)"
   ]
  },
  {
   "cell_type": "code",
   "execution_count": 27,
   "metadata": {},
   "outputs": [
    {
     "name": "stdout",
     "output_type": "stream",
     "text": [
      "\u001b[1m4/4\u001b[0m \u001b[32m━━━━━━━━━━━━━━━━━━━━\u001b[0m\u001b[37m\u001b[0m \u001b[1m0s\u001b[0m 20ms/step\n",
      "\u001b[1m1/1\u001b[0m \u001b[32m━━━━━━━━━━━━━━━━━━━━\u001b[0m\u001b[37m\u001b[0m \u001b[1m0s\u001b[0m 32ms/step\n"
     ]
    }
   ],
   "source": [
    "predict_keras_train = model_keras.predict(X_train)\n",
    "predict_keras_test = model_keras.predict(X_test)"
   ]
  },
  {
   "cell_type": "code",
   "execution_count": 28,
   "metadata": {},
   "outputs": [
    {
     "data": {
      "text/plain": [
       "dict_keys(['loss', 'r2_score', 'root_mean_squared_error', 'val_loss', 'val_r2_score', 'val_root_mean_squared_error'])"
      ]
     },
     "execution_count": 28,
     "metadata": {},
     "output_type": "execute_result"
    }
   ],
   "source": [
    "history.history.keys()"
   ]
  },
  {
   "cell_type": "code",
   "execution_count": 29,
   "metadata": {},
   "outputs": [
    {
     "data": {
      "text/plain": [
       "<matplotlib.legend.Legend at 0x20a64a408e0>"
      ]
     },
     "execution_count": 29,
     "metadata": {},
     "output_type": "execute_result"
    },
    {
     "data": {
      "image/png": "[encoded data removed]",
      "text/plain": [
       "<Figure size 640x480 with 1 Axes>"
      ]
     },
     "metadata": {},
     "output_type": "display_data"
    }
   ],
   "source": [
    "# MSE (RMSE) -> Quanto menor, melhor\n",
    "plt.plot(history.history['root_mean_squared_error'])\n",
    "plt.plot(history.history['val_root_mean_squared_error'])\n",
    "plt.xlabel('Épocas')\n",
    "plt.ylabel('Raiz do erro médio quadrático')\n",
    "plt.legend(['Treino','Validação'])"
   ]
  },
  {
   "cell_type": "code",
   "execution_count": 30,
   "metadata": {},
   "outputs": [
    {
     "data": {
      "text/plain": [
       "<matplotlib.legend.Legend at 0x20a64ac7790>"
      ]
     },
     "execution_count": 30,
     "metadata": {},
     "output_type": "execute_result"
    },
    {
     "data": {
      "image/png": "[encoded data removed]",
      "text/plain": [
       "<Figure size 640x480 with 1 Axes>"
      ]
     },
     "metadata": {},
     "output_type": "display_data"
    }
   ],
   "source": [
    "# R² Score -> Quanto maior, melhor\n",
    "plt.plot(history.history['r2_score'])\n",
    "plt.plot(history.history['val_r2_score'])\n",
    "plt.xlabel('Épocas')\n",
    "plt.ylabel('R2-Score')\n",
    "plt.legend(['Treino','Validação'])"
   ]
  },
  {
   "cell_type": "code",
   "execution_count": 31,
   "metadata": {},
   "outputs": [
    {
     "data": {
      "text/plain": [
       "<matplotlib.legend.Legend at 0x20a64b763b0>"
      ]
     },
     "execution_count": 31,
     "metadata": {},
     "output_type": "execute_result"
    },
    {
     "data": {
      "image/png": "[encoded data removed]",
      "text/plain": [
       "<Figure size 640x480 with 1 Axes>"
      ]
     },
     "metadata": {},
     "output_type": "display_data"
    }
   ],
   "source": [
    "# Valor de perda -> Quanto menor, melhor\n",
    "plt.plot(history.history['loss'])\n",
    "plt.plot(history.history['val_loss'])\n",
    "plt.xlabel('Épocas')\n",
    "plt.ylabel('Perda')\n",
    "plt.legend(['Treino','Validação'])"
   ]
  },
  {
   "cell_type": "code",
   "execution_count": 32,
   "metadata": {},
   "outputs": [
    {
     "data": {
      "text/plain": [
       "Text(0.5, 0, 'Rendimentos')"
      ]
     },
     "execution_count": 32,
     "metadata": {},
     "output_type": "execute_result"
    },
    {
     "data": {
      "image/png": "[encoded data removed]",
      "text/plain": [
       "<Figure size 640x480 with 1 Axes>"
      ]
     },
     "metadata": {},
     "output_type": "display_data"
    }
   ],
   "source": [
    "resid_train = y_train - predict_keras_train.reshape(-1) # flatten() tbm funciona para reduzir as dimensões do array\n",
    "resid_test = y_test - predict_keras_test.reshape(-1)\n",
    "\n",
    "sns.scatterplot(x=y_train, y=resid_train)\n",
    "sns.scatterplot(x=y_test, y=resid_test)\n",
    "plt.title(\"Gráfico de Resíduos\")\n",
    "plt.ylabel(\"Resíduos\")\n",
    "plt.xlabel(\"Rendimentos\")"
   ]
  },
  {
   "cell_type": "markdown",
   "metadata": {},
   "source": [
    "### Treinando o melhor modelo\n",
    "\n",
    "Iremos treinar o melhor modelo baseado nas métricas adquiridas no processo de validação cruzada. O algorítmo de **Floresta Aleatória** foi o melhor modelo."
   ]
  },
  {
   "cell_type": "code",
   "execution_count": 33,
   "metadata": {},
   "outputs": [
    {
     "data": {
      "text/plain": [
       "['random_forest_model.joblib']"
      ]
     },
     "execution_count": 33,
     "metadata": {},
     "output_type": "execute_result"
    }
   ],
   "source": [
    "# Modelos como o de floresta aleatória não é necessário normalizar os dados\n",
    "\n",
    "final_model_rf = RandomForestRegressor(random_state=SEED)\n",
    "final_model_rf.fit(X, y)\n",
    "\n",
    "joblib.dump(final_model_rf, 'random_forest_model.joblib')"
   ]
  }
 ],
 "metadata": {
  "kernelspec": {
   "display_name": "Python 3",
   "language": "python",
   "name": "python3"
  },
  "language_info": {
   "codemirror_mode": {
    "name": "ipython",
    "version": 3
   },
   "file_extension": ".py",
   "mimetype": "text/x-python",
   "name": "python",
   "nbconvert_exporter": "python",
   "pygments_lexer": "ipython3",
   "version": "3.10.10"
  }
 },
 "nbformat": 4,
 "nbformat_minor": 2
}
