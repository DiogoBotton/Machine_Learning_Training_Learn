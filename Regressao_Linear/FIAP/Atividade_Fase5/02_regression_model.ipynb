{
 "cells": [
  {
   "cell_type": "code",
   "execution_count": 1,
   "metadata": {},
   "outputs": [],
   "source": [
    "import pandas as pd\n",
    "import seaborn as sns\n",
    "import matplotlib.pyplot as plt\n",
    "import numpy as np\n",
    "\n",
    "from sklearn.preprocessing import MinMaxScaler\n",
    "from sklearn.model_selection import train_test_split\n",
    "from sklearn.metrics import mean_squared_error, r2_score\n",
    "\n",
    "from sklearn.ensemble import RandomForestRegressor, BaggingRegressor, StackingRegressor, VotingRegressor\n",
    "from sklearn.linear_model import LogisticRegression\n",
    "from xgboost import XGBRegressor"
   ]
  },
  {
   "cell_type": "code",
   "execution_count": 2,
   "metadata": {},
   "outputs": [
    {
     "data": {
      "text/html": [
       "<div>\n",
       "<style scoped>\n",
       "    .dataframe tbody tr th:only-of-type {\n",
       "        vertical-align: middle;\n",
       "    }\n",
       "\n",
       "    .dataframe tbody tr th {\n",
       "        vertical-align: top;\n",
       "    }\n",
       "\n",
       "    .dataframe thead th {\n",
       "        text-align: right;\n",
       "    }\n",
       "</style>\n",
       "<table border=\"1\" class=\"dataframe\">\n",
       "  <thead>\n",
       "    <tr style=\"text-align: right;\">\n",
       "      <th></th>\n",
       "      <th>Crop</th>\n",
       "      <th>Precipitation</th>\n",
       "      <th>SpecificHumidity_g_kg</th>\n",
       "      <th>RelativeHumidity_%</th>\n",
       "      <th>Temperature_C</th>\n",
       "      <th>Yield</th>\n",
       "    </tr>\n",
       "  </thead>\n",
       "  <tbody>\n",
       "    <tr>\n",
       "      <th>0</th>\n",
       "      <td>Cocoa, beans</td>\n",
       "      <td>2248.92</td>\n",
       "      <td>17.72</td>\n",
       "      <td>83.40</td>\n",
       "      <td>26.01</td>\n",
       "      <td>11560</td>\n",
       "    </tr>\n",
       "    <tr>\n",
       "      <th>1</th>\n",
       "      <td>Cocoa, beans</td>\n",
       "      <td>1938.42</td>\n",
       "      <td>17.54</td>\n",
       "      <td>82.11</td>\n",
       "      <td>26.11</td>\n",
       "      <td>11253</td>\n",
       "    </tr>\n",
       "    <tr>\n",
       "      <th>2</th>\n",
       "      <td>Cocoa, beans</td>\n",
       "      <td>2301.54</td>\n",
       "      <td>17.81</td>\n",
       "      <td>82.79</td>\n",
       "      <td>26.24</td>\n",
       "      <td>9456</td>\n",
       "    </tr>\n",
       "    <tr>\n",
       "      <th>3</th>\n",
       "      <td>Cocoa, beans</td>\n",
       "      <td>2592.35</td>\n",
       "      <td>17.61</td>\n",
       "      <td>85.07</td>\n",
       "      <td>25.56</td>\n",
       "      <td>9321</td>\n",
       "    </tr>\n",
       "    <tr>\n",
       "      <th>4</th>\n",
       "      <td>Cocoa, beans</td>\n",
       "      <td>2344.72</td>\n",
       "      <td>17.61</td>\n",
       "      <td>84.12</td>\n",
       "      <td>25.76</td>\n",
       "      <td>8800</td>\n",
       "    </tr>\n",
       "  </tbody>\n",
       "</table>\n",
       "</div>"
      ],
      "text/plain": [
       "           Crop  Precipitation  SpecificHumidity_g_kg  RelativeHumidity_%  \\\n",
       "0  Cocoa, beans        2248.92                  17.72               83.40   \n",
       "1  Cocoa, beans        1938.42                  17.54               82.11   \n",
       "2  Cocoa, beans        2301.54                  17.81               82.79   \n",
       "3  Cocoa, beans        2592.35                  17.61               85.07   \n",
       "4  Cocoa, beans        2344.72                  17.61               84.12   \n",
       "\n",
       "   Temperature_C  Yield  \n",
       "0          26.01  11560  \n",
       "1          26.11  11253  \n",
       "2          26.24   9456  \n",
       "3          25.56   9321  \n",
       "4          25.76   8800  "
      ]
     },
     "execution_count": 2,
     "metadata": {},
     "output_type": "execute_result"
    }
   ],
   "source": [
    "df = pd.read_csv('crop_yield.csv')\n",
    "df.head()"
   ]
  },
  {
   "cell_type": "markdown",
   "metadata": {},
   "source": [
    "### Pré-Processamento dos dados\n",
    "\n",
    "Como já realizamos a análise exploratória dos dados, podemos partir para a preparação dos dados para o algoritmo de Machine Learning."
   ]
  },
  {
   "cell_type": "markdown",
   "metadata": {},
   "source": [
    "**Tratamento dos dados categóricos**\n",
    "\n",
    "O parâmetro *drop-first=True* serve para evitar multicolinearidade entre os dados, ou seja, variáveis que se correlacionam entre si."
   ]
  },
  {
   "cell_type": "code",
   "execution_count": 3,
   "metadata": {},
   "outputs": [
    {
     "data": {
      "text/html": [
       "<div>\n",
       "<style scoped>\n",
       "    .dataframe tbody tr th:only-of-type {\n",
       "        vertical-align: middle;\n",
       "    }\n",
       "\n",
       "    .dataframe tbody tr th {\n",
       "        vertical-align: top;\n",
       "    }\n",
       "\n",
       "    .dataframe thead th {\n",
       "        text-align: right;\n",
       "    }\n",
       "</style>\n",
       "<table border=\"1\" class=\"dataframe\">\n",
       "  <thead>\n",
       "    <tr style=\"text-align: right;\">\n",
       "      <th></th>\n",
       "      <th>Precipitation</th>\n",
       "      <th>SpecificHumidity_g_kg</th>\n",
       "      <th>RelativeHumidity_%</th>\n",
       "      <th>Temperature_C</th>\n",
       "      <th>Yield</th>\n",
       "      <th>Crop_Oil palm fruit</th>\n",
       "      <th>Crop_Rice, paddy</th>\n",
       "      <th>Crop_Rubber, natural</th>\n",
       "    </tr>\n",
       "  </thead>\n",
       "  <tbody>\n",
       "    <tr>\n",
       "      <th>0</th>\n",
       "      <td>2248.92</td>\n",
       "      <td>17.72</td>\n",
       "      <td>83.40</td>\n",
       "      <td>26.01</td>\n",
       "      <td>11560</td>\n",
       "      <td>False</td>\n",
       "      <td>False</td>\n",
       "      <td>False</td>\n",
       "    </tr>\n",
       "    <tr>\n",
       "      <th>1</th>\n",
       "      <td>1938.42</td>\n",
       "      <td>17.54</td>\n",
       "      <td>82.11</td>\n",
       "      <td>26.11</td>\n",
       "      <td>11253</td>\n",
       "      <td>False</td>\n",
       "      <td>False</td>\n",
       "      <td>False</td>\n",
       "    </tr>\n",
       "    <tr>\n",
       "      <th>2</th>\n",
       "      <td>2301.54</td>\n",
       "      <td>17.81</td>\n",
       "      <td>82.79</td>\n",
       "      <td>26.24</td>\n",
       "      <td>9456</td>\n",
       "      <td>False</td>\n",
       "      <td>False</td>\n",
       "      <td>False</td>\n",
       "    </tr>\n",
       "    <tr>\n",
       "      <th>3</th>\n",
       "      <td>2592.35</td>\n",
       "      <td>17.61</td>\n",
       "      <td>85.07</td>\n",
       "      <td>25.56</td>\n",
       "      <td>9321</td>\n",
       "      <td>False</td>\n",
       "      <td>False</td>\n",
       "      <td>False</td>\n",
       "    </tr>\n",
       "    <tr>\n",
       "      <th>4</th>\n",
       "      <td>2344.72</td>\n",
       "      <td>17.61</td>\n",
       "      <td>84.12</td>\n",
       "      <td>25.76</td>\n",
       "      <td>8800</td>\n",
       "      <td>False</td>\n",
       "      <td>False</td>\n",
       "      <td>False</td>\n",
       "    </tr>\n",
       "  </tbody>\n",
       "</table>\n",
       "</div>"
      ],
      "text/plain": [
       "   Precipitation  SpecificHumidity_g_kg  RelativeHumidity_%  Temperature_C  \\\n",
       "0        2248.92                  17.72               83.40          26.01   \n",
       "1        1938.42                  17.54               82.11          26.11   \n",
       "2        2301.54                  17.81               82.79          26.24   \n",
       "3        2592.35                  17.61               85.07          25.56   \n",
       "4        2344.72                  17.61               84.12          25.76   \n",
       "\n",
       "   Yield  Crop_Oil palm fruit  Crop_Rice, paddy  Crop_Rubber, natural  \n",
       "0  11560                False             False                 False  \n",
       "1  11253                False             False                 False  \n",
       "2   9456                False             False                 False  \n",
       "3   9321                False             False                 False  \n",
       "4   8800                False             False                 False  "
      ]
     },
     "execution_count": 3,
     "metadata": {},
     "output_type": "execute_result"
    }
   ],
   "source": [
    "df = pd.get_dummies(df, columns=['Crop'], drop_first=True)\n",
    "df.head()"
   ]
  },
  {
   "cell_type": "markdown",
   "metadata": {},
   "source": [
    "**Separando variáveis independentes (X) da variável dependente (y)**"
   ]
  },
  {
   "cell_type": "code",
   "execution_count": 4,
   "metadata": {},
   "outputs": [],
   "source": [
    "X = df[['Crop_Oil palm fruit', 'Crop_Rice, paddy']]\n",
    "y = df['Yield']"
   ]
  },
  {
   "cell_type": "markdown",
   "metadata": {},
   "source": [
    "**Separação dos dados em treino e teste**\n",
    "\n",
    "Método HoldOut, porém também faremos validação cruzada."
   ]
  },
  {
   "cell_type": "code",
   "execution_count": 5,
   "metadata": {},
   "outputs": [],
   "source": [
    "SEED = 80\n",
    "\n",
    "X_train, X_test, y_train, y_test = train_test_split(X, y, test_size=0.2, random_state=SEED)"
   ]
  },
  {
   "cell_type": "markdown",
   "metadata": {},
   "source": [
    "**Normalização**"
   ]
  },
  {
   "cell_type": "code",
   "execution_count": 6,
   "metadata": {},
   "outputs": [],
   "source": [
    "normalization = MinMaxScaler()\n",
    "\n",
    "X_train = normalization.fit_transform(X_train)\n",
    "X_test = normalization.transform(X_test)"
   ]
  },
  {
   "cell_type": "markdown",
   "metadata": {},
   "source": [
    "### Treinamento com vários modelos"
   ]
  },
  {
   "cell_type": "code",
   "execution_count": 7,
   "metadata": {},
   "outputs": [],
   "source": [
    "def view_scores(y_true, y_pred, title):\n",
    "    mse = mean_squared_error(y_true, y_pred)\n",
    "    r2 = r2_score(y_true, y_pred)\n",
    "\n",
    "    print(title)\n",
    "    print(f'MSE: {mse}')\n",
    "    print(f'R² Score: {r2*100:.2f}')"
   ]
  },
  {
   "cell_type": "markdown",
   "metadata": {},
   "source": [
    "#### Modelo Baseline"
   ]
  },
  {
   "cell_type": "code",
   "execution_count": 9,
   "metadata": {},
   "outputs": [
    {
     "name": "stdout",
     "output_type": "stream",
     "text": [
      "Modelo Baseline (Logistic Regression)\n",
      "MSE: 157739757.5\n",
      "R² Score: 97.61\n"
     ]
    }
   ],
   "source": [
    "model_lr = LogisticRegression()\n",
    "model_lr.fit(X_train, y_train)\n",
    "\n",
    "model_lr_predict = model_lr.predict(X_test)\n",
    "view_scores(y_test, model_lr_predict, 'Modelo Baseline (Logistic Regression)')"
   ]
  }
 ],
 "metadata": {
  "kernelspec": {
   "display_name": "Python 3",
   "language": "python",
   "name": "python3"
  },
  "language_info": {
   "codemirror_mode": {
    "name": "ipython",
    "version": 3
   },
   "file_extension": ".py",
   "mimetype": "text/x-python",
   "name": "python",
   "nbconvert_exporter": "python",
   "pygments_lexer": "ipython3",
   "version": "3.10.10"
  }
 },
 "nbformat": 4,
 "nbformat_minor": 2
}
