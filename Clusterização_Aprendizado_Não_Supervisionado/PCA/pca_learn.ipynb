{
 "cells": [
  {
   "cell_type": "markdown",
   "metadata": {},
   "source": [
    "### O que é PCA?\n",
    "\n",
    "O PCA (Principal Component Analysis) é uma técnica matemática que transforma um conjunto de **muitas variáveis** em um número menor de **componentes principais**, preservando ao máximo a **informação dos dados**.\n",
    "\n",
    "Exemplo intuitivo:\n",
    "- Imagine que temos um conjunto de imagens de gatos e queremos encontrar um jeito de representar essas imagens com **menos variáveis**, sem perder muita informação. O PCA encontra as características mais importantes das imagens e reduz os dados para que ainda seja possível reconhecer os gatos, mas com menos detalhes.\n",
    "\n",
    "#### Quando o PCA pode melhorar ou piorar um modelo?\n",
    "\n",
    "**Quando o PCA pode melhorar o desempenho?**\n",
    "- Reduz overfitting -> Se os dados têm muitas colunas irrelevantes, o PCA pode remover ruído e melhorar a generalização do modelo.\n",
    "- Diminui a complexidade -> Modelos treinam mais rápido porque há menos variáveis.\n",
    "- Reduz correlações entre variáveis -> Modelos como regressão linear funcionam melhor com variáveis menos correlacionadas, podendo reduzir a redundância entre elas.\n",
    "\n",
    "**Quando o PCA pode piorar o desempenho?**\n",
    "- Perda de informação -> Se muitos componentes principais forem removidos, o modelo pode perder detalhes importantes.\n",
    "- Dificulta interpretação -> Os novos componentes não têm significado direto (não são \"idade\", \"altura\", etc. mas sim combinações dessas variáveis).\n",
    "- Pode não ser necessário -> Se os dados já têm poucas dimensões ou as variáveis são muito informativas, o PCA pode atrapalhar mais do que ajudar.\n",
    "\n",
    "#### Como saber se deve usar o PCA?\n",
    "- Se você tem muitas variáveis (muito maior que o número de amostras), o PCA pode ajudar.\n",
    "- Se as variáveis são altamente correlacionadas, o PCA pode reduzir redundância.\n",
    "- Se o modelo está demorando muito para treinar, PCA pode acelerar o processamento.\n",
    "- Se o modelo perde precisão após o PCA, talvez ele esteja removendo informações importantes.\n",
    "\n",
    "**Dica prática:** Experimente rodar o modelo **com e sem PCA** e compare os resultados."
   ]
  },
  {
   "cell_type": "code",
   "execution_count": 1,
   "metadata": {},
   "outputs": [],
   "source": [
    "import pandas as pd\n",
    "from sklearn.model_selection import train_test_split\n",
    "from sklearn.linear_model import LinearRegression\n",
    "from sklearn.decomposition import PCA # Redução de dimensionalidade\n",
    "from sklearn.metrics import mean_squared_error # Erro quadrático médio\n",
    "from sklearn.preprocessing import StandardScaler # Padronização"
   ]
  },
  {
   "cell_type": "code",
   "execution_count": 2,
   "metadata": {},
   "outputs": [
    {
     "data": {
      "text/html": [
       "<div>\n",
       "<style scoped>\n",
       "    .dataframe tbody tr th:only-of-type {\n",
       "        vertical-align: middle;\n",
       "    }\n",
       "\n",
       "    .dataframe tbody tr th {\n",
       "        vertical-align: top;\n",
       "    }\n",
       "\n",
       "    .dataframe thead th {\n",
       "        text-align: right;\n",
       "    }\n",
       "</style>\n",
       "<table border=\"1\" class=\"dataframe\">\n",
       "  <thead>\n",
       "    <tr style=\"text-align: right;\">\n",
       "      <th></th>\n",
       "      <th>Crop</th>\n",
       "      <th>Precipitation (mm day-1)</th>\n",
       "      <th>Specific Humidity at 2 Meters (g/kg)</th>\n",
       "      <th>Relative Humidity at 2 Meters (%)</th>\n",
       "      <th>Temperature at 2 Meters (C)</th>\n",
       "      <th>Yield</th>\n",
       "    </tr>\n",
       "  </thead>\n",
       "  <tbody>\n",
       "    <tr>\n",
       "      <th>0</th>\n",
       "      <td>Cocoa, beans</td>\n",
       "      <td>2248.92</td>\n",
       "      <td>17.72</td>\n",
       "      <td>83.40</td>\n",
       "      <td>26.01</td>\n",
       "      <td>11560</td>\n",
       "    </tr>\n",
       "    <tr>\n",
       "      <th>1</th>\n",
       "      <td>Cocoa, beans</td>\n",
       "      <td>1938.42</td>\n",
       "      <td>17.54</td>\n",
       "      <td>82.11</td>\n",
       "      <td>26.11</td>\n",
       "      <td>11253</td>\n",
       "    </tr>\n",
       "    <tr>\n",
       "      <th>2</th>\n",
       "      <td>Cocoa, beans</td>\n",
       "      <td>2301.54</td>\n",
       "      <td>17.81</td>\n",
       "      <td>82.79</td>\n",
       "      <td>26.24</td>\n",
       "      <td>9456</td>\n",
       "    </tr>\n",
       "    <tr>\n",
       "      <th>3</th>\n",
       "      <td>Cocoa, beans</td>\n",
       "      <td>2592.35</td>\n",
       "      <td>17.61</td>\n",
       "      <td>85.07</td>\n",
       "      <td>25.56</td>\n",
       "      <td>9321</td>\n",
       "    </tr>\n",
       "    <tr>\n",
       "      <th>4</th>\n",
       "      <td>Cocoa, beans</td>\n",
       "      <td>2344.72</td>\n",
       "      <td>17.61</td>\n",
       "      <td>84.12</td>\n",
       "      <td>25.76</td>\n",
       "      <td>8800</td>\n",
       "    </tr>\n",
       "  </tbody>\n",
       "</table>\n",
       "</div>"
      ],
      "text/plain": [
       "           Crop  Precipitation (mm day-1)  \\\n",
       "0  Cocoa, beans                   2248.92   \n",
       "1  Cocoa, beans                   1938.42   \n",
       "2  Cocoa, beans                   2301.54   \n",
       "3  Cocoa, beans                   2592.35   \n",
       "4  Cocoa, beans                   2344.72   \n",
       "\n",
       "   Specific Humidity at 2 Meters (g/kg)  Relative Humidity at 2 Meters (%)  \\\n",
       "0                                 17.72                              83.40   \n",
       "1                                 17.54                              82.11   \n",
       "2                                 17.81                              82.79   \n",
       "3                                 17.61                              85.07   \n",
       "4                                 17.61                              84.12   \n",
       "\n",
       "   Temperature at 2 Meters (C)  Yield  \n",
       "0                        26.01  11560  \n",
       "1                        26.11  11253  \n",
       "2                        26.24   9456  \n",
       "3                        25.56   9321  \n",
       "4                        25.76   8800  "
      ]
     },
     "execution_count": 2,
     "metadata": {},
     "output_type": "execute_result"
    }
   ],
   "source": [
    "df = pd.read_csv('crop_yield.csv', sep=',')\n",
    "df.head()"
   ]
  },
  {
   "cell_type": "code",
   "execution_count": 3,
   "metadata": {},
   "outputs": [
    {
     "data": {
      "text/plain": [
       "Crop\n",
       "Cocoa, beans       39\n",
       "Oil palm fruit     39\n",
       "Rice, paddy        39\n",
       "Rubber, natural    39\n",
       "Name: count, dtype: int64"
      ]
     },
     "execution_count": 3,
     "metadata": {},
     "output_type": "execute_result"
    }
   ],
   "source": [
    "df['Crop'].value_counts()"
   ]
  },
  {
   "cell_type": "markdown",
   "metadata": {},
   "source": [
    "**Pré processamento**"
   ]
  },
  {
   "cell_type": "code",
   "execution_count": 4,
   "metadata": {},
   "outputs": [
    {
     "data": {
      "text/html": [
       "<div>\n",
       "<style scoped>\n",
       "    .dataframe tbody tr th:only-of-type {\n",
       "        vertical-align: middle;\n",
       "    }\n",
       "\n",
       "    .dataframe tbody tr th {\n",
       "        vertical-align: top;\n",
       "    }\n",
       "\n",
       "    .dataframe thead th {\n",
       "        text-align: right;\n",
       "    }\n",
       "</style>\n",
       "<table border=\"1\" class=\"dataframe\">\n",
       "  <thead>\n",
       "    <tr style=\"text-align: right;\">\n",
       "      <th></th>\n",
       "      <th>Precipitation (mm day-1)</th>\n",
       "      <th>Specific Humidity at 2 Meters (g/kg)</th>\n",
       "      <th>Relative Humidity at 2 Meters (%)</th>\n",
       "      <th>Temperature at 2 Meters (C)</th>\n",
       "      <th>Yield</th>\n",
       "      <th>Crop_Cocoa, beans</th>\n",
       "      <th>Crop_Oil palm fruit</th>\n",
       "      <th>Crop_Rice, paddy</th>\n",
       "      <th>Crop_Rubber, natural</th>\n",
       "    </tr>\n",
       "  </thead>\n",
       "  <tbody>\n",
       "    <tr>\n",
       "      <th>0</th>\n",
       "      <td>2248.92</td>\n",
       "      <td>17.72</td>\n",
       "      <td>83.40</td>\n",
       "      <td>26.01</td>\n",
       "      <td>11560</td>\n",
       "      <td>True</td>\n",
       "      <td>False</td>\n",
       "      <td>False</td>\n",
       "      <td>False</td>\n",
       "    </tr>\n",
       "    <tr>\n",
       "      <th>1</th>\n",
       "      <td>1938.42</td>\n",
       "      <td>17.54</td>\n",
       "      <td>82.11</td>\n",
       "      <td>26.11</td>\n",
       "      <td>11253</td>\n",
       "      <td>True</td>\n",
       "      <td>False</td>\n",
       "      <td>False</td>\n",
       "      <td>False</td>\n",
       "    </tr>\n",
       "    <tr>\n",
       "      <th>2</th>\n",
       "      <td>2301.54</td>\n",
       "      <td>17.81</td>\n",
       "      <td>82.79</td>\n",
       "      <td>26.24</td>\n",
       "      <td>9456</td>\n",
       "      <td>True</td>\n",
       "      <td>False</td>\n",
       "      <td>False</td>\n",
       "      <td>False</td>\n",
       "    </tr>\n",
       "    <tr>\n",
       "      <th>3</th>\n",
       "      <td>2592.35</td>\n",
       "      <td>17.61</td>\n",
       "      <td>85.07</td>\n",
       "      <td>25.56</td>\n",
       "      <td>9321</td>\n",
       "      <td>True</td>\n",
       "      <td>False</td>\n",
       "      <td>False</td>\n",
       "      <td>False</td>\n",
       "    </tr>\n",
       "    <tr>\n",
       "      <th>4</th>\n",
       "      <td>2344.72</td>\n",
       "      <td>17.61</td>\n",
       "      <td>84.12</td>\n",
       "      <td>25.76</td>\n",
       "      <td>8800</td>\n",
       "      <td>True</td>\n",
       "      <td>False</td>\n",
       "      <td>False</td>\n",
       "      <td>False</td>\n",
       "    </tr>\n",
       "  </tbody>\n",
       "</table>\n",
       "</div>"
      ],
      "text/plain": [
       "   Precipitation (mm day-1)  Specific Humidity at 2 Meters (g/kg)  \\\n",
       "0                   2248.92                                 17.72   \n",
       "1                   1938.42                                 17.54   \n",
       "2                   2301.54                                 17.81   \n",
       "3                   2592.35                                 17.61   \n",
       "4                   2344.72                                 17.61   \n",
       "\n",
       "   Relative Humidity at 2 Meters (%)  Temperature at 2 Meters (C)  Yield  \\\n",
       "0                              83.40                        26.01  11560   \n",
       "1                              82.11                        26.11  11253   \n",
       "2                              82.79                        26.24   9456   \n",
       "3                              85.07                        25.56   9321   \n",
       "4                              84.12                        25.76   8800   \n",
       "\n",
       "   Crop_Cocoa, beans  Crop_Oil palm fruit  Crop_Rice, paddy  \\\n",
       "0               True                False             False   \n",
       "1               True                False             False   \n",
       "2               True                False             False   \n",
       "3               True                False             False   \n",
       "4               True                False             False   \n",
       "\n",
       "   Crop_Rubber, natural  \n",
       "0                 False  \n",
       "1                 False  \n",
       "2                 False  \n",
       "3                 False  \n",
       "4                 False  "
      ]
     },
     "execution_count": 4,
     "metadata": {},
     "output_type": "execute_result"
    }
   ],
   "source": [
    "# Converte dados categóricos (coluna Crop) em valores numéricos usando one-hot encoding\n",
    "df = pd.get_dummies(df,\n",
    "                    columns=['Crop'],\n",
    "                    prefix=['Crop'])\n",
    "df.head()"
   ]
  },
  {
   "cell_type": "markdown",
   "metadata": {},
   "source": [
    "Supondo que a coluna 'yield' é a variável dependente (target), iremos separar os dados em X (features) e y (target)."
   ]
  },
  {
   "cell_type": "code",
   "execution_count": 5,
   "metadata": {},
   "outputs": [],
   "source": [
    "X = df.drop('Yield', axis=1)\n",
    "y = df['Yield']\n",
    "\n",
    "X_train, X_test, y_train, y_test = train_test_split(X, y, test_size=0.2, random_state=70)"
   ]
  },
  {
   "cell_type": "markdown",
   "metadata": {},
   "source": [
    "Reescalando os dados com padronização (StandardScaler)."
   ]
  },
  {
   "cell_type": "code",
   "execution_count": 6,
   "metadata": {},
   "outputs": [],
   "source": [
    "scaler = StandardScaler()\n",
    "X_train_scaled = scaler.fit_transform(X_train)\n",
    "X_test_scaled = scaler.transform(X_test)"
   ]
  },
  {
   "cell_type": "markdown",
   "metadata": {},
   "source": [
    "Modelo de regressão **sem PCA**."
   ]
  },
  {
   "cell_type": "code",
   "execution_count": 7,
   "metadata": {},
   "outputs": [
    {
     "name": "stdout",
     "output_type": "stream",
     "text": [
      "Erro Quadrático Médio sem PCA: 107381321.15863115\n"
     ]
    }
   ],
   "source": [
    "regressor = LinearRegression()\n",
    "regressor.fit(X_train_scaled, y_train)\n",
    "\n",
    "# Prevê e calcula o erro (sem PCA)\n",
    "y_pred_no_pca = regressor.predict(X_test_scaled)\n",
    "mse_no_pca = mean_squared_error(y_test, y_pred_no_pca)\n",
    "\n",
    "print(f'Erro Quadrático Médio sem PCA: {mse_no_pca}')"
   ]
  },
  {
   "cell_type": "markdown",
   "metadata": {},
   "source": [
    "Aplicar PCA para reduzir a dimensionalidade antes do treinamento."
   ]
  },
  {
   "cell_type": "code",
   "execution_count": 8,
   "metadata": {},
   "outputs": [],
   "source": [
    "pca = PCA(n_components=2)\n",
    "X_train_pca = pca.fit_transform(X_train_scaled)\n",
    "X_test_pca = pca.transform(X_test_scaled)"
   ]
  },
  {
   "cell_type": "markdown",
   "metadata": {},
   "source": [
    "Modelo de regressão **com PCA**."
   ]
  },
  {
   "cell_type": "code",
   "execution_count": 9,
   "metadata": {},
   "outputs": [
    {
     "name": "stdout",
     "output_type": "stream",
     "text": [
      "Erro Quadrático Médio com PCA: 6200965625.459932\n",
      "O modelo sem PCA teve um desempenho melhor.\n"
     ]
    }
   ],
   "source": [
    "regressor = LinearRegression()\n",
    "regressor.fit(X_train_pca, y_train)\n",
    "\n",
    "# Prevê e calcula o erro (sem PCA)\n",
    "y_pred_pca = regressor.predict(X_test_pca)\n",
    "mse_pca = mean_squared_error(y_test, y_pred_pca)\n",
    "\n",
    "print(f'Erro Quadrático Médio com PCA: {mse_pca}')\n",
    "\n",
    "# Comparando resultados\n",
    "\n",
    "if mse_no_pca <= mse_pca:\n",
    "    print('O modelo sem PCA teve um desempenho melhor.')\n",
    "else:\n",
    "    print(\"O modelo com PCA teve um desempenho melhor.\")"
   ]
  }
 ],
 "metadata": {
  "kernelspec": {
   "display_name": "Python 3",
   "language": "python",
   "name": "python3"
  },
  "language_info": {
   "codemirror_mode": {
    "name": "ipython",
    "version": 3
   },
   "file_extension": ".py",
   "mimetype": "text/x-python",
   "name": "python",
   "nbconvert_exporter": "python",
   "pygments_lexer": "ipython3",
   "version": "3.10.10"
  }
 },
 "nbformat": 4,
 "nbformat_minor": 2
}
