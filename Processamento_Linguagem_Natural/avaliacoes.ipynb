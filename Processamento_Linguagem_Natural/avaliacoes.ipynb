{
 "cells": [
  {
   "cell_type": "markdown",
   "metadata": {},
   "source": [
    "**Entendendo a demanda**\n",
    "\n",
    "Quando uma pessoa cliente realiza uma compra e recebe o produto, ela tem a oportunidade de deixar uma avaliação.\n",
    "\n",
    "Nesse processo, atribui uma nota ao item e redige um comentário detalhando sua experiência, que pode ser positiva ou negativa, mencionando aspectos que lhe agradaram ou desapontaram. O e-commerce recebe centenas de avaliações mensalmente.\n",
    "\n",
    "**Desafios**\n",
    "\n",
    "Um dos desafios que enfrentamos é a ausência de um método automático para identificar se a experiência da pessoa cliente foi positiva ou negativa. Isso revela a necessidade de um sistema capaz de classificar as avaliações de forma automática. Ao receber cada avaliação, o sistema poderá categorizar o sentimento como positivo ou negativo."
   ]
  }
 ],
 "metadata": {
  "kernelspec": {
   "display_name": "Python 3",
   "language": "python",
   "name": "python3"
  },
  "language_info": {
   "name": "python",
   "version": "3.12.4"
  }
 },
 "nbformat": 4,
 "nbformat_minor": 2
}
