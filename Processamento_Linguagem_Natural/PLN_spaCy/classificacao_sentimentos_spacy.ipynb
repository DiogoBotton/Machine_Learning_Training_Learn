{
 "cells": [
  {
   "cell_type": "markdown",
   "id": "572f6077",
   "metadata": {},
   "source": [
    "# Classificação de textos com spaCy\n",
    "\n",
    "## Importação e instalação das bibliotecas\n",
    "\n",
    "Neste notebook iremos trabalhar com classificação de textos utilizando 100% os recursos do spaCy.\n",
    "\n",
    "O spaCy utiliza de recursos de redes neurais convolucionais para fazer a classificação.\n",
    "\n",
    "Utilizaremos um dataset de frases em português anotados com dois rótulos: alegria e medo. Porém, **com este dataset não será possível ter uma pontuação muito boa**, pelo fato de que é **muito pequeno**. Para um modelo ser considerado bom deve ser alimentado com uma massa de dados bem maior do que apenas 196 frases (que é o caso desse nosso dataset de estudo).\n",
    "\n",
    "**OBS.** É bem difícil encontrar bases de dados textuais em português. Em geral, quando é necessário desenvolver aplicações de PLN em português é necessário construir o próprio corpus (base de dados). Normalmente, a lingua comum em bases de dados encontradas é o inglês."
   ]
  },
  {
   "cell_type": "code",
   "execution_count": 1,
   "id": "751da654",
   "metadata": {},
   "outputs": [
    {
     "name": "stdout",
     "output_type": "stream",
     "text": [
      "Collecting pt-core-news-sm==3.8.0\n",
      "  Downloading https://github.com/explosion/spacy-models/releases/download/pt_core_news_sm-3.8.0/pt_core_news_sm-3.8.0-py3-none-any.whl (13.0 MB)\n",
      "\u001b[2K     \u001b[90m━━━━━━━━━━━━━━━━━━━━━━━━━━━━━━━━━━━━━━━━\u001b[0m \u001b[32m13.0/13.0 MB\u001b[0m \u001b[31m35.3 MB/s\u001b[0m eta \u001b[36m0:00:00\u001b[0m \u001b[36m0:00:01\u001b[0m\n",
      "\u001b[?25h\u001b[38;5;2m✔ Download and installation successful\u001b[0m\n",
      "You can now load the package via spacy.load('pt_core_news_sm')\n"
     ]
    }
   ],
   "source": [
    "!python -m spacy download pt_core_news_sm"
   ]
  },
  {
   "cell_type": "code",
   "execution_count": 2,
   "id": "ab34683b",
   "metadata": {},
   "outputs": [],
   "source": [
    "import pandas as pd\n",
    "import string\n",
    "import spacy\n",
    "import random\n",
    "import seaborn as sns\n",
    "import numpy as np\n",
    "import matplotlib.pyplot as plt"
   ]
  },
  {
   "cell_type": "code",
   "execution_count": 3,
   "id": "5f84725d",
   "metadata": {},
   "outputs": [
    {
     "data": {
      "text/plain": [
       "'3.8.7'"
      ]
     },
     "execution_count": 3,
     "metadata": {},
     "output_type": "execute_result"
    }
   ],
   "source": [
    "spacy.__version__"
   ]
  },
  {
   "cell_type": "markdown",
   "id": "3674503f",
   "metadata": {},
   "source": [
    "## Carregamento da base de dados"
   ]
  },
  {
   "cell_type": "code",
   "execution_count": 4,
   "id": "d7b6ee27",
   "metadata": {},
   "outputs": [
    {
     "data": {
      "text/html": [
       "<div>\n",
       "<style scoped>\n",
       "    .dataframe tbody tr th:only-of-type {\n",
       "        vertical-align: middle;\n",
       "    }\n",
       "\n",
       "    .dataframe tbody tr th {\n",
       "        vertical-align: top;\n",
       "    }\n",
       "\n",
       "    .dataframe thead th {\n",
       "        text-align: right;\n",
       "    }\n",
       "</style>\n",
       "<table border=\"1\" class=\"dataframe\">\n",
       "  <thead>\n",
       "    <tr style=\"text-align: right;\">\n",
       "      <th></th>\n",
       "      <th>texto</th>\n",
       "      <th>emocao</th>\n",
       "    </tr>\n",
       "  </thead>\n",
       "  <tbody>\n",
       "    <tr>\n",
       "      <th>0</th>\n",
       "      <td>este trabalho é agradável</td>\n",
       "      <td>alegria</td>\n",
       "    </tr>\n",
       "    <tr>\n",
       "      <th>1</th>\n",
       "      <td>gosto de ficar no seu aconchego</td>\n",
       "      <td>alegria</td>\n",
       "    </tr>\n",
       "    <tr>\n",
       "      <th>2</th>\n",
       "      <td>fiz a adesão ao curso hoje</td>\n",
       "      <td>alegria</td>\n",
       "    </tr>\n",
       "    <tr>\n",
       "      <th>3</th>\n",
       "      <td>eu sou admirada por muitos</td>\n",
       "      <td>alegria</td>\n",
       "    </tr>\n",
       "    <tr>\n",
       "      <th>4</th>\n",
       "      <td>adoro como você</td>\n",
       "      <td>alegria</td>\n",
       "    </tr>\n",
       "  </tbody>\n",
       "</table>\n",
       "</div>"
      ],
      "text/plain": [
       "                             texto   emocao\n",
       "0        este trabalho é agradável  alegria\n",
       "1  gosto de ficar no seu aconchego  alegria\n",
       "2       fiz a adesão ao curso hoje  alegria\n",
       "3       eu sou admirada por muitos  alegria\n",
       "4                  adoro como você  alegria"
      ]
     },
     "execution_count": 4,
     "metadata": {},
     "output_type": "execute_result"
    }
   ],
   "source": [
    "df = pd.read_csv('dataset/base_treinamento.txt', encoding='utf-8')\n",
    "df.head()"
   ]
  },
  {
   "cell_type": "code",
   "execution_count": 5,
   "id": "c1dc10d6",
   "metadata": {},
   "outputs": [
    {
     "data": {
      "text/html": [
       "<div>\n",
       "<style scoped>\n",
       "    .dataframe tbody tr th:only-of-type {\n",
       "        vertical-align: middle;\n",
       "    }\n",
       "\n",
       "    .dataframe tbody tr th {\n",
       "        vertical-align: top;\n",
       "    }\n",
       "\n",
       "    .dataframe thead th {\n",
       "        text-align: right;\n",
       "    }\n",
       "</style>\n",
       "<table border=\"1\" class=\"dataframe\">\n",
       "  <thead>\n",
       "    <tr style=\"text-align: right;\">\n",
       "      <th></th>\n",
       "      <th>texto</th>\n",
       "      <th>emocao</th>\n",
       "    </tr>\n",
       "  </thead>\n",
       "  <tbody>\n",
       "    <tr>\n",
       "      <th>191</th>\n",
       "      <td>estou chocado e amedrontado com este assassina...</td>\n",
       "      <td>medo</td>\n",
       "    </tr>\n",
       "    <tr>\n",
       "      <th>192</th>\n",
       "      <td>é preciso afugenta com ímpeto este medo do inf...</td>\n",
       "      <td>medo</td>\n",
       "    </tr>\n",
       "    <tr>\n",
       "      <th>193</th>\n",
       "      <td>políticos usam suas forças para afugentar e am...</td>\n",
       "      <td>medo</td>\n",
       "    </tr>\n",
       "    <tr>\n",
       "      <th>194</th>\n",
       "      <td>o objetivo disso e apenas me amedrontar mais</td>\n",
       "      <td>medo</td>\n",
       "    </tr>\n",
       "    <tr>\n",
       "      <th>195</th>\n",
       "      <td>isso me apavora</td>\n",
       "      <td>medo</td>\n",
       "    </tr>\n",
       "  </tbody>\n",
       "</table>\n",
       "</div>"
      ],
      "text/plain": [
       "                                                 texto emocao\n",
       "191  estou chocado e amedrontado com este assassina...   medo\n",
       "192  é preciso afugenta com ímpeto este medo do inf...   medo\n",
       "193  políticos usam suas forças para afugentar e am...   medo\n",
       "194       o objetivo disso e apenas me amedrontar mais   medo\n",
       "195                                    isso me apavora   medo"
      ]
     },
     "execution_count": 5,
     "metadata": {},
     "output_type": "execute_result"
    }
   ],
   "source": [
    "df.tail()"
   ]
  },
  {
   "cell_type": "code",
   "execution_count": 6,
   "id": "2b97596b",
   "metadata": {},
   "outputs": [
    {
     "data": {
      "text/plain": [
       "(196, 2)"
      ]
     },
     "execution_count": 6,
     "metadata": {},
     "output_type": "execute_result"
    }
   ],
   "source": [
    "df.shape"
   ]
  },
  {
   "cell_type": "code",
   "execution_count": 7,
   "id": "612e8c2e",
   "metadata": {},
   "outputs": [
    {
     "data": {
      "text/plain": [
       "emocao\n",
       "alegria    112\n",
       "medo        84\n",
       "Name: count, dtype: int64"
      ]
     },
     "execution_count": 7,
     "metadata": {},
     "output_type": "execute_result"
    }
   ],
   "source": [
    "df['emocao'].value_counts()"
   ]
  },
  {
   "cell_type": "code",
   "execution_count": 8,
   "id": "5fbb0f57",
   "metadata": {},
   "outputs": [
    {
     "data": {
      "text/plain": [
       "Text(0, 0.5, 'Contagem')"
      ]
     },
     "execution_count": 8,
     "metadata": {},
     "output_type": "execute_result"
    },
    {
     "data": {
      "image/png": "[encoded data removed]",
      "text/plain": [
       "<Figure size 640x480 with 1 Axes>"
      ]
     },
     "metadata": {},
     "output_type": "display_data"
    }
   ],
   "source": [
    "sns.countplot(df, x='emocao')\n",
    "plt.xlabel('Emoção')\n",
    "plt.ylabel('Contagem')"
   ]
  },
  {
   "cell_type": "markdown",
   "id": "33ac24a9",
   "metadata": {},
   "source": [
    "## Função para Pré-Processamento dos textos\n",
    "\n",
    "Neste processo, dado um texto, iremos fazer o processo de remoçãod e pontuações e stopwords. Iremos utilizar alguns recursos que utilizamos no notebook *intro_spacy.ipynb*."
   ]
  },
  {
   "cell_type": "code",
   "execution_count": 9,
   "id": "44ce6715",
   "metadata": {},
   "outputs": [
    {
     "data": {
      "text/plain": [
       "'!\"#$%&\\'()*+,-./:;<=>?@[\\\\]^_`{|}~'"
      ]
     },
     "execution_count": 9,
     "metadata": {},
     "output_type": "execute_result"
    }
   ],
   "source": [
    "pontuacoes = string.punctuation\n",
    "pontuacoes # Iremos remover todos estes caracteres dos textos"
   ]
  },
  {
   "cell_type": "code",
   "execution_count": 10,
   "id": "69f2fbe9",
   "metadata": {},
   "outputs": [
    {
     "data": {
      "text/plain": [
       "416"
      ]
     },
     "execution_count": 10,
     "metadata": {},
     "output_type": "execute_result"
    }
   ],
   "source": [
    "from spacy.lang.pt.stop_words import STOP_WORDS\n",
    "stop_words = STOP_WORDS\n",
    "len(stop_words)"
   ]
  },
  {
   "cell_type": "code",
   "execution_count": 11,
   "id": "46e2d8f7",
   "metadata": {},
   "outputs": [],
   "source": [
    "# Instanciando o modelo spaCy\n",
    "pln = spacy.load('pt_core_news_sm')"
   ]
  },
  {
   "cell_type": "markdown",
   "id": "82737ecf",
   "metadata": {},
   "source": [
    "Ao invés de retornarmos as palavras originais, iremos retornar o *lemma* (lematização).\n",
    "\n",
    "**OBS:**\n",
    "A forma mostrada pelo prof para remover os stopwords e pontuações não funcionou tão bem, porém as propriedades *is_stop* e *is_punct* tiveram um efeito mais eficaz no dataset.\n",
    "\n",
    "A função abaixo aplica a lematização, remove pontuações, stopwords e digitos numéricos."
   ]
  },
  {
   "cell_type": "code",
   "execution_count": 12,
   "id": "bc12d99f",
   "metadata": {},
   "outputs": [],
   "source": [
    "def preprocessamento(texto: str):\n",
    "    texto = texto.lower()\n",
    "    doc = pln(texto) # Adiciona o texto para o modelo pln, para realizar o processamento posteriormente\n",
    "    lista: list[str] = [] # A ideia é adicionar os valores já processados dentro dessa lista\n",
    "    \n",
    "    for token in doc:\n",
    "        if not token.is_stop and not token.is_punct:\n",
    "            lista.append(token.lemma_) # Adiciona o lemma das palavras\n",
    "            \n",
    "    #lista = [palavra for palavra in lista if palavra not in stop_words and palavra not in pontuacoes]\n",
    "    \n",
    "    lista = ' '.join(str(palavra) for palavra in lista if not palavra.isdigit()) # isdigit() remove os digitos numéricos\n",
    "    \n",
    "    return lista"
   ]
  },
  {
   "cell_type": "markdown",
   "id": "fcb3d086",
   "metadata": {},
   "source": [
    "Caso de teste (estranho):\n",
    "\n",
    "Quando não é colocado ponto final na frase: *\"Estou aprendendo processamento de linguagem natural, Curso em Curitiba\"*, a palavra \"curitiba\" fica \"curitber\" (?). Portanto, colocando o ponto final na frase, resolveu este problema estranho."
   ]
  },
  {
   "cell_type": "code",
   "execution_count": 13,
   "id": "04e198a8",
   "metadata": {},
   "outputs": [
    {
     "data": {
      "text/plain": [
       "'aprender processamento linguagem natural curso curitber'"
      ]
     },
     "execution_count": 13,
     "metadata": {},
     "output_type": "execute_result"
    }
   ],
   "source": [
    "teste = preprocessamento(\"Estou aPrendendo processamento de linguagem natural, Curso em Curitiba\")\n",
    "teste"
   ]
  },
  {
   "cell_type": "code",
   "execution_count": 14,
   "id": "ca9e9159",
   "metadata": {},
   "outputs": [
    {
     "data": {
      "text/plain": [
       "'aprender processamento linguagem natural curso curitiba setembro'"
      ]
     },
     "execution_count": 14,
     "metadata": {},
     "output_type": "execute_result"
    }
   ],
   "source": [
    "teste = preprocessamento(\"Estou aPrendendo processamento de linguagem natural, Curso em Curitiba, em 12 de Setembro.\")\n",
    "teste"
   ]
  },
  {
   "cell_type": "markdown",
   "id": "186bc51f",
   "metadata": {},
   "source": [
    "## Pré-processamento da base de dados"
   ]
  },
  {
   "cell_type": "code",
   "execution_count": 15,
   "id": "faec354f",
   "metadata": {},
   "outputs": [],
   "source": [
    "df['texto_processado'] = [preprocessamento(texto) for texto in df['texto']]"
   ]
  },
  {
   "cell_type": "code",
   "execution_count": 16,
   "id": "cbd6ee99",
   "metadata": {},
   "outputs": [],
   "source": [
    "# o professor fez assim, forma interessante com o \"apply\":\n",
    "df['texto_processado'] = df['texto'].apply(preprocessamento) # não é necessário passar explicitamente o parametro texto"
   ]
  },
  {
   "cell_type": "code",
   "execution_count": 17,
   "id": "c063d440",
   "metadata": {},
   "outputs": [
    {
     "data": {
      "text/html": [
       "<div>\n",
       "<style scoped>\n",
       "    .dataframe tbody tr th:only-of-type {\n",
       "        vertical-align: middle;\n",
       "    }\n",
       "\n",
       "    .dataframe tbody tr th {\n",
       "        vertical-align: top;\n",
       "    }\n",
       "\n",
       "    .dataframe thead th {\n",
       "        text-align: right;\n",
       "    }\n",
       "</style>\n",
       "<table border=\"1\" class=\"dataframe\">\n",
       "  <thead>\n",
       "    <tr style=\"text-align: right;\">\n",
       "      <th></th>\n",
       "      <th>texto</th>\n",
       "      <th>emocao</th>\n",
       "      <th>texto_processado</th>\n",
       "    </tr>\n",
       "  </thead>\n",
       "  <tbody>\n",
       "    <tr>\n",
       "      <th>0</th>\n",
       "      <td>este trabalho é agradável</td>\n",
       "      <td>alegria</td>\n",
       "      <td>trabalho agradável</td>\n",
       "    </tr>\n",
       "    <tr>\n",
       "      <th>1</th>\n",
       "      <td>gosto de ficar no seu aconchego</td>\n",
       "      <td>alegria</td>\n",
       "      <td>gostar ficar aconchego</td>\n",
       "    </tr>\n",
       "    <tr>\n",
       "      <th>2</th>\n",
       "      <td>fiz a adesão ao curso hoje</td>\n",
       "      <td>alegria</td>\n",
       "      <td>fiz adesão curso hoje</td>\n",
       "    </tr>\n",
       "    <tr>\n",
       "      <th>3</th>\n",
       "      <td>eu sou admirada por muitos</td>\n",
       "      <td>alegria</td>\n",
       "      <td>admirar</td>\n",
       "    </tr>\n",
       "    <tr>\n",
       "      <th>4</th>\n",
       "      <td>adoro como você</td>\n",
       "      <td>alegria</td>\n",
       "      <td>adorar</td>\n",
       "    </tr>\n",
       "  </tbody>\n",
       "</table>\n",
       "</div>"
      ],
      "text/plain": [
       "                             texto   emocao        texto_processado\n",
       "0        este trabalho é agradável  alegria      trabalho agradável\n",
       "1  gosto de ficar no seu aconchego  alegria  gostar ficar aconchego\n",
       "2       fiz a adesão ao curso hoje  alegria   fiz adesão curso hoje\n",
       "3       eu sou admirada por muitos  alegria                 admirar\n",
       "4                  adoro como você  alegria                  adorar"
      ]
     },
     "execution_count": 17,
     "metadata": {},
     "output_type": "execute_result"
    }
   ],
   "source": [
    "df.head()"
   ]
  },
  {
   "cell_type": "markdown",
   "id": "37a8fbb6",
   "metadata": {},
   "source": [
    "## Tratamento da classe\n",
    "\n",
    "Precisamos deixar a nossa base de dados com a mesma estrutura abaixo (requerida pelo spaCy), para então depois enviar para o modelo de deep learning do spaCy."
   ]
  },
  {
   "cell_type": "code",
   "execution_count": 18,
   "id": "2783032b",
   "metadata": {},
   "outputs": [
    {
     "data": {
      "text/plain": [
       "list"
      ]
     },
     "execution_count": 18,
     "metadata": {},
     "output_type": "execute_result"
    }
   ],
   "source": [
    "exemplo_base_dados = [[\"este trabalho é agradável\", {\"ALEGRIA\": True, \"MEDO\": False}],\n",
    "                      [\"este lugar continua assustador\", {\"ALEGRIA\": False, \"MEDO\": True}]]\n",
    "type(exemplo_base_dados)"
   ]
  },
  {
   "cell_type": "code",
   "execution_count": 19,
   "id": "15efcffe",
   "metadata": {},
   "outputs": [
    {
     "data": {
      "text/plain": [
       "['este trabalho é agradável', {'ALEGRIA': True, 'MEDO': False}]"
      ]
     },
     "execution_count": 19,
     "metadata": {},
     "output_type": "execute_result"
    }
   ],
   "source": [
    "exemplo_base_dados[0]"
   ]
  },
  {
   "cell_type": "code",
   "execution_count": 20,
   "id": "f12ed68d",
   "metadata": {},
   "outputs": [
    {
     "data": {
      "text/plain": [
       "(['trabalho agradável', {'ALEGRIA': True, 'MEDO': False}],\n",
       " 'este trabalho é agradável',\n",
       " 'alegria')"
      ]
     },
     "execution_count": 20,
     "metadata": {},
     "output_type": "execute_result"
    }
   ],
   "source": [
    "# Apply para gerar o formato padrão dos rótulos\n",
    "textos, rotulos = df['texto_processado'], df['emocao'].apply(lambda x: {\"ALEGRIA\": True, \"MEDO\": False} if x == 'alegria' else {\"ALEGRIA\": False, \"MEDO\": True})\n",
    "\n",
    "# zip para juntar textos e rótulos, retorna um array com os dois dados necessários: X (texto, variável independente) e y (rótulo, variável dependente)\n",
    "base_dados_final = [[x, y] for x, y, in zip(textos, rotulos)]\n",
    "base_dados_final[0], df['texto'][0], df['emocao'][0]"
   ]
  },
  {
   "cell_type": "code",
   "execution_count": 21,
   "id": "74a36bd0",
   "metadata": {},
   "outputs": [
    {
     "data": {
      "text/plain": [
       "(['ei cuidado bater poste', {'ALEGRIA': False, 'MEDO': True}],\n",
       " 'ei cuidado você vai bater no poste!',\n",
       " 'medo')"
      ]
     },
     "execution_count": 21,
     "metadata": {},
     "output_type": "execute_result"
    }
   ],
   "source": [
    "base_dados_final[150], df['texto'][150], df['emocao'][150]"
   ]
  },
  {
   "cell_type": "code",
   "execution_count": 22,
   "id": "e8882188",
   "metadata": {},
   "outputs": [
    {
     "data": {
      "text/plain": [
       "196"
      ]
     },
     "execution_count": 22,
     "metadata": {},
     "output_type": "execute_result"
    }
   ],
   "source": [
    "len(base_dados_final)"
   ]
  },
  {
   "cell_type": "markdown",
   "id": "91f5bd4c",
   "metadata": {},
   "source": [
    "## Criação do classificador (rede neural)"
   ]
  },
  {
   "cell_type": "code",
   "execution_count": 23,
   "id": "b1ee238a",
   "metadata": {},
   "outputs": [
    {
     "data": {
      "text/plain": [
       "1"
      ]
     },
     "execution_count": 23,
     "metadata": {},
     "output_type": "execute_result"
    }
   ],
   "source": [
    "from spacy.training import Example\n",
    "\n",
    "modelo = spacy.blank('pt')\n",
    "\n",
    "categorias = modelo.add_pipe('textcat') # textcat = categorização de texto | Se as labels puderem ser ambas verdadeiras (multilabel), usar \"textcat_multilabel\"\n",
    "\n",
    "# Adiciona os tipos de rótulos\n",
    "categorias.add_label('ALEGRIA')\n",
    "categorias.add_label('MEDO')"
   ]
  },
  {
   "cell_type": "code",
   "execution_count": null,
   "id": "100504bc",
   "metadata": {},
   "outputs": [
    {
     "name": "stdout",
     "output_type": "stream",
     "text": [
      "{'textcat': 1.7156134694814682}\n",
      "{'textcat': 2.2804322666325483e-11}\n",
      "{'textcat': 3.0365062677825683e-12}\n",
      "{'textcat': 8.019679213246145e-13}\n",
      "{'textcat': 2.8741754392073646e-13}\n",
      "{'textcat': 1.166766327854291e-13}\n",
      "{'textcat': 5.728579240542341e-14}\n",
      "{'textcat': 2.9582479781431275e-14}\n",
      "{'textcat': 1.4791390133184657e-14}\n",
      "{'textcat': 7.714530814614378e-15}\n"
     ]
    }
   ],
   "source": [
    "historico = []\n",
    "otimizador = modelo.initialize() # usar modelo.resume_training() para um modelo pré-treinado\n",
    "\n",
    "for epoca in range(1000):\n",
    "    random.shuffle(base_dados_final)\n",
    "    losses = {}\n",
    "\n",
    "    for batch in spacy.util.minibatch(base_dados_final, size=30): # Terá batch size de 30 (ou seja, atualizará os pesos de 30 em 30)\n",
    "        examples = []\n",
    "\n",
    "        for texto, entities in batch:\n",
    "            doc = modelo.make_doc(texto) # cria doc simples sem predições, com tokenização\n",
    "\n",
    "            # Converte booleanos para float\n",
    "            cats = {label: 1.0 if value else 0.0 for label, value in entities.items()}\n",
    "            annotations = {'cats': cats}\n",
    "\n",
    "            # Cada item do batch é transformado em um objeto Example do spaCy\n",
    "            example = Example.from_dict(doc, annotations) # Isto une o texto tokenizado e as anotações\n",
    "            examples.append(example)\n",
    "\n",
    "        # Atualização dos pesos (na versão 3.x do spaCy, é necessário passar uma lista de objetos \"Example\")\n",
    "        modelo.update(examples, sgd=otimizador, losses=losses)\n",
    "\n",
    "    if epoca % 100 == 0: # A cada 100 épocas mostra a época atual e adiciona no histórico\n",
    "        print(losses)\n",
    "        historico.append(losses)"
   ]
  },
  {
   "cell_type": "code",
   "execution_count": null,
   "id": "b6f33a4e",
   "metadata": {},
   "outputs": [
    {
     "data": {
      "text/plain": [
       "array([1.71561347e+00, 2.28043227e-11, 3.03650627e-12, 8.01967921e-13,\n",
       "       2.87417544e-13, 1.16676633e-13, 5.72857924e-14, 2.95824798e-14,\n",
       "       1.47913901e-14, 7.71453081e-15])"
      ]
     },
     "execution_count": 43,
     "metadata": {},
     "output_type": "execute_result"
    }
   ],
   "source": [
    "historico_loss = [h.get('textcat') for h in historico]\n",
    "np.array(historico_loss)"
   ]
  },
  {
   "cell_type": "code",
   "execution_count": null,
   "id": "3482c85f",
   "metadata": {},
   "outputs": [
    {
     "data": {
      "text/plain": [
       "Text(0, 0.5, 'Erro')"
      ]
     },
     "execution_count": 44,
     "metadata": {},
     "output_type": "execute_result"
    },
    {
     "data": {
      "image/png": "[encoded data removed]",
      "text/plain": [
       "<Figure size 640x480 with 1 Axes>"
      ]
     },
     "metadata": {},
     "output_type": "display_data"
    }
   ],
   "source": [
    "plt.plot(historico_loss)\n",
    "plt.title('Progressão do erro')\n",
    "plt.xlabel('Épocas')\n",
    "plt.ylabel('Erro')"
   ]
  },
  {
   "cell_type": "code",
   "execution_count": 25,
   "id": "40dbe603",
   "metadata": {},
   "outputs": [],
   "source": [
    "modelo.to_disk(\"modelo_alegria_medo\") # Será gerado uma pasta com os pesos e arquivos necessários"
   ]
  },
  {
   "cell_type": "markdown",
   "id": "90745614",
   "metadata": {},
   "source": [
    "## Testes com uma frase"
   ]
  },
  {
   "cell_type": "code",
   "execution_count": 24,
   "id": "cb6fd85f",
   "metadata": {},
   "outputs": [
    {
     "data": {
      "text/plain": [
       "<spacy.lang.pt.Portuguese at 0x7fe11a389fc0>"
      ]
     },
     "execution_count": 24,
     "metadata": {},
     "output_type": "execute_result"
    }
   ],
   "source": [
    "modelo_treinado = spacy.load(\"modelo_alegria_medo\")\n",
    "modelo_treinado"
   ]
  },
  {
   "cell_type": "code",
   "execution_count": 25,
   "id": "fe9635dc",
   "metadata": {},
   "outputs": [
    {
     "data": {
      "text/plain": [
       "'adorar cor olho'"
      ]
     },
     "execution_count": 25,
     "metadata": {},
     "output_type": "execute_result"
    }
   ],
   "source": [
    "texto_alegria = \"eu adoro a cor dos seus olhos\"\n",
    "\n",
    "texto_alegria = preprocessamento(texto_alegria)\n",
    "texto_alegria"
   ]
  },
  {
   "cell_type": "code",
   "execution_count": 26,
   "id": "c222ad39",
   "metadata": {},
   "outputs": [
    {
     "data": {
      "text/plain": [
       "adorar cor olho"
      ]
     },
     "execution_count": 26,
     "metadata": {},
     "output_type": "execute_result"
    }
   ],
   "source": [
    "previsao = modelo_treinado(texto_alegria)\n",
    "previsao"
   ]
  },
  {
   "cell_type": "code",
   "execution_count": 27,
   "id": "530d11b2",
   "metadata": {},
   "outputs": [
    {
     "data": {
      "text/plain": [
       "{'ALEGRIA': 1.0, 'MEDO': 2.8992026557261852e-08}"
      ]
     },
     "execution_count": 27,
     "metadata": {},
     "output_type": "execute_result"
    }
   ],
   "source": [
    "previsao.cats # 100% de certeza que o sentimento é de alegria"
   ]
  },
  {
   "cell_type": "code",
   "execution_count": 28,
   "id": "0f2e3779",
   "metadata": {},
   "outputs": [
    {
     "data": {
      "text/plain": [
       "{'ALEGRIA': 2.2099307273037994e-07, 'MEDO': 0.9999997615814209}"
      ]
     },
     "execution_count": 28,
     "metadata": {},
     "output_type": "execute_result"
    }
   ],
   "source": [
    "texto_medo = \"estou com medo dele\"\n",
    "\n",
    "previsao = modelo_treinado(preprocessamento(texto_medo))\n",
    "previsao.cats"
   ]
  },
  {
   "cell_type": "markdown",
   "id": "1a0fd293",
   "metadata": {},
   "source": [
    "## Avaliação do modelo"
   ]
  },
  {
   "cell_type": "code",
   "execution_count": 58,
   "id": "29610896",
   "metadata": {},
   "outputs": [],
   "source": [
    "rotulos_treino = df['emocao']"
   ]
  },
  {
   "cell_type": "markdown",
   "id": "a19e3ebc",
   "metadata": {},
   "source": [
    "### Avaliação na base de treinamento"
   ]
  },
  {
   "cell_type": "code",
   "execution_count": 59,
   "id": "06b80890",
   "metadata": {},
   "outputs": [],
   "source": [
    "previsoes = []\n",
    "\n",
    "for texto in df['texto']:\n",
    "    prev = modelo_treinado(preprocessamento(texto))\n",
    "    previsoes.append(prev.cats)"
   ]
  },
  {
   "cell_type": "code",
   "execution_count": 60,
   "id": "2976e4bc",
   "metadata": {},
   "outputs": [],
   "source": [
    "previsoes_treino = [\"alegria\" if prev['ALEGRIA'] > prev['MEDO'] else \"medo\" for prev in previsoes]"
   ]
  },
  {
   "cell_type": "code",
   "execution_count": 61,
   "id": "14c0e4f2",
   "metadata": {},
   "outputs": [],
   "source": [
    "from sklearn.metrics import confusion_matrix, accuracy_score, ConfusionMatrixDisplay"
   ]
  },
  {
   "cell_type": "code",
   "execution_count": 62,
   "id": "d56be4ab",
   "metadata": {},
   "outputs": [
    {
     "data": {
      "text/plain": [
       "1.0"
      ]
     },
     "execution_count": 62,
     "metadata": {},
     "output_type": "execute_result"
    }
   ],
   "source": [
    "acc_treino = accuracy_score(rotulos_treino, previsoes_treino)\n",
    "acc_treino # 100% de acurácia nos dados de treino"
   ]
  },
  {
   "cell_type": "code",
   "execution_count": null,
   "id": "e42178e9",
   "metadata": {},
   "outputs": [
    {
     "data": {
      "text/plain": [
       "<sklearn.metrics._plot.confusion_matrix.ConfusionMatrixDisplay at 0x7fdfc9f3ff70>"
      ]
     },
     "execution_count": 63,
     "metadata": {},
     "output_type": "execute_result"
    },
    {
     "data": {
      "image/png": "[encoded data removed]",
      "text/plain": [
       "<Figure size 640x480 with 2 Axes>"
      ]
     },
     "metadata": {},
     "output_type": "display_data"
    }
   ],
   "source": [
    "cm = confusion_matrix(rotulos_treino, previsoes_treino)\n",
    "disp = ConfusionMatrixDisplay(confusion_matrix=cm)\n",
    "disp.plot()"
   ]
  },
  {
   "cell_type": "markdown",
   "id": "7326b4bc",
   "metadata": {},
   "source": [
    "### Avaliação na base de teste"
   ]
  },
  {
   "cell_type": "code",
   "execution_count": 64,
   "id": "84705200",
   "metadata": {},
   "outputs": [],
   "source": [
    "df_teste = pd.read_csv('dataset/base_teste.txt')"
   ]
  },
  {
   "cell_type": "code",
   "execution_count": 65,
   "id": "6da116cc",
   "metadata": {},
   "outputs": [
    {
     "data": {
      "text/html": [
       "<div>\n",
       "<style scoped>\n",
       "    .dataframe tbody tr th:only-of-type {\n",
       "        vertical-align: middle;\n",
       "    }\n",
       "\n",
       "    .dataframe tbody tr th {\n",
       "        vertical-align: top;\n",
       "    }\n",
       "\n",
       "    .dataframe thead th {\n",
       "        text-align: right;\n",
       "    }\n",
       "</style>\n",
       "<table border=\"1\" class=\"dataframe\">\n",
       "  <thead>\n",
       "    <tr style=\"text-align: right;\">\n",
       "      <th></th>\n",
       "      <th>texto</th>\n",
       "      <th>emocao</th>\n",
       "      <th>texto_processado</th>\n",
       "    </tr>\n",
       "  </thead>\n",
       "  <tbody>\n",
       "    <tr>\n",
       "      <th>0</th>\n",
       "      <td>não precisei pagar o ingresso</td>\n",
       "      <td>alegria</td>\n",
       "      <td>precisar pagar ingresso</td>\n",
       "    </tr>\n",
       "    <tr>\n",
       "      <th>1</th>\n",
       "      <td>se eu ajeitar tudo fica bem</td>\n",
       "      <td>alegria</td>\n",
       "      <td>ajeitar ficar</td>\n",
       "    </tr>\n",
       "    <tr>\n",
       "      <th>2</th>\n",
       "      <td>minha fortuna ultrapassará a sua</td>\n",
       "      <td>alegria</td>\n",
       "      <td>fortuna ultrapassar</td>\n",
       "    </tr>\n",
       "    <tr>\n",
       "      <th>3</th>\n",
       "      <td>sou muito afortunado</td>\n",
       "      <td>alegria</td>\n",
       "      <td>afortunar</td>\n",
       "    </tr>\n",
       "    <tr>\n",
       "      <th>4</th>\n",
       "      <td>é benéfico para todos esta nova medida</td>\n",
       "      <td>alegria</td>\n",
       "      <td>benéfico medida</td>\n",
       "    </tr>\n",
       "  </tbody>\n",
       "</table>\n",
       "</div>"
      ],
      "text/plain": [
       "                                    texto   emocao         texto_processado\n",
       "0           não precisei pagar o ingresso  alegria  precisar pagar ingresso\n",
       "1             se eu ajeitar tudo fica bem  alegria            ajeitar ficar\n",
       "2        minha fortuna ultrapassará a sua  alegria      fortuna ultrapassar\n",
       "3                    sou muito afortunado  alegria                afortunar\n",
       "4  é benéfico para todos esta nova medida  alegria          benéfico medida"
      ]
     },
     "execution_count": 65,
     "metadata": {},
     "output_type": "execute_result"
    }
   ],
   "source": [
    "df_teste['texto_processado'] = df_teste['texto'].apply(preprocessamento)\n",
    "df_teste.head()"
   ]
  },
  {
   "cell_type": "code",
   "execution_count": 66,
   "id": "0856f50c",
   "metadata": {},
   "outputs": [
    {
     "data": {
      "text/plain": [
       "84"
      ]
     },
     "execution_count": 66,
     "metadata": {},
     "output_type": "execute_result"
    }
   ],
   "source": [
    "len(df_teste)"
   ]
  },
  {
   "cell_type": "code",
   "execution_count": 69,
   "id": "ef54c5e6",
   "metadata": {},
   "outputs": [],
   "source": [
    "rotulos_teste = df_teste['emocao']"
   ]
  },
  {
   "cell_type": "code",
   "execution_count": 70,
   "id": "f518efde",
   "metadata": {},
   "outputs": [],
   "source": [
    "previsoes = []\n",
    "\n",
    "for texto in df_teste['texto_processado']:\n",
    "    prev = modelo_treinado(texto)\n",
    "    previsoes.append(prev.cats)\n",
    "\n",
    "previsoes_teste = [\"alegria\" if prev['ALEGRIA'] > prev['MEDO'] else \"medo\" for prev in previsoes]"
   ]
  },
  {
   "cell_type": "code",
   "execution_count": null,
   "id": "e58d53a0",
   "metadata": {},
   "outputs": [
    {
     "data": {
      "text/plain": [
       "0.5714285714285714"
      ]
     },
     "execution_count": 71,
     "metadata": {},
     "output_type": "execute_result"
    }
   ],
   "source": [
    "acc_teste = accuracy_score(rotulos_teste, previsoes_teste)\n",
    "acc_teste # 57% de acurácia nos dados de teste"
   ]
  },
  {
   "cell_type": "code",
   "execution_count": 74,
   "id": "879429b9",
   "metadata": {},
   "outputs": [
    {
     "data": {
      "text/plain": [
       "<sklearn.metrics._plot.confusion_matrix.ConfusionMatrixDisplay at 0x7fdfc9c2e560>"
      ]
     },
     "execution_count": 74,
     "metadata": {},
     "output_type": "execute_result"
    },
    {
     "data": {
      "image/png": "[encoded data removed]",
      "text/plain": [
       "<Figure size 640x480 with 2 Axes>"
      ]
     },
     "metadata": {},
     "output_type": "display_data"
    }
   ],
   "source": [
    "cm = confusion_matrix(rotulos_teste, previsoes_teste)\n",
    "disp = ConfusionMatrixDisplay(confusion_matrix=cm)\n",
    "disp.plot()"
   ]
  },
  {
   "cell_type": "markdown",
   "id": "5c9f7dc6",
   "metadata": {},
   "source": [
    "### Conclusão\n",
    "\n",
    "Temos um claro **overfitting** (sobreajuste) neste modelo que treinamos. Talvez pelo fato dos poucos dados que submetemos para treinamento do modelo não foi possível alcançar uma boa pontuação de acurácia nos dados de teste."
   ]
  }
 ],
 "metadata": {
  "kernelspec": {
   "display_name": "ai_env",
   "language": "python",
   "name": "python3"
  },
  "language_info": {
   "codemirror_mode": {
    "name": "ipython",
    "version": 3
   },
   "file_extension": ".py",
   "mimetype": "text/x-python",
   "name": "python",
   "nbconvert_exporter": "python",
   "pygments_lexer": "ipython3",
   "version": "3.10.17"
  }
 },
 "nbformat": 4,
 "nbformat_minor": 5
}
