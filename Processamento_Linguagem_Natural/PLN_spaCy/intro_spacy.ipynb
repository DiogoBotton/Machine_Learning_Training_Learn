{
 "cells": [
  {
   "cell_type": "markdown",
   "id": "934e17c8",
   "metadata": {},
   "source": [
    "## Instalação\n",
    "\n",
    "Caso for necessário, instalar a versão 2.2.3 do spacy para seguir a aula do professor:\n",
    "\n",
    "```bash\n",
    "    pip install spacy==2.2.3\n",
    "```\n",
    "\n",
    "Assim"
   ]
  },
  {
   "cell_type": "code",
   "execution_count": 1,
   "id": "4d2f5e6a",
   "metadata": {},
   "outputs": [
    {
     "data": {
      "text/plain": [
       "'3.8.7'"
      ]
     },
     "execution_count": 1,
     "metadata": {},
     "output_type": "execute_result"
    }
   ],
   "source": [
    "import spacy\n",
    "spacy.__version__"
   ]
  },
  {
   "cell_type": "markdown",
   "id": "9c370dd6",
   "metadata": {},
   "source": [
    "Realiza o download dos pacotes em português do spaCy."
   ]
  },
  {
   "cell_type": "code",
   "execution_count": 2,
   "id": "4007e588",
   "metadata": {},
   "outputs": [
    {
     "name": "stdout",
     "output_type": "stream",
     "text": [
      "\u001b[38;5;3m⚠ As of spaCy v3.0, shortcuts like 'pt' are deprecated. Please use the\n",
      "full pipeline package name 'pt_core_news_sm' instead.\u001b[0m\n",
      "Collecting pt-core-news-sm==3.8.0\n",
      "  Using cached https://github.com/explosion/spacy-models/releases/download/pt_core_news_sm-3.8.0/pt_core_news_sm-3.8.0-py3-none-any.whl (13.0 MB)\n",
      "\u001b[38;5;2m✔ Download and installation successful\u001b[0m\n",
      "You can now load the package via spacy.load('pt_core_news_sm')\n"
     ]
    }
   ],
   "source": [
    "!python -m spacy download pt # Agora deve ser: pt_core_news_sm"
   ]
  },
  {
   "cell_type": "markdown",
   "id": "2f5870c0",
   "metadata": {},
   "source": [
    "## Marcação POS\n",
    "\n",
    "- POS: (part-of-speech, partes da fala), atribui para as palavras partes da fala, como substantivos, adjetivos e verbos.\n",
    "- Importante para a detecção de entidades no texto, pois primeiro é necessário saber o que o texto contém."
   ]
  },
  {
   "cell_type": "code",
   "execution_count": 3,
   "id": "a603a2de",
   "metadata": {},
   "outputs": [],
   "source": [
    "# Função principal para realizar todo o processamento nos dados de texto\n",
    "pln = spacy.load('pt_core_news_sm')"
   ]
  },
  {
   "cell_type": "markdown",
   "id": "dc6a338c",
   "metadata": {},
   "source": [
    "Sempre que for necessário processar um texto é necessário coloca-lo dentro do objeto *pln* (variável que armazenou os modelos em português)."
   ]
  },
  {
   "cell_type": "code",
   "execution_count": 4,
   "id": "657829a7",
   "metadata": {},
   "outputs": [],
   "source": [
    "doc = pln('Estou aprendendo processamento de linguagem natural, curso do professor da IA Expert Academy, estudando em São Paulo.')"
   ]
  },
  {
   "cell_type": "code",
   "execution_count": 5,
   "id": "b4f30272",
   "metadata": {},
   "outputs": [
    {
     "name": "stdout",
     "output_type": "stream",
     "text": [
      "Estou AUX\n",
      "aprendendo VERB\n",
      "processamento NOUN\n",
      "de ADP\n",
      "linguagem NOUN\n",
      "natural ADJ\n",
      ", PUNCT\n",
      "curso NOUN\n",
      "do ADP\n",
      "professor NOUN\n",
      "da ADP\n",
      "IA PROPN\n",
      "Expert PROPN\n",
      "Academy PROPN\n",
      ", PUNCT\n",
      "estudando VERB\n",
      "em ADP\n",
      "São PROPN\n",
      "Paulo PROPN\n",
      ". PUNCT\n"
     ]
    }
   ],
   "source": [
    "for token in doc:\n",
    "    print(token, token.pos_) # pos_ verifica o \"part-of-speech\""
   ]
  },
  {
   "cell_type": "markdown",
   "id": "3ec772e8",
   "metadata": {},
   "source": [
    "### Legenda\n",
    "\n",
    "- **lemma**: raiz da palavra\n",
    "- **pos**: parte da fala\n",
    "- **tag**: informações morfológicas, como se o verbo está no passado\n",
    "- **dep**: dependência sintática\n",
    "- **shape**: formato (maiúsculo, minúsculo, dígitos)\n",
    "- **alpha**: se é alfabético\n",
    "- **stop**: se é stopword"
   ]
  },
  {
   "cell_type": "code",
   "execution_count": 6,
   "id": "f3eedc07",
   "metadata": {},
   "outputs": [
    {
     "data": {
      "text/html": [
       "<div>\n",
       "<style scoped>\n",
       "    .dataframe tbody tr th:only-of-type {\n",
       "        vertical-align: middle;\n",
       "    }\n",
       "\n",
       "    .dataframe tbody tr th {\n",
       "        vertical-align: top;\n",
       "    }\n",
       "\n",
       "    .dataframe thead th {\n",
       "        text-align: right;\n",
       "    }\n",
       "</style>\n",
       "<table border=\"1\" class=\"dataframe\">\n",
       "  <thead>\n",
       "    <tr style=\"text-align: right;\">\n",
       "      <th></th>\n",
       "      <th>palavra</th>\n",
       "      <th>lemma_</th>\n",
       "      <th>pos_</th>\n",
       "      <th>tag_</th>\n",
       "      <th>dep_</th>\n",
       "      <th>shape_</th>\n",
       "      <th>is_alpha</th>\n",
       "      <th>is_stop</th>\n",
       "    </tr>\n",
       "  </thead>\n",
       "  <tbody>\n",
       "    <tr>\n",
       "      <th>0</th>\n",
       "      <td>Estou</td>\n",
       "      <td>estar</td>\n",
       "      <td>AUX</td>\n",
       "      <td>AUX</td>\n",
       "      <td>aux</td>\n",
       "      <td>Xxxxx</td>\n",
       "      <td>True</td>\n",
       "      <td>True</td>\n",
       "    </tr>\n",
       "    <tr>\n",
       "      <th>1</th>\n",
       "      <td>aprendendo</td>\n",
       "      <td>aprender</td>\n",
       "      <td>VERB</td>\n",
       "      <td>VERB</td>\n",
       "      <td>ROOT</td>\n",
       "      <td>xxxx</td>\n",
       "      <td>True</td>\n",
       "      <td>False</td>\n",
       "    </tr>\n",
       "    <tr>\n",
       "      <th>2</th>\n",
       "      <td>processamento</td>\n",
       "      <td>processamento</td>\n",
       "      <td>NOUN</td>\n",
       "      <td>NOUN</td>\n",
       "      <td>obj</td>\n",
       "      <td>xxxx</td>\n",
       "      <td>True</td>\n",
       "      <td>False</td>\n",
       "    </tr>\n",
       "    <tr>\n",
       "      <th>3</th>\n",
       "      <td>de</td>\n",
       "      <td>de</td>\n",
       "      <td>ADP</td>\n",
       "      <td>ADP</td>\n",
       "      <td>case</td>\n",
       "      <td>xx</td>\n",
       "      <td>True</td>\n",
       "      <td>True</td>\n",
       "    </tr>\n",
       "    <tr>\n",
       "      <th>4</th>\n",
       "      <td>linguagem</td>\n",
       "      <td>linguagem</td>\n",
       "      <td>NOUN</td>\n",
       "      <td>NOUN</td>\n",
       "      <td>nmod</td>\n",
       "      <td>xxxx</td>\n",
       "      <td>True</td>\n",
       "      <td>False</td>\n",
       "    </tr>\n",
       "    <tr>\n",
       "      <th>5</th>\n",
       "      <td>natural</td>\n",
       "      <td>natural</td>\n",
       "      <td>ADJ</td>\n",
       "      <td>ADJ</td>\n",
       "      <td>amod</td>\n",
       "      <td>xxxx</td>\n",
       "      <td>True</td>\n",
       "      <td>False</td>\n",
       "    </tr>\n",
       "    <tr>\n",
       "      <th>6</th>\n",
       "      <td>,</td>\n",
       "      <td>,</td>\n",
       "      <td>PUNCT</td>\n",
       "      <td>PUNCT</td>\n",
       "      <td>punct</td>\n",
       "      <td>,</td>\n",
       "      <td>False</td>\n",
       "      <td>False</td>\n",
       "    </tr>\n",
       "    <tr>\n",
       "      <th>7</th>\n",
       "      <td>curso</td>\n",
       "      <td>curso</td>\n",
       "      <td>NOUN</td>\n",
       "      <td>NOUN</td>\n",
       "      <td>appos</td>\n",
       "      <td>xxxx</td>\n",
       "      <td>True</td>\n",
       "      <td>False</td>\n",
       "    </tr>\n",
       "    <tr>\n",
       "      <th>8</th>\n",
       "      <td>do</td>\n",
       "      <td>de o</td>\n",
       "      <td>ADP</td>\n",
       "      <td>ADP</td>\n",
       "      <td>case</td>\n",
       "      <td>xx</td>\n",
       "      <td>True</td>\n",
       "      <td>True</td>\n",
       "    </tr>\n",
       "    <tr>\n",
       "      <th>9</th>\n",
       "      <td>professor</td>\n",
       "      <td>professor</td>\n",
       "      <td>NOUN</td>\n",
       "      <td>NOUN</td>\n",
       "      <td>nmod</td>\n",
       "      <td>xxxx</td>\n",
       "      <td>True</td>\n",
       "      <td>False</td>\n",
       "    </tr>\n",
       "    <tr>\n",
       "      <th>10</th>\n",
       "      <td>da</td>\n",
       "      <td>de o</td>\n",
       "      <td>ADP</td>\n",
       "      <td>ADP</td>\n",
       "      <td>case</td>\n",
       "      <td>xx</td>\n",
       "      <td>True</td>\n",
       "      <td>True</td>\n",
       "    </tr>\n",
       "    <tr>\n",
       "      <th>11</th>\n",
       "      <td>IA</td>\n",
       "      <td>IA</td>\n",
       "      <td>PROPN</td>\n",
       "      <td>PROPN</td>\n",
       "      <td>nmod</td>\n",
       "      <td>XX</td>\n",
       "      <td>True</td>\n",
       "      <td>False</td>\n",
       "    </tr>\n",
       "    <tr>\n",
       "      <th>12</th>\n",
       "      <td>Expert</td>\n",
       "      <td>Expert</td>\n",
       "      <td>PROPN</td>\n",
       "      <td>PROPN</td>\n",
       "      <td>flat:name</td>\n",
       "      <td>Xxxxx</td>\n",
       "      <td>True</td>\n",
       "      <td>False</td>\n",
       "    </tr>\n",
       "    <tr>\n",
       "      <th>13</th>\n",
       "      <td>Academy</td>\n",
       "      <td>Academy</td>\n",
       "      <td>PROPN</td>\n",
       "      <td>PROPN</td>\n",
       "      <td>flat:name</td>\n",
       "      <td>Xxxxx</td>\n",
       "      <td>True</td>\n",
       "      <td>False</td>\n",
       "    </tr>\n",
       "    <tr>\n",
       "      <th>14</th>\n",
       "      <td>,</td>\n",
       "      <td>,</td>\n",
       "      <td>PUNCT</td>\n",
       "      <td>PUNCT</td>\n",
       "      <td>punct</td>\n",
       "      <td>,</td>\n",
       "      <td>False</td>\n",
       "      <td>False</td>\n",
       "    </tr>\n",
       "    <tr>\n",
       "      <th>15</th>\n",
       "      <td>estudando</td>\n",
       "      <td>estudar</td>\n",
       "      <td>VERB</td>\n",
       "      <td>VERB</td>\n",
       "      <td>acl</td>\n",
       "      <td>xxxx</td>\n",
       "      <td>True</td>\n",
       "      <td>False</td>\n",
       "    </tr>\n",
       "    <tr>\n",
       "      <th>16</th>\n",
       "      <td>em</td>\n",
       "      <td>em</td>\n",
       "      <td>ADP</td>\n",
       "      <td>ADP</td>\n",
       "      <td>case</td>\n",
       "      <td>xx</td>\n",
       "      <td>True</td>\n",
       "      <td>True</td>\n",
       "    </tr>\n",
       "    <tr>\n",
       "      <th>17</th>\n",
       "      <td>São</td>\n",
       "      <td>São</td>\n",
       "      <td>PROPN</td>\n",
       "      <td>PROPN</td>\n",
       "      <td>obl</td>\n",
       "      <td>Xxx</td>\n",
       "      <td>True</td>\n",
       "      <td>True</td>\n",
       "    </tr>\n",
       "    <tr>\n",
       "      <th>18</th>\n",
       "      <td>Paulo</td>\n",
       "      <td>Paulo</td>\n",
       "      <td>PROPN</td>\n",
       "      <td>PROPN</td>\n",
       "      <td>flat:name</td>\n",
       "      <td>Xxxxx</td>\n",
       "      <td>True</td>\n",
       "      <td>False</td>\n",
       "    </tr>\n",
       "    <tr>\n",
       "      <th>19</th>\n",
       "      <td>.</td>\n",
       "      <td>.</td>\n",
       "      <td>PUNCT</td>\n",
       "      <td>PUNCT</td>\n",
       "      <td>punct</td>\n",
       "      <td>.</td>\n",
       "      <td>False</td>\n",
       "      <td>False</td>\n",
       "    </tr>\n",
       "  </tbody>\n",
       "</table>\n",
       "</div>"
      ],
      "text/plain": [
       "          palavra         lemma_   pos_   tag_       dep_ shape_  is_alpha  \\\n",
       "0           Estou          estar    AUX    AUX        aux  Xxxxx      True   \n",
       "1      aprendendo       aprender   VERB   VERB       ROOT   xxxx      True   \n",
       "2   processamento  processamento   NOUN   NOUN        obj   xxxx      True   \n",
       "3              de             de    ADP    ADP       case     xx      True   \n",
       "4       linguagem      linguagem   NOUN   NOUN       nmod   xxxx      True   \n",
       "5         natural        natural    ADJ    ADJ       amod   xxxx      True   \n",
       "6               ,              ,  PUNCT  PUNCT      punct      ,     False   \n",
       "7           curso          curso   NOUN   NOUN      appos   xxxx      True   \n",
       "8              do           de o    ADP    ADP       case     xx      True   \n",
       "9       professor      professor   NOUN   NOUN       nmod   xxxx      True   \n",
       "10             da           de o    ADP    ADP       case     xx      True   \n",
       "11             IA             IA  PROPN  PROPN       nmod     XX      True   \n",
       "12         Expert         Expert  PROPN  PROPN  flat:name  Xxxxx      True   \n",
       "13        Academy        Academy  PROPN  PROPN  flat:name  Xxxxx      True   \n",
       "14              ,              ,  PUNCT  PUNCT      punct      ,     False   \n",
       "15      estudando        estudar   VERB   VERB        acl   xxxx      True   \n",
       "16             em             em    ADP    ADP       case     xx      True   \n",
       "17            São            São  PROPN  PROPN        obl    Xxx      True   \n",
       "18          Paulo          Paulo  PROPN  PROPN  flat:name  Xxxxx      True   \n",
       "19              .              .  PUNCT  PUNCT      punct      .     False   \n",
       "\n",
       "    is_stop  \n",
       "0      True  \n",
       "1     False  \n",
       "2     False  \n",
       "3      True  \n",
       "4     False  \n",
       "5     False  \n",
       "6     False  \n",
       "7     False  \n",
       "8      True  \n",
       "9     False  \n",
       "10     True  \n",
       "11    False  \n",
       "12    False  \n",
       "13    False  \n",
       "14    False  \n",
       "15    False  \n",
       "16     True  \n",
       "17     True  \n",
       "18    False  \n",
       "19    False  "
      ]
     },
     "execution_count": 6,
     "metadata": {},
     "output_type": "execute_result"
    }
   ],
   "source": [
    "import pandas as pd\n",
    "\n",
    "tokens = [{'palavra': token.text, \n",
    "           'lemma_': token.lemma_, \n",
    "           'pos_': token.pos_, \n",
    "           'tag_': token.tag_, \n",
    "           'dep_': token.dep_, \n",
    "           'shape_': token.shape_, \n",
    "           'is_alpha': token.is_alpha, \n",
    "           'is_stop': token.is_stop}\n",
    "          for token in doc]\n",
    "\n",
    "df_tokens = pd.DataFrame.from_dict(tokens)\n",
    "df_tokens"
   ]
  },
  {
   "cell_type": "markdown",
   "id": "a588f45b",
   "metadata": {},
   "source": [
    "Adquirindo apenas entidades (nomes próprios):"
   ]
  },
  {
   "cell_type": "code",
   "execution_count": 7,
   "id": "4be0984c",
   "metadata": {},
   "outputs": [
    {
     "name": "stdout",
     "output_type": "stream",
     "text": [
      "IA\n",
      "Expert\n",
      "Academy\n",
      "São\n",
      "Paulo\n"
     ]
    }
   ],
   "source": [
    "for token in doc:\n",
    "    if token.pos_ == 'PROPN':\n",
    "        print(token)"
   ]
  },
  {
   "cell_type": "markdown",
   "id": "269ab500",
   "metadata": {},
   "source": [
    "## Lematização e stemização\n",
    "\n",
    "- **Lematização**: \"Lema\" de uma palavra de acordo com seu significado no dicionário - **palavra base** (análise vocabular e morfológica)\n",
    "    - Como por exemplo, para a palavra \"aprendendo\" a palavra base seria \"aprender\".\n",
    "\n",
    "- **Stemização**: Extração do **radical** das palavras.\n",
    "    - Como por exemplo, para a palavra \"aprendendo\" o radical extraído seria \"aprend\"."
   ]
  },
  {
   "cell_type": "markdown",
   "id": "b2f23e26",
   "metadata": {},
   "source": [
    "A Lematização realiza a análise morfológica das palavras.\n",
    "\n",
    "*morfológica: refere-se ao estudo da forma e estrutura*"
   ]
  },
  {
   "cell_type": "code",
   "execution_count": 8,
   "id": "67305514",
   "metadata": {},
   "outputs": [
    {
     "data": {
      "text/html": [
       "<div>\n",
       "<style scoped>\n",
       "    .dataframe tbody tr th:only-of-type {\n",
       "        vertical-align: middle;\n",
       "    }\n",
       "\n",
       "    .dataframe tbody tr th {\n",
       "        vertical-align: top;\n",
       "    }\n",
       "\n",
       "    .dataframe thead th {\n",
       "        text-align: right;\n",
       "    }\n",
       "</style>\n",
       "<table border=\"1\" class=\"dataframe\">\n",
       "  <thead>\n",
       "    <tr style=\"text-align: right;\">\n",
       "      <th></th>\n",
       "      <th>palavra</th>\n",
       "      <th>lemma_</th>\n",
       "    </tr>\n",
       "  </thead>\n",
       "  <tbody>\n",
       "    <tr>\n",
       "      <th>0</th>\n",
       "      <td>Estou</td>\n",
       "      <td>estar</td>\n",
       "    </tr>\n",
       "    <tr>\n",
       "      <th>1</th>\n",
       "      <td>aprendendo</td>\n",
       "      <td>aprender</td>\n",
       "    </tr>\n",
       "    <tr>\n",
       "      <th>2</th>\n",
       "      <td>processamento</td>\n",
       "      <td>processamento</td>\n",
       "    </tr>\n",
       "    <tr>\n",
       "      <th>3</th>\n",
       "      <td>de</td>\n",
       "      <td>de</td>\n",
       "    </tr>\n",
       "    <tr>\n",
       "      <th>4</th>\n",
       "      <td>linguagem</td>\n",
       "      <td>linguagem</td>\n",
       "    </tr>\n",
       "    <tr>\n",
       "      <th>5</th>\n",
       "      <td>natural</td>\n",
       "      <td>natural</td>\n",
       "    </tr>\n",
       "    <tr>\n",
       "      <th>6</th>\n",
       "      <td>,</td>\n",
       "      <td>,</td>\n",
       "    </tr>\n",
       "    <tr>\n",
       "      <th>7</th>\n",
       "      <td>curso</td>\n",
       "      <td>curso</td>\n",
       "    </tr>\n",
       "    <tr>\n",
       "      <th>8</th>\n",
       "      <td>do</td>\n",
       "      <td>de o</td>\n",
       "    </tr>\n",
       "    <tr>\n",
       "      <th>9</th>\n",
       "      <td>professor</td>\n",
       "      <td>professor</td>\n",
       "    </tr>\n",
       "    <tr>\n",
       "      <th>10</th>\n",
       "      <td>da</td>\n",
       "      <td>de o</td>\n",
       "    </tr>\n",
       "    <tr>\n",
       "      <th>11</th>\n",
       "      <td>IA</td>\n",
       "      <td>IA</td>\n",
       "    </tr>\n",
       "    <tr>\n",
       "      <th>12</th>\n",
       "      <td>Expert</td>\n",
       "      <td>Expert</td>\n",
       "    </tr>\n",
       "    <tr>\n",
       "      <th>13</th>\n",
       "      <td>Academy</td>\n",
       "      <td>Academy</td>\n",
       "    </tr>\n",
       "    <tr>\n",
       "      <th>14</th>\n",
       "      <td>,</td>\n",
       "      <td>,</td>\n",
       "    </tr>\n",
       "    <tr>\n",
       "      <th>15</th>\n",
       "      <td>estudando</td>\n",
       "      <td>estudar</td>\n",
       "    </tr>\n",
       "    <tr>\n",
       "      <th>16</th>\n",
       "      <td>em</td>\n",
       "      <td>em</td>\n",
       "    </tr>\n",
       "    <tr>\n",
       "      <th>17</th>\n",
       "      <td>São</td>\n",
       "      <td>São</td>\n",
       "    </tr>\n",
       "    <tr>\n",
       "      <th>18</th>\n",
       "      <td>Paulo</td>\n",
       "      <td>Paulo</td>\n",
       "    </tr>\n",
       "    <tr>\n",
       "      <th>19</th>\n",
       "      <td>.</td>\n",
       "      <td>.</td>\n",
       "    </tr>\n",
       "  </tbody>\n",
       "</table>\n",
       "</div>"
      ],
      "text/plain": [
       "          palavra         lemma_\n",
       "0           Estou          estar\n",
       "1      aprendendo       aprender\n",
       "2   processamento  processamento\n",
       "3              de             de\n",
       "4       linguagem      linguagem\n",
       "5         natural        natural\n",
       "6               ,              ,\n",
       "7           curso          curso\n",
       "8              do           de o\n",
       "9       professor      professor\n",
       "10             da           de o\n",
       "11             IA             IA\n",
       "12         Expert         Expert\n",
       "13        Academy        Academy\n",
       "14              ,              ,\n",
       "15      estudando        estudar\n",
       "16             em             em\n",
       "17            São            São\n",
       "18          Paulo          Paulo\n",
       "19              .              ."
      ]
     },
     "execution_count": 8,
     "metadata": {},
     "output_type": "execute_result"
    }
   ],
   "source": [
    "df_tokens[['palavra', 'lemma_']]"
   ]
  },
  {
   "cell_type": "markdown",
   "id": "0fceac01",
   "metadata": {},
   "source": [
    "Note que o lemma para cada uma das palavras abaixo é a mesma, ou seja, a morfologia de todas essas palavras levam para a palavra \"encontrar\"."
   ]
  },
  {
   "cell_type": "code",
   "execution_count": 9,
   "id": "ebe2f9cf",
   "metadata": {},
   "outputs": [
    {
     "data": {
      "text/plain": [
       "['encontrar', 'encontrar', 'encontrar']"
      ]
     },
     "execution_count": 9,
     "metadata": {},
     "output_type": "execute_result"
    }
   ],
   "source": [
    "doc_2 = pln('encontrei encontraram encontrarão')\n",
    "[token.lemma_ for token in doc_2]"
   ]
  },
  {
   "cell_type": "markdown",
   "id": "afc358f8",
   "metadata": {},
   "source": [
    "### Comparação de stemização (NLTK - Natural Language ToolKit) x lematização (spaCy) "
   ]
  },
  {
   "cell_type": "code",
   "execution_count": 10,
   "id": "36583146",
   "metadata": {},
   "outputs": [
    {
     "name": "stderr",
     "output_type": "stream",
     "text": [
      "[nltk_data] Downloading package rslp to /home/wolf/nltk_data...\n",
      "[nltk_data]   Unzipping stemmers/rslp.zip.\n"
     ]
    },
    {
     "data": {
      "text/plain": [
       "True"
      ]
     },
     "execution_count": 10,
     "metadata": {},
     "output_type": "execute_result"
    }
   ],
   "source": [
    "import nltk\n",
    "nltk.download('rslp') # stemizador específico para trabalharmos com a língua portuguesa"
   ]
  },
  {
   "cell_type": "markdown",
   "id": "6bfec44e",
   "metadata": {},
   "source": [
    "Quando é realizado a stemização, irá extrair apenas o radical das palavras.\n",
    "\n",
    "É possível que com o uso dessa técnica palavras com significados diferentes tenham um mesmo radical, algo que pode gerar confusão."
   ]
  },
  {
   "cell_type": "code",
   "execution_count": 11,
   "id": "d5ede28b",
   "metadata": {},
   "outputs": [
    {
     "data": {
      "text/plain": [
       "'aprend'"
      ]
     },
     "execution_count": 11,
     "metadata": {},
     "output_type": "execute_result"
    }
   ],
   "source": [
    "stemmer = nltk.stem.RSLPStemmer()\n",
    "\n",
    "stemmer.stem('aprendendo')"
   ]
  },
  {
   "cell_type": "markdown",
   "id": "36d4bdf3",
   "metadata": {},
   "source": [
    "São Paulo ficou como \"paul\", não faz muito sentido extrair o radical de uma palavra que seria de um nome próprio.\n",
    "\n",
    "Com a lematização o significado da palavra é mantido."
   ]
  },
  {
   "cell_type": "code",
   "execution_count": 12,
   "id": "ec4b02bf",
   "metadata": {},
   "outputs": [
    {
     "name": "stdout",
     "output_type": "stream",
     "text": [
      "Estou estar est\n",
      "aprendendo aprender aprend\n",
      "processamento processamento process\n",
      "de de de\n",
      "linguagem linguagem lingu\n",
      "natural natural natur\n",
      ", , ,\n",
      "curso curso curs\n",
      "do de o do\n",
      "professor professor profes\n",
      "da de o da\n",
      "IA IA ia\n",
      "Expert Expert expert\n",
      "Academy Academy academy\n",
      ", , ,\n",
      "estudando estudar estud\n",
      "em em em\n",
      "São São são\n",
      "Paulo Paulo paul\n",
      ". . .\n"
     ]
    }
   ],
   "source": [
    "for token in doc:\n",
    "    print(token.text, token.lemma_, stemmer.stem(token.text))"
   ]
  },
  {
   "cell_type": "markdown",
   "id": "570ff0ac",
   "metadata": {},
   "source": [
    "## Reconhecimento de entidades nomeadas\n",
    "\n",
    "- NER (Named-Entity Recognition).\n",
    "- Encontrar e classificar entidades no texto, dependendo da base de dados que foi utilizada para o treinamento (pessoa, localização, empresa, numéricos).\n",
    "- Usado em chatbots para saber o assunto falado."
   ]
  },
  {
   "cell_type": "code",
   "execution_count": 13,
   "id": "14f3af28",
   "metadata": {},
   "outputs": [],
   "source": [
    "texto = 'A IBM é uma empresa dos Estados Unidos voltada para a área de informática. Sua sede no Brasil fica em São Paulo e a receita em 2018 foi de aproximadamente 320 bilhões de reais'"
   ]
  },
  {
   "cell_type": "code",
   "execution_count": 14,
   "id": "68e0bcaf",
   "metadata": {},
   "outputs": [],
   "source": [
    "doc = pln(texto)"
   ]
  },
  {
   "cell_type": "markdown",
   "id": "ab99725f",
   "metadata": {},
   "source": [
    "Para acessar as entidades nomeadas, basta acessar pela propriedade *ents*.\n",
    "\n",
    "No caso, o algoritmo identificou que IBM é uma organização (ORG) e os demais são localizações (LOC)."
   ]
  },
  {
   "cell_type": "code",
   "execution_count": 15,
   "id": "751fe623",
   "metadata": {},
   "outputs": [
    {
     "name": "stdout",
     "output_type": "stream",
     "text": [
      "IBM ORG\n",
      "Estados Unidos LOC\n",
      "Brasil LOC\n",
      "São Paulo LOC\n"
     ]
    }
   ],
   "source": [
    "for entidade in doc.ents:\n",
    "    print(entidade.text, entidade.label_)"
   ]
  },
  {
   "cell_type": "code",
   "execution_count": 20,
   "id": "d8ec30b7",
   "metadata": {},
   "outputs": [
    {
     "data": {
      "text/html": [
       "<span class=\"tex2jax_ignore\"><div class=\"entities\" style=\"line-height: 2.5; direction: ltr\">A \n",
       "<mark class=\"entity\" style=\"background: #7aecec; padding: 0.45em 0.6em; margin: 0 0.25em; line-height: 1; border-radius: 0.35em;\">\n",
       "    IBM\n",
       "    <span style=\"font-size: 0.8em; font-weight: bold; line-height: 1; border-radius: 0.35em; vertical-align: middle; margin-left: 0.5rem\">ORG</span>\n",
       "</mark>\n",
       " é uma empresa dos \n",
       "<mark class=\"entity\" style=\"background: #ff9561; padding: 0.45em 0.6em; margin: 0 0.25em; line-height: 1; border-radius: 0.35em;\">\n",
       "    Estados Unidos\n",
       "    <span style=\"font-size: 0.8em; font-weight: bold; line-height: 1; border-radius: 0.35em; vertical-align: middle; margin-left: 0.5rem\">LOC</span>\n",
       "</mark>\n",
       " voltada para a área de informática. Sua sede no \n",
       "<mark class=\"entity\" style=\"background: #ff9561; padding: 0.45em 0.6em; margin: 0 0.25em; line-height: 1; border-radius: 0.35em;\">\n",
       "    Brasil\n",
       "    <span style=\"font-size: 0.8em; font-weight: bold; line-height: 1; border-radius: 0.35em; vertical-align: middle; margin-left: 0.5rem\">LOC</span>\n",
       "</mark>\n",
       " fica em \n",
       "<mark class=\"entity\" style=\"background: #ff9561; padding: 0.45em 0.6em; margin: 0 0.25em; line-height: 1; border-radius: 0.35em;\">\n",
       "    São Paulo\n",
       "    <span style=\"font-size: 0.8em; font-weight: bold; line-height: 1; border-radius: 0.35em; vertical-align: middle; margin-left: 0.5rem\">LOC</span>\n",
       "</mark>\n",
       " e a receita em 2018 foi de aproximadamente 320 bilhões de reais</div></span>"
      ],
      "text/plain": [
       "<IPython.core.display.HTML object>"
      ]
     },
     "metadata": {},
     "output_type": "display_data"
    }
   ],
   "source": [
    "from spacy import displacy\n",
    "\n",
    "displacy.render(doc,\n",
    "                style='ent', # enfatizar as entidades\n",
    "                jupyter=True) # True para exibir com uma estilização no Jupyter Notebook"
   ]
  },
  {
   "cell_type": "code",
   "execution_count": 21,
   "id": "063e8290",
   "metadata": {},
   "outputs": [],
   "source": [
    "texto = 'Bill Gates nasceu em Seattle em 28/10/1955 e foi o criador da Microsoft'\n",
    "doc = pln(texto)"
   ]
  },
  {
   "cell_type": "code",
   "execution_count": 22,
   "id": "f9b43f34",
   "metadata": {},
   "outputs": [
    {
     "name": "stdout",
     "output_type": "stream",
     "text": [
      "Bill Gates PER\n",
      "Seattle LOC\n",
      "Microsoft ORG\n"
     ]
    }
   ],
   "source": [
    "for entidade in doc.ents:\n",
    "    print(entidade.text, entidade.label_)"
   ]
  },
  {
   "cell_type": "code",
   "execution_count": 23,
   "id": "c15aca3e",
   "metadata": {},
   "outputs": [
    {
     "data": {
      "text/html": [
       "<span class=\"tex2jax_ignore\"><div class=\"entities\" style=\"line-height: 2.5; direction: ltr\">\n",
       "<mark class=\"entity\" style=\"background: #ddd; padding: 0.45em 0.6em; margin: 0 0.25em; line-height: 1; border-radius: 0.35em;\">\n",
       "    Bill Gates\n",
       "    <span style=\"font-size: 0.8em; font-weight: bold; line-height: 1; border-radius: 0.35em; vertical-align: middle; margin-left: 0.5rem\">PER</span>\n",
       "</mark>\n",
       " nasceu em \n",
       "<mark class=\"entity\" style=\"background: #ff9561; padding: 0.45em 0.6em; margin: 0 0.25em; line-height: 1; border-radius: 0.35em;\">\n",
       "    Seattle\n",
       "    <span style=\"font-size: 0.8em; font-weight: bold; line-height: 1; border-radius: 0.35em; vertical-align: middle; margin-left: 0.5rem\">LOC</span>\n",
       "</mark>\n",
       " em 28/10/1955 e foi o criador da \n",
       "<mark class=\"entity\" style=\"background: #7aecec; padding: 0.45em 0.6em; margin: 0 0.25em; line-height: 1; border-radius: 0.35em;\">\n",
       "    Microsoft\n",
       "    <span style=\"font-size: 0.8em; font-weight: bold; line-height: 1; border-radius: 0.35em; vertical-align: middle; margin-left: 0.5rem\">ORG</span>\n",
       "</mark>\n",
       "</div></span>"
      ],
      "text/plain": [
       "<IPython.core.display.HTML object>"
      ]
     },
     "metadata": {},
     "output_type": "display_data"
    }
   ],
   "source": [
    "displacy.render(doc,\n",
    "                style='ent',\n",
    "                jupyter=True)"
   ]
  },
  {
   "cell_type": "markdown",
   "id": "3b4617f4",
   "metadata": {},
   "source": [
    "Buscando apenas as entidades do tipo PER (pessoa)."
   ]
  },
  {
   "cell_type": "code",
   "execution_count": 24,
   "id": "25f180a6",
   "metadata": {},
   "outputs": [
    {
     "name": "stdout",
     "output_type": "stream",
     "text": [
      "Bill Gates\n"
     ]
    }
   ],
   "source": [
    "for entidade in doc.ents:\n",
    "    if entidade.label_ == 'PER':\n",
    "        print(entidade.text)"
   ]
  }
 ],
 "metadata": {
  "kernelspec": {
   "display_name": "ai_env",
   "language": "python",
   "name": "python3"
  },
  "language_info": {
   "codemirror_mode": {
    "name": "ipython",
    "version": 3
   },
   "file_extension": ".py",
   "mimetype": "text/x-python",
   "name": "python",
   "nbconvert_exporter": "python",
   "pygments_lexer": "ipython3",
   "version": "3.10.17"
  }
 },
 "nbformat": 4,
 "nbformat_minor": 5
}
