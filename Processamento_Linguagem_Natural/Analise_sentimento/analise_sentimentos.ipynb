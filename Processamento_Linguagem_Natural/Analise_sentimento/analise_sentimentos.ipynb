{
 "cells": [
  {
   "cell_type": "code",
   "execution_count": 44,
   "metadata": {},
   "outputs": [],
   "source": [
    "# Importação das bibliotecas necessárias\n",
    "\n",
    "import pandas as pd\n",
    "from nltk.corpus import stopwords\n",
    "from nltk import FreqDist, WordPunctTokenizer, WhitespaceTokenizer, RSLPStemmer\n",
    "import matplotlib.pyplot as plt\n",
    "from wordcloud import WordCloud\n",
    "from sklearn.linear_model import LogisticRegression\n",
    "from sklearn.model_selection import train_test_split\n",
    "from sklearn.feature_extraction.text import CountVectorizer, TfidfVectorizer\n",
    "from unidecode import unidecode\n",
    "import seaborn as sns\n",
    "import joblib"
   ]
  },
  {
   "cell_type": "code",
   "execution_count": 45,
   "metadata": {},
   "outputs": [
    {
     "data": {
      "text/html": [
       "<div>\n",
       "<style scoped>\n",
       "    .dataframe tbody tr th:only-of-type {\n",
       "        vertical-align: middle;\n",
       "    }\n",
       "\n",
       "    .dataframe tbody tr th {\n",
       "        vertical-align: top;\n",
       "    }\n",
       "\n",
       "    .dataframe thead th {\n",
       "        text-align: right;\n",
       "    }\n",
       "</style>\n",
       "<table border=\"1\" class=\"dataframe\">\n",
       "  <thead>\n",
       "    <tr style=\"text-align: right;\">\n",
       "      <th></th>\n",
       "      <th>ID_avaliacao</th>\n",
       "      <th>avaliacao</th>\n",
       "      <th>nota</th>\n",
       "      <th>sentimento</th>\n",
       "    </tr>\n",
       "  </thead>\n",
       "  <tbody>\n",
       "    <tr>\n",
       "      <th>0</th>\n",
       "      <td>81841</td>\n",
       "      <td>Esse smartphone superou minhas expectativas, r...</td>\n",
       "      <td>5</td>\n",
       "      <td>positivo</td>\n",
       "    </tr>\n",
       "    <tr>\n",
       "      <th>1</th>\n",
       "      <td>28031</td>\n",
       "      <td>o cheiro e muito desagradavel!! pra quem se in...</td>\n",
       "      <td>2</td>\n",
       "      <td>negativo</td>\n",
       "    </tr>\n",
       "    <tr>\n",
       "      <th>2</th>\n",
       "      <td>91332</td>\n",
       "      <td>Eu fiz a compra a loja não entregou o produto,...</td>\n",
       "      <td>1</td>\n",
       "      <td>negativo</td>\n",
       "    </tr>\n",
       "    <tr>\n",
       "      <th>3</th>\n",
       "      <td>110045</td>\n",
       "      <td>Atendeu minhas expectativas, só achei a luz ru...</td>\n",
       "      <td>4</td>\n",
       "      <td>positivo</td>\n",
       "    </tr>\n",
       "    <tr>\n",
       "      <th>4</th>\n",
       "      <td>36929</td>\n",
       "      <td>Gostei muito, só achei que ficou a desejar a q...</td>\n",
       "      <td>5</td>\n",
       "      <td>positivo</td>\n",
       "    </tr>\n",
       "  </tbody>\n",
       "</table>\n",
       "</div>"
      ],
      "text/plain": [
       "   ID_avaliacao  ... sentimento\n",
       "0         81841  ...   positivo\n",
       "1         28031  ...   negativo\n",
       "2         91332  ...   negativo\n",
       "3        110045  ...   positivo\n",
       "4         36929  ...   positivo\n",
       "\n",
       "[5 rows x 4 columns]"
      ]
     },
     "execution_count": 45,
     "metadata": {},
     "output_type": "execute_result"
    }
   ],
   "source": [
    "df = pd.read_csv('dataset_avaliacoes.csv')\n",
    "\n",
    "df.head()"
   ]
  },
  {
   "cell_type": "markdown",
   "metadata": {},
   "source": [
    "Faz todo o processo de tratamento de dados textuais e armazena numa nova coluna *frase_tratada*.\n",
    "- Remoção de acentuação\n",
    "- Remoção das palavras irrelevantes\n",
    "- Normalização do texto em letras minúsculas\n",
    "- Remoção dos caracteres especiais"
   ]
  },
  {
   "cell_type": "code",
   "execution_count": 46,
   "metadata": {},
   "outputs": [
    {
     "data": {
      "text/html": [
       "<div>\n",
       "<style scoped>\n",
       "    .dataframe tbody tr th:only-of-type {\n",
       "        vertical-align: middle;\n",
       "    }\n",
       "\n",
       "    .dataframe tbody tr th {\n",
       "        vertical-align: top;\n",
       "    }\n",
       "\n",
       "    .dataframe thead th {\n",
       "        text-align: right;\n",
       "    }\n",
       "</style>\n",
       "<table border=\"1\" class=\"dataframe\">\n",
       "  <thead>\n",
       "    <tr style=\"text-align: right;\">\n",
       "      <th></th>\n",
       "      <th>ID_avaliacao</th>\n",
       "      <th>avaliacao</th>\n",
       "      <th>nota</th>\n",
       "      <th>sentimento</th>\n",
       "      <th>frase_tratada</th>\n",
       "    </tr>\n",
       "  </thead>\n",
       "  <tbody>\n",
       "    <tr>\n",
       "      <th>0</th>\n",
       "      <td>81841</td>\n",
       "      <td>Esse smartphone superou minhas expectativas, r...</td>\n",
       "      <td>5</td>\n",
       "      <td>positivo</td>\n",
       "      <td>smartphon super expect recom</td>\n",
       "    </tr>\n",
       "    <tr>\n",
       "      <th>1</th>\n",
       "      <td>28031</td>\n",
       "      <td>o cheiro e muito desagradavel!! pra quem se in...</td>\n",
       "      <td>2</td>\n",
       "      <td>negativo</td>\n",
       "      <td>cheir desagrada pra incomod recomendo</td>\n",
       "    </tr>\n",
       "    <tr>\n",
       "      <th>2</th>\n",
       "      <td>91332</td>\n",
       "      <td>Eu fiz a compra a loja não entregou o produto,...</td>\n",
       "      <td>1</td>\n",
       "      <td>negativo</td>\n",
       "      <td>fiz compr loj entreg produt compr feit carta c...</td>\n",
       "    </tr>\n",
       "    <tr>\n",
       "      <th>3</th>\n",
       "      <td>110045</td>\n",
       "      <td>Atendeu minhas expectativas, só achei a luz ru...</td>\n",
       "      <td>4</td>\n",
       "      <td>positivo</td>\n",
       "      <td>atend expect ach luz ruim nad dificult funcion</td>\n",
       "    </tr>\n",
       "    <tr>\n",
       "      <th>4</th>\n",
       "      <td>36929</td>\n",
       "      <td>Gostei muito, só achei que ficou a desejar a q...</td>\n",
       "      <td>5</td>\n",
       "      <td>positivo</td>\n",
       "      <td>gost ach fic desej qual fot ach bem melhor</td>\n",
       "    </tr>\n",
       "  </tbody>\n",
       "</table>\n",
       "</div>"
      ],
      "text/plain": [
       "   ID_avaliacao  ...                                      frase_tratada\n",
       "0         81841  ...                       smartphon super expect recom\n",
       "1         28031  ...              cheir desagrada pra incomod recomendo\n",
       "2         91332  ...  fiz compr loj entreg produt compr feit carta c...\n",
       "3        110045  ...     atend expect ach luz ruim nad dificult funcion\n",
       "4         36929  ...         gost ach fic desej qual fot ach bem melhor\n",
       "\n",
       "[5 rows x 5 columns]"
      ]
     },
     "execution_count": 46,
     "metadata": {},
     "output_type": "execute_result"
    }
   ],
   "source": [
    "processed_texts = []\n",
    "\n",
    "# Cria uma instância da classe de tokenização que também considera pontuação\n",
    "tokenizer = WordPunctTokenizer()\n",
    "\n",
    "# Cria uma instância do stemmer para lingua portuguesa (para simplificar as palavras)\n",
    "stemmer = RSLPStemmer()\n",
    "\n",
    "# Adquire todas as stopwords da lingua portuguesa (artigos, conjunções, preposições, etc)\n",
    "useless_words = stopwords.words('portuguese')\n",
    "\n",
    "# Remove todos os acentos das frases do dataset e armazena numa variável\n",
    "texts = [unidecode(text) for text in df['avaliacao']]\n",
    "\n",
    "# Remove todos os acentos das palavras irrelevantes\n",
    "useless_words = [unidecode(text) for text in useless_words]\n",
    "\n",
    "# Cria uma nova coluna no dataFrame sem acentuação\n",
    "df['frase_tratada'] = texts\n",
    "\n",
    "for txt in df['frase_tratada']:\n",
    "    # Normaliza o texto para letras minúsculas\n",
    "    txt = txt.lower()\n",
    "\n",
    "    # Realiza a tokenização da avaliação\n",
    "    token_words = tokenizer.tokenize(txt)\n",
    "\n",
    "    # Verifica se os tokens (palavras) são letras (isalpha) e que não esteja na lista de stopwords\n",
    "    # Ao final, realiza a simplificação da palavra com a técnica \"stemming\"\n",
    "    processed_words = [stemmer.stem(word) for word in token_words if word.isalpha() and word not in useless_words]\n",
    "\n",
    "    # Junta todas as palavras no array em uma única string\n",
    "    processed_texts.append(' '.join(processed_words))\n",
    "\n",
    "df['frase_tratada'] = processed_texts\n",
    "df.head()"
   ]
  },
  {
   "cell_type": "code",
   "execution_count": 47,
   "metadata": {},
   "outputs": [],
   "source": [
    "# Treina e testa um modelo com CountVectorizer\n",
    "def classificar_texto(data, coluna_texto, coluna_classificacao):\n",
    "    vetorizar = CountVectorizer(lowercase=False, max_features=50)\n",
    "    bag_of_words = vetorizar.fit_transform(data[coluna_texto])\n",
    "\n",
    "    SEED = 42\n",
    "    X_train, X_test, y_train, y_test = train_test_split(bag_of_words, data[coluna_classificacao], random_state=SEED)\n",
    "\n",
    "    regressao_logistica = LogisticRegression()\n",
    "    regressao_logistica.fit(X_train, y_train)\n",
    "\n",
    "    acuracia = regressao_logistica.score(X_test, y_test)\n",
    "    print(f'Acurácia do modelo com a coluna \"{coluna_texto}\": {acuracia*100:.2f}%')\n",
    "\n",
    "# Treina e testa um modelo com TF-IDF e N-Grams\n",
    "def classificar_texto_tfidf(data, coluna_texto, coluna_classificacao):\n",
    "    # Considerará tanto unigramas (palavras individuais) quanto bigramas (pares de palavras consecutivas)\n",
    "    vetorizar = TfidfVectorizer(lowercase=False, max_features=2000, ngram_range=(1,2))\n",
    "    bag_of_words = vetorizar.fit_transform(data[coluna_texto])\n",
    "\n",
    "    SEED = 42\n",
    "    X_train, X_test, y_train, y_test = train_test_split(bag_of_words, data[coluna_classificacao], random_state=SEED)\n",
    "\n",
    "    regressao_logistica = LogisticRegression()\n",
    "    regressao_logistica.fit(X_train, y_train)\n",
    "\n",
    "    acuracia = regressao_logistica.score(X_test, y_test)\n",
    "    print(f'Acurácia do modelo com TF-IDF e N-Grams: {acuracia*100:.2f}%')\n",
    "\n",
    "# Gera um gráfico de barras sobre a frequência das palavras\n",
    "def grafico_frequencia(data, coluna_texto, quantidade):\n",
    "    todas_palavras = ' '.join([texto for texto in data[coluna_texto]])\n",
    "    tokenizador = WhitespaceTokenizer()\n",
    "    frequencia = FreqDist(tokenizador.tokenize(todas_palavras))\n",
    "\n",
    "    df_frequencia = pd.DataFrame({\n",
    "        \"palavra\": list(frequencia.keys()),\n",
    "        \"frequencia\": list(frequencia.values())\n",
    "    })\n",
    "\n",
    "    df_frequencia.sort_values('frequencia', ascending=False, inplace=True)\n",
    "\n",
    "    plt.figure(figsize=(12,6))\n",
    "    ax = sns.barplot(df_frequencia.head(quantidade), x='palavra', y='frequencia')\n",
    "    ax.set(ylabel='Contagem', xlabel='Palavra')\n",
    "    plt.xticks(rotation=45)\n",
    "    "
   ]
  },
  {
   "cell_type": "code",
   "execution_count": 48,
   "metadata": {},
   "outputs": [
    {
     "name": "stdout",
     "output_type": "stream",
     "text": [
      "Acurácia do modelo com a coluna \"frase_tratada\": 85.32%\n"
     ]
    },
    {
     "data": {
      "image/png": "[encoded data removed]",
      "text/plain": [
       "<Figure size 1200x600 with 1 Axes>"
      ]
     },
     "metadata": {},
     "output_type": "display_data"
    }
   ],
   "source": [
    "classificar_texto(df, 'frase_tratada', 'sentimento')\n",
    "grafico_frequencia(df, 'frase_tratada', 20)"
   ]
  },
  {
   "cell_type": "code",
   "execution_count": 49,
   "metadata": {},
   "outputs": [
    {
     "name": "stdout",
     "output_type": "stream",
     "text": [
      "Acurácia do modelo com TF-IDF e N-Grams: 92.70%\n"
     ]
    }
   ],
   "source": [
    "classificar_texto_tfidf(df, 'frase_tratada', 'sentimento')"
   ]
  },
  {
   "cell_type": "markdown",
   "metadata": {},
   "source": [
    "### Criando o modelo e vetorização para exportação"
   ]
  },
  {
   "cell_type": "code",
   "execution_count": 50,
   "metadata": {},
   "outputs": [
    {
     "name": "stdout",
     "output_type": "stream",
     "text": [
      "Acurácia do modelo com TF-IDF e N-Grams: 92.70%\n"
     ]
    },
    {
     "data": {
      "text/plain": [
       "['modelo_regressao_logistica.pkl']"
      ]
     },
     "execution_count": 50,
     "metadata": {},
     "output_type": "execute_result"
    }
   ],
   "source": [
    "vectorizer = TfidfVectorizer(lowercase=False, max_features=2000, ngram_range=(1,2))\n",
    "bag_of_words = vectorizer.fit_transform(df['frase_tratada'])\n",
    "\n",
    "SEED = 42\n",
    "\n",
    "X_train, X_test, y_train, y_test = train_test_split(bag_of_words, df['sentimento'], random_state=SEED)\n",
    "\n",
    "regressao_logistica = LogisticRegression()\n",
    "regressao_logistica.fit(X_train, y_train)\n",
    "acuracia = regressao_logistica.score(X_test, y_test)\n",
    "print(f'Acurácia do modelo com TF-IDF e N-Grams: {acuracia*100:.2f}%')\n",
    "\n",
    "joblib.dump(vectorizer, 'tfidf_vectorizer.pkl')\n",
    "joblib.dump(regressao_logistica, 'modelo_regressao_logistica.pkl')"
   ]
  },
  {
   "cell_type": "markdown",
   "metadata": {},
   "source": [
    "### Classificando novas avaliações"
   ]
  },
  {
   "cell_type": "markdown",
   "metadata": {},
   "source": [
    "**Função para processar novos dados**"
   ]
  },
  {
   "cell_type": "code",
   "execution_count": 51,
   "metadata": {},
   "outputs": [],
   "source": [
    "from typing import List\n",
    "\n",
    "# Define o parâmetro como uma lista de strings\n",
    "def word_processing(array_texts: List[str]):\n",
    "    processed_texts = []\n",
    "\n",
    "    # Cria uma instância da classe de tokenização que também considera pontuação\n",
    "    tokenizer = WordPunctTokenizer()\n",
    "\n",
    "    # Cria uma instância do stemmer para lingua portuguesa (para simplificar as palavras)\n",
    "    stemmer = RSLPStemmer()\n",
    "\n",
    "    # Adquire todas as stopwords da lingua portuguesa (artigos, conjunções, preposições, etc)\n",
    "    useless_words = stopwords.words('portuguese')\n",
    "\n",
    "    # Remove todos os acentos das frases do dataset e armazena numa variável\n",
    "    texts = [unidecode(text) for text in array_texts]\n",
    "\n",
    "    # Remove todos os acentos das palavras irrelevantes\n",
    "    useless_words = [unidecode(text) for text in useless_words]\n",
    "\n",
    "    for txt in texts:\n",
    "        # Normaliza o texto para letras minúsculas\n",
    "        txt = txt.lower()\n",
    "\n",
    "        # Realiza a tokenização da avaliação\n",
    "        token_words = tokenizer.tokenize(txt)\n",
    "\n",
    "        # Verifica se os tokens (palavras) são letras (isalpha) e que não esteja na lista de stopwords\n",
    "        # Ao final, realiza a simplificação da palavra com a técnica \"stemming\"\n",
    "        # O Stemming por padrão já transforma as palavras para minúsculas\n",
    "        processed_words = [stemmer.stem(word) for word in token_words if word.isalpha() and word not in useless_words]\n",
    "\n",
    "        # Junta todas as palavras no array em uma única string\n",
    "        processed_texts.append(' '.join(processed_words))\n",
    "\n",
    "    return processed_texts"
   ]
  },
  {
   "cell_type": "code",
   "execution_count": 52,
   "metadata": {},
   "outputs": [
    {
     "data": {
      "text/plain": [
       "['otim produt sup recom',\n",
       " 'entreg atras decepcion compr',\n",
       " 'satisfeit compr alem ter atend expect prec otim',\n",
       " 'horri produt cheg danific agor tent faz devoluca',\n",
       " 'rastre pacot ach receb lo poi dat prev send entreg outr cidad fim deu tud cert receb produt produt otim qual atend bem necess prec sup cont recom']"
      ]
     },
     "execution_count": 52,
     "metadata": {},
     "output_type": "execute_result"
    }
   ],
   "source": [
    "# Novas avaliações para prever\n",
    "new_reviews = [\"Ótimo produto, super recomendo!\",\n",
    "                 \"A entrega atrasou muito! Estou decepcionado com a compra\",\n",
    "                 \"Muito satisfeito com a compra. Além de ter atendido as expectativas, o preço foi ótimo\",\n",
    "                 \"Horrível!!! O produto chegou danificado e agora estou tentando fazer a devolução.\",\n",
    "                 '''Rastreando o pacote, achei que não fosse recebê-lo, pois, na data prevista, estava sendo entregue em outra cidade.\n",
    "                 Mas, no fim, deu tudo certo e recebi o produto.Produto de ótima qualidade, atendendo bem as minhas necessidades e por\n",
    "                 um preço super em conta.Recomendo.''']\n",
    "\n",
    "reviews_processed = word_processing(new_reviews)\n",
    "reviews_processed"
   ]
  },
  {
   "cell_type": "code",
   "execution_count": 53,
   "metadata": {},
   "outputs": [
    {
     "data": {
      "text/html": [
       "<div>\n",
       "<style scoped>\n",
       "    .dataframe tbody tr th:only-of-type {\n",
       "        vertical-align: middle;\n",
       "    }\n",
       "\n",
       "    .dataframe tbody tr th {\n",
       "        vertical-align: top;\n",
       "    }\n",
       "\n",
       "    .dataframe thead th {\n",
       "        text-align: right;\n",
       "    }\n",
       "</style>\n",
       "<table border=\"1\" class=\"dataframe\">\n",
       "  <thead>\n",
       "    <tr style=\"text-align: right;\">\n",
       "      <th></th>\n",
       "      <th>Avaliação</th>\n",
       "      <th>Sentimento previsto</th>\n",
       "    </tr>\n",
       "  </thead>\n",
       "  <tbody>\n",
       "    <tr>\n",
       "      <th>0</th>\n",
       "      <td>Ótimo produto, super recomendo!</td>\n",
       "      <td>positivo</td>\n",
       "    </tr>\n",
       "    <tr>\n",
       "      <th>1</th>\n",
       "      <td>A entrega atrasou muito! Estou decepcionado co...</td>\n",
       "      <td>negativo</td>\n",
       "    </tr>\n",
       "    <tr>\n",
       "      <th>2</th>\n",
       "      <td>Muito satisfeito com a compra. Além de ter ate...</td>\n",
       "      <td>positivo</td>\n",
       "    </tr>\n",
       "    <tr>\n",
       "      <th>3</th>\n",
       "      <td>Horrível!!! O produto chegou danificado e agor...</td>\n",
       "      <td>negativo</td>\n",
       "    </tr>\n",
       "    <tr>\n",
       "      <th>4</th>\n",
       "      <td>Rastreando o pacote, achei que não fosse receb...</td>\n",
       "      <td>positivo</td>\n",
       "    </tr>\n",
       "  </tbody>\n",
       "</table>\n",
       "</div>"
      ],
      "text/plain": [
       "                                           Avaliação Sentimento previsto\n",
       "0                    Ótimo produto, super recomendo!            positivo\n",
       "1  A entrega atrasou muito! Estou decepcionado co...            negativo\n",
       "2  Muito satisfeito com a compra. Além de ter ate...            positivo\n",
       "3  Horrível!!! O produto chegou danificado e agor...            negativo\n",
       "4  Rastreando o pacote, achei que não fosse receb...            positivo"
      ]
     },
     "execution_count": 53,
     "metadata": {},
     "output_type": "execute_result"
    }
   ],
   "source": [
    "# Importa o modelo e vetorizador tf-idf\n",
    "tfidf_vectorizer = joblib.load('tfidf_vectorizer.pkl')\n",
    "model = joblib.load('modelo_regressao_logistica.pkl')\n",
    "\n",
    "words_tfidf = tfidf_vectorizer.transform(reviews_processed)\n",
    "\n",
    "predicts = model.predict(words_tfidf)\n",
    "\n",
    "df_predicts = pd.DataFrame({\n",
    "    \"Avaliação\": new_reviews,\n",
    "    \"Sentimento previsto\": predicts\n",
    "})\n",
    "\n",
    "df_predicts"
   ]
  }
 ],
 "metadata": {
  "kernelspec": {
   "display_name": "Python 3",
   "language": "python",
   "name": "python3"
  },
  "language_info": {
   "codemirror_mode": {
    "name": "ipython",
    "version": 3
   },
   "file_extension": ".py",
   "mimetype": "text/x-python",
   "name": "python",
   "nbconvert_exporter": "python",
   "pygments_lexer": "ipython3",
   "version": "3.10.10"
  }
 },
 "nbformat": 4,
 "nbformat_minor": 2
}
