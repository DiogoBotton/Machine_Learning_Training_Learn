{
 "cells": [
  {
   "cell_type": "markdown",
   "metadata": {},
   "source": [
    "Primeiramente iremos importar todas as bibliotecas necessárias para realizar o nosso treinamento."
   ]
  },
  {
   "cell_type": "code",
   "execution_count": 946,
   "metadata": {},
   "outputs": [],
   "source": [
    "import pandas as pd\n",
    "import seaborn as sns\n",
    "import matplotlib.pyplot as plt\n",
    "\n",
    "# Importação de funções para pré processamento dos dados\n",
    "from sklearn.preprocessing import LabelEncoder, OneHotEncoder, MinMaxScaler\n",
    "\n",
    "# Importação de função para separação dos dados de treino, teste e validação\n",
    "from sklearn.model_selection import train_test_split\n",
    "\n",
    "# Importação de alguns algoritmos de treinamento\n",
    "\n",
    "# KNN\n",
    "from sklearn.neighbors import KNeighborsClassifier\n",
    "\n",
    "# Regressão Logística\n",
    "from sklearn.linear_model import LogisticRegression\n",
    "\n",
    "# SVM - Support Vector Machine\n",
    "from sklearn.svm import SVC\n",
    "\n",
    "# Árvore de Decisão\n",
    "from sklearn.tree import DecisionTreeClassifier\n",
    "\n",
    "# Floresta Aleatória\n",
    "from sklearn.ensemble import RandomForestClassifier\n",
    "\n",
    "# Importação de algumas métricas de avaliação do nosso modelo\n",
    "from sklearn.metrics import accuracy_score, classification_report"
   ]
  },
  {
   "cell_type": "code",
   "execution_count": 947,
   "metadata": {},
   "outputs": [
    {
     "data": {
      "text/html": [
       "<div>\n",
       "<style scoped>\n",
       "    .dataframe tbody tr th:only-of-type {\n",
       "        vertical-align: middle;\n",
       "    }\n",
       "\n",
       "    .dataframe tbody tr th {\n",
       "        vertical-align: top;\n",
       "    }\n",
       "\n",
       "    .dataframe thead th {\n",
       "        text-align: right;\n",
       "    }\n",
       "</style>\n",
       "<table border=\"1\" class=\"dataframe\">\n",
       "  <thead>\n",
       "    <tr style=\"text-align: right;\">\n",
       "      <th></th>\n",
       "      <th>Temperature</th>\n",
       "      <th>Humidity</th>\n",
       "      <th>Moisture</th>\n",
       "      <th>Soil Type</th>\n",
       "      <th>Crop Type</th>\n",
       "      <th>Nitrogen</th>\n",
       "      <th>Potassium</th>\n",
       "      <th>Phosphorous</th>\n",
       "      <th>Fertilizer Name</th>\n",
       "    </tr>\n",
       "  </thead>\n",
       "  <tbody>\n",
       "    <tr>\n",
       "      <th>0</th>\n",
       "      <td>26</td>\n",
       "      <td>52</td>\n",
       "      <td>38</td>\n",
       "      <td>Sandy</td>\n",
       "      <td>Maize</td>\n",
       "      <td>37</td>\n",
       "      <td>0</td>\n",
       "      <td>0</td>\n",
       "      <td>Urea</td>\n",
       "    </tr>\n",
       "    <tr>\n",
       "      <th>1</th>\n",
       "      <td>29</td>\n",
       "      <td>52</td>\n",
       "      <td>45</td>\n",
       "      <td>Loamy</td>\n",
       "      <td>Sugarcane</td>\n",
       "      <td>12</td>\n",
       "      <td>0</td>\n",
       "      <td>36</td>\n",
       "      <td>DAP</td>\n",
       "    </tr>\n",
       "    <tr>\n",
       "      <th>2</th>\n",
       "      <td>34</td>\n",
       "      <td>65</td>\n",
       "      <td>62</td>\n",
       "      <td>Black</td>\n",
       "      <td>Cotton</td>\n",
       "      <td>7</td>\n",
       "      <td>9</td>\n",
       "      <td>30</td>\n",
       "      <td>14-35-14</td>\n",
       "    </tr>\n",
       "    <tr>\n",
       "      <th>3</th>\n",
       "      <td>32</td>\n",
       "      <td>62</td>\n",
       "      <td>34</td>\n",
       "      <td>Red</td>\n",
       "      <td>Tobacco</td>\n",
       "      <td>22</td>\n",
       "      <td>0</td>\n",
       "      <td>20</td>\n",
       "      <td>28-28</td>\n",
       "    </tr>\n",
       "    <tr>\n",
       "      <th>4</th>\n",
       "      <td>28</td>\n",
       "      <td>54</td>\n",
       "      <td>46</td>\n",
       "      <td>Clayey</td>\n",
       "      <td>Paddy</td>\n",
       "      <td>35</td>\n",
       "      <td>0</td>\n",
       "      <td>0</td>\n",
       "      <td>Urea</td>\n",
       "    </tr>\n",
       "  </tbody>\n",
       "</table>\n",
       "</div>"
      ],
      "text/plain": [
       "   Temperature  Humidity   Moisture  ... Potassium Phosphorous  Fertilizer Name\n",
       "0           26         52        38  ...         0           0             Urea\n",
       "1           29         52        45  ...         0          36              DAP\n",
       "2           34         65        62  ...         9          30         14-35-14\n",
       "3           32         62        34  ...         0          20            28-28\n",
       "4           28         54        46  ...         0           0             Urea\n",
       "\n",
       "[5 rows x 9 columns]"
      ]
     },
     "execution_count": 947,
     "metadata": {},
     "output_type": "execute_result"
    }
   ],
   "source": [
    "df = pd.read_csv('fertilizer_prediction.csv', sep=',')\n",
    "df.head()"
   ]
  },
  {
   "cell_type": "markdown",
   "metadata": {},
   "source": [
    "## Limpeza dos dados"
   ]
  },
  {
   "cell_type": "code",
   "execution_count": 948,
   "metadata": {},
   "outputs": [
    {
     "name": "stdout",
     "output_type": "stream",
     "text": [
      "<class 'pandas.core.frame.DataFrame'>\n",
      "RangeIndex: 99 entries, 0 to 98\n",
      "Data columns (total 9 columns):\n",
      " #   Column           Non-Null Count  Dtype \n",
      "---  ------           --------------  ----- \n",
      " 0   Temperature      99 non-null     int64 \n",
      " 1   Humidity         99 non-null     int64 \n",
      " 2   Moisture         99 non-null     int64 \n",
      " 3   Soil Type        99 non-null     object\n",
      " 4   Crop Type        99 non-null     object\n",
      " 5   Nitrogen         99 non-null     int64 \n",
      " 6   Potassium        99 non-null     int64 \n",
      " 7   Phosphorous      99 non-null     int64 \n",
      " 8   Fertilizer Name  99 non-null     object\n",
      "dtypes: int64(6), object(3)\n",
      "memory usage: 7.1+ KB\n"
     ]
    }
   ],
   "source": [
    "df.info()"
   ]
  },
  {
   "cell_type": "code",
   "execution_count": 949,
   "metadata": {},
   "outputs": [],
   "source": [
    "# Caso houver dados duplicados, remove-os\n",
    "\n",
    "if df.duplicated().sum() > 0:\n",
    "    df.drop_duplicates(inplace=True)"
   ]
  },
  {
   "cell_type": "code",
   "execution_count": 950,
   "metadata": {},
   "outputs": [
    {
     "data": {
      "image/png": "[encoded data removed]",
      "text/plain": [
       "<Figure size 1200x600 with 1 Axes>"
      ]
     },
     "metadata": {},
     "output_type": "display_data"
    }
   ],
   "source": [
    "# Verificar a presença de Outliers no dataset\n",
    "\n",
    "plt.figure(figsize=(12,6)) # Aumenta o gráfico\n",
    "sns.boxplot(data=df)\n",
    "plt.title('Boxplot para detectar outliers')\n",
    "plt.xticks(rotation=45)# Rotaciona os labels em 45°\n",
    "plt.show()\n",
    "\n",
    "# É possível observar que temos um outlier em \"Potassium\", pois há uma bolinha acima do intervalo"
   ]
  },
  {
   "cell_type": "code",
   "execution_count": 951,
   "metadata": {},
   "outputs": [
    {
     "data": {
      "image/png": "[encoded data removed]",
      "text/plain": [
       "<Figure size 1200x600 with 1 Axes>"
      ]
     },
     "metadata": {},
     "output_type": "display_data"
    }
   ],
   "source": [
    "# Exploração da distribuição dos labels (no caso, do nome do fertilizante)\n",
    "\n",
    "plt.figure(figsize=(12,6))\n",
    "sns.countplot(x='Fertilizer Name', data=df) # Esta função irá contar os labels da coluna 'Fertilizer Name'\n",
    "plt.title(\"Distribuição dos Tipos de Fertilizantes\")\n",
    "plt.xticks(rotation=45)\n",
    "plt.show()"
   ]
  },
  {
   "cell_type": "markdown",
   "metadata": {},
   "source": [
    "Temos 7 (sete) classes possíveis, portanto, é um problema de **Classificação multiclasse**."
   ]
  },
  {
   "cell_type": "code",
   "execution_count": 952,
   "metadata": {},
   "outputs": [
    {
     "data": {
      "image/png": "[encoded data removed]",
      "text/plain": [
       "<Figure size 1200x600 with 2 Axes>"
      ]
     },
     "metadata": {},
     "output_type": "display_data"
    }
   ],
   "source": [
    "# Investigação da correlação entre as variáveis\n",
    "\n",
    "# Se duas ou mais colunas estão altamente correlacionadas, pode ser interessante remover alguma delas\n",
    "# para facilitar a convergência do algoritmo preditivo\n",
    "\n",
    "plt.figure(figsize=(12,6))\n",
    "sns.heatmap(df.select_dtypes(include=['int64']).corr(), annot=True, cmap='coolwarm')\n",
    "plt.title(\"Matriz de Correlação\")\n",
    "plt.show()"
   ]
  },
  {
   "cell_type": "markdown",
   "metadata": {},
   "source": [
    "É possível observar que as variáveis \"temperatura e umidade\" e \"fósforo e nitrogênio\" estão fortemente relacionadas, porém no momento não vamos nos preocupar com isso.\n",
    "\n",
    "Iremos trabalhar com todas as variáveis sendo features para o modelo preditivo."
   ]
  },
  {
   "cell_type": "markdown",
   "metadata": {},
   "source": [
    "## Engenharia de Features\n",
    "\n",
    "Aqui realizaremos as seguintes ações:\n",
    "- Separamos as features X do label y\n",
    "- Criamos uma codificação para os dados em string, representando-os em números via LabelEncoder (para dados ordinais ou labels) ou OneHotEncoder (para dados nominais)\n",
    "- Removemos as colunas originais antes dos tratamentos\n",
    "- Separamos os dados em treino (80%) e teste (20%)\n",
    "- Normalizamos as features numéricas, sempre \"aprendendo\" a fórmula no treino e a aplicando no treino e no teste."
   ]
  },
  {
   "cell_type": "code",
   "execution_count": 953,
   "metadata": {},
   "outputs": [
    {
     "data": {
      "text/plain": [
       "0        Urea\n",
       "1         DAP\n",
       "2    14-35-14\n",
       "3       28-28\n",
       "4        Urea\n",
       "Name: Fertilizer Name, dtype: object"
      ]
     },
     "execution_count": 953,
     "metadata": {},
     "output_type": "execute_result"
    }
   ],
   "source": [
    "# Separando as features sem os labels (X são as variáveis independentes)\n",
    "X = df.drop('Fertilizer Name', axis=1) # axis=1 remove a coluna inteira\n",
    "\n",
    "# Separando os labels (y são as variáveis dependentes esperadas)\n",
    "y = df['Fertilizer Name']\n",
    "y.head()"
   ]
  },
  {
   "cell_type": "markdown",
   "metadata": {},
   "source": [
    "**Resumindo:**\n",
    "\n",
    "**X** são todos os dados de entrada (variáveis independentes)\n",
    "\n",
    "**y** é a variável dependente esperada, ou seja, quando formos realizar o teste, é necessário verificarmos se a predição da IA corresponde às labels esperadas\n",
    "\n",
    "Esta ML irá prever qual é o nome do fertilizante baseado na umidade do solo, temperatura, potassio, etc..."
   ]
  },
  {
   "cell_type": "code",
   "execution_count": 954,
   "metadata": {},
   "outputs": [
    {
     "name": "stdout",
     "output_type": "stream",
     "text": [
      "Labels:  [6 5 1 4 6 2 3 6 4 1 5 2 6 4 5 2 6 4 6 5 3 2 5 6 3 4 1 6 5 3 4 5 6 1 4 6 1\n",
      " 5 2 5 3 1 4 6 5 1 3 4 6 1 4 3 6 5 2 4 6 3 2 5 6 3 4 0 6 5 3 1 0 3 4 6 4 6\n",
      " 5 1 4 3 0 5 1 6 5 3 4 1 0 6 0 5 1 0 6 1 4 0 6 5 3]\n",
      "Labels únicas: 7\n"
     ]
    }
   ],
   "source": [
    "# Pré-processamento dos dados\n",
    "\n",
    "# Label Encoder para a variável alvo (Fertilizer Name)\n",
    "le = LabelEncoder()\n",
    "\n",
    "# Aqui todas as strings viraram números, então a coluna, antes um array de string, agora virou um array de numeros\n",
    "y = le.fit_transform(y)\n",
    "print(\"Labels: \", y) \n",
    "\n",
    "print(\"Labels únicas:\", len(pd.unique(y)))"
   ]
  },
  {
   "cell_type": "code",
   "execution_count": 955,
   "metadata": {},
   "outputs": [
    {
     "data": {
      "text/html": [
       "<div>\n",
       "<style scoped>\n",
       "    .dataframe tbody tr th:only-of-type {\n",
       "        vertical-align: middle;\n",
       "    }\n",
       "\n",
       "    .dataframe tbody tr th {\n",
       "        vertical-align: top;\n",
       "    }\n",
       "\n",
       "    .dataframe thead th {\n",
       "        text-align: right;\n",
       "    }\n",
       "</style>\n",
       "<table border=\"1\" class=\"dataframe\">\n",
       "  <thead>\n",
       "    <tr style=\"text-align: right;\">\n",
       "      <th></th>\n",
       "      <th>OHE_0</th>\n",
       "      <th>OHE_1</th>\n",
       "      <th>OHE_2</th>\n",
       "      <th>OHE_3</th>\n",
       "      <th>OHE_4</th>\n",
       "      <th>OHE_5</th>\n",
       "      <th>OHE_6</th>\n",
       "      <th>OHE_7</th>\n",
       "      <th>OHE_8</th>\n",
       "      <th>OHE_9</th>\n",
       "      <th>OHE_10</th>\n",
       "      <th>OHE_11</th>\n",
       "      <th>OHE_12</th>\n",
       "      <th>OHE_13</th>\n",
       "      <th>OHE_14</th>\n",
       "      <th>OHE_15</th>\n",
       "    </tr>\n",
       "  </thead>\n",
       "  <tbody>\n",
       "    <tr>\n",
       "      <th>0</th>\n",
       "      <td>0.0</td>\n",
       "      <td>0.0</td>\n",
       "      <td>0.0</td>\n",
       "      <td>0.0</td>\n",
       "      <td>1.0</td>\n",
       "      <td>0.0</td>\n",
       "      <td>0.0</td>\n",
       "      <td>0.0</td>\n",
       "      <td>1.0</td>\n",
       "      <td>0.0</td>\n",
       "      <td>0.0</td>\n",
       "      <td>0.0</td>\n",
       "      <td>0.0</td>\n",
       "      <td>0.0</td>\n",
       "      <td>0.0</td>\n",
       "      <td>0.0</td>\n",
       "    </tr>\n",
       "    <tr>\n",
       "      <th>1</th>\n",
       "      <td>0.0</td>\n",
       "      <td>0.0</td>\n",
       "      <td>1.0</td>\n",
       "      <td>0.0</td>\n",
       "      <td>0.0</td>\n",
       "      <td>0.0</td>\n",
       "      <td>0.0</td>\n",
       "      <td>0.0</td>\n",
       "      <td>0.0</td>\n",
       "      <td>0.0</td>\n",
       "      <td>0.0</td>\n",
       "      <td>0.0</td>\n",
       "      <td>0.0</td>\n",
       "      <td>1.0</td>\n",
       "      <td>0.0</td>\n",
       "      <td>0.0</td>\n",
       "    </tr>\n",
       "    <tr>\n",
       "      <th>2</th>\n",
       "      <td>1.0</td>\n",
       "      <td>0.0</td>\n",
       "      <td>0.0</td>\n",
       "      <td>0.0</td>\n",
       "      <td>0.0</td>\n",
       "      <td>0.0</td>\n",
       "      <td>1.0</td>\n",
       "      <td>0.0</td>\n",
       "      <td>0.0</td>\n",
       "      <td>0.0</td>\n",
       "      <td>0.0</td>\n",
       "      <td>0.0</td>\n",
       "      <td>0.0</td>\n",
       "      <td>0.0</td>\n",
       "      <td>0.0</td>\n",
       "      <td>0.0</td>\n",
       "    </tr>\n",
       "    <tr>\n",
       "      <th>3</th>\n",
       "      <td>0.0</td>\n",
       "      <td>0.0</td>\n",
       "      <td>0.0</td>\n",
       "      <td>1.0</td>\n",
       "      <td>0.0</td>\n",
       "      <td>0.0</td>\n",
       "      <td>0.0</td>\n",
       "      <td>0.0</td>\n",
       "      <td>0.0</td>\n",
       "      <td>0.0</td>\n",
       "      <td>0.0</td>\n",
       "      <td>0.0</td>\n",
       "      <td>0.0</td>\n",
       "      <td>0.0</td>\n",
       "      <td>1.0</td>\n",
       "      <td>0.0</td>\n",
       "    </tr>\n",
       "    <tr>\n",
       "      <th>4</th>\n",
       "      <td>0.0</td>\n",
       "      <td>1.0</td>\n",
       "      <td>0.0</td>\n",
       "      <td>0.0</td>\n",
       "      <td>0.0</td>\n",
       "      <td>0.0</td>\n",
       "      <td>0.0</td>\n",
       "      <td>0.0</td>\n",
       "      <td>0.0</td>\n",
       "      <td>0.0</td>\n",
       "      <td>0.0</td>\n",
       "      <td>1.0</td>\n",
       "      <td>0.0</td>\n",
       "      <td>0.0</td>\n",
       "      <td>0.0</td>\n",
       "      <td>0.0</td>\n",
       "    </tr>\n",
       "  </tbody>\n",
       "</table>\n",
       "</div>"
      ],
      "text/plain": [
       "   OHE_0  OHE_1  OHE_2  OHE_3  OHE_4  ...  OHE_11  OHE_12  OHE_13  OHE_14  OHE_15\n",
       "0    0.0    0.0    0.0    0.0    1.0  ...     0.0     0.0     0.0     0.0     0.0\n",
       "1    0.0    0.0    1.0    0.0    0.0  ...     0.0     0.0     1.0     0.0     0.0\n",
       "2    1.0    0.0    0.0    0.0    0.0  ...     0.0     0.0     0.0     0.0     0.0\n",
       "3    0.0    0.0    0.0    1.0    0.0  ...     0.0     0.0     0.0     1.0     0.0\n",
       "4    0.0    1.0    0.0    0.0    0.0  ...     1.0     0.0     0.0     0.0     0.0\n",
       "\n",
       "[5 rows x 16 columns]"
      ]
     },
     "execution_count": 955,
     "metadata": {},
     "output_type": "execute_result"
    }
   ],
   "source": [
    "# Colunas categóricas:\n",
    "categorical_cols = ['Soil Type', 'Crop Type']\n",
    "\n",
    "# handle_unknown: Caso não encontre uma categoria, não dará erro\n",
    "ohe = OneHotEncoder(handle_unknown='ignore')\n",
    "\n",
    "# Transformando os dados categóricos em colunas\n",
    "# Nesta linha, ele vai transformar todos os dados categóricos em colunas\n",
    "X_encoded = pd.DataFrame(ohe.fit_transform(X[categorical_cols]).toarray()) # É necessário converter para array antes de transforma-lo em um DataFrame do Pandas\n",
    "X_encoded = X_encoded.add_prefix('OHE_')\n",
    "X_encoded.head()\n",
    "\n",
    "# Primeiro é criado as 5 categorias de Soil Type (OHE_0, 1, 2, 3 e 4)\n",
    "# Em seguida cria as demais categorias de Crop Type (OHE_5 até OHE_15)"
   ]
  },
  {
   "cell_type": "code",
   "execution_count": 956,
   "metadata": {},
   "outputs": [
    {
     "data": {
      "text/html": [
       "<div>\n",
       "<style scoped>\n",
       "    .dataframe tbody tr th:only-of-type {\n",
       "        vertical-align: middle;\n",
       "    }\n",
       "\n",
       "    .dataframe tbody tr th {\n",
       "        vertical-align: top;\n",
       "    }\n",
       "\n",
       "    .dataframe thead th {\n",
       "        text-align: right;\n",
       "    }\n",
       "</style>\n",
       "<table border=\"1\" class=\"dataframe\">\n",
       "  <thead>\n",
       "    <tr style=\"text-align: right;\">\n",
       "      <th></th>\n",
       "      <th>Temperature</th>\n",
       "      <th>Humidity</th>\n",
       "      <th>Moisture</th>\n",
       "      <th>Nitrogen</th>\n",
       "      <th>Potassium</th>\n",
       "      <th>Phosphorous</th>\n",
       "      <th>OHE_0</th>\n",
       "      <th>OHE_1</th>\n",
       "      <th>OHE_2</th>\n",
       "      <th>OHE_3</th>\n",
       "      <th>OHE_4</th>\n",
       "      <th>OHE_5</th>\n",
       "      <th>OHE_6</th>\n",
       "      <th>OHE_7</th>\n",
       "      <th>OHE_8</th>\n",
       "      <th>OHE_9</th>\n",
       "      <th>OHE_10</th>\n",
       "      <th>OHE_11</th>\n",
       "      <th>OHE_12</th>\n",
       "      <th>OHE_13</th>\n",
       "      <th>OHE_14</th>\n",
       "      <th>OHE_15</th>\n",
       "    </tr>\n",
       "  </thead>\n",
       "  <tbody>\n",
       "    <tr>\n",
       "      <th>0</th>\n",
       "      <td>26</td>\n",
       "      <td>52</td>\n",
       "      <td>38</td>\n",
       "      <td>37</td>\n",
       "      <td>0</td>\n",
       "      <td>0</td>\n",
       "      <td>0.0</td>\n",
       "      <td>0.0</td>\n",
       "      <td>0.0</td>\n",
       "      <td>0.0</td>\n",
       "      <td>1.0</td>\n",
       "      <td>0.0</td>\n",
       "      <td>0.0</td>\n",
       "      <td>0.0</td>\n",
       "      <td>1.0</td>\n",
       "      <td>0.0</td>\n",
       "      <td>0.0</td>\n",
       "      <td>0.0</td>\n",
       "      <td>0.0</td>\n",
       "      <td>0.0</td>\n",
       "      <td>0.0</td>\n",
       "      <td>0.0</td>\n",
       "    </tr>\n",
       "    <tr>\n",
       "      <th>1</th>\n",
       "      <td>29</td>\n",
       "      <td>52</td>\n",
       "      <td>45</td>\n",
       "      <td>12</td>\n",
       "      <td>0</td>\n",
       "      <td>36</td>\n",
       "      <td>0.0</td>\n",
       "      <td>0.0</td>\n",
       "      <td>1.0</td>\n",
       "      <td>0.0</td>\n",
       "      <td>0.0</td>\n",
       "      <td>0.0</td>\n",
       "      <td>0.0</td>\n",
       "      <td>0.0</td>\n",
       "      <td>0.0</td>\n",
       "      <td>0.0</td>\n",
       "      <td>0.0</td>\n",
       "      <td>0.0</td>\n",
       "      <td>0.0</td>\n",
       "      <td>1.0</td>\n",
       "      <td>0.0</td>\n",
       "      <td>0.0</td>\n",
       "    </tr>\n",
       "    <tr>\n",
       "      <th>2</th>\n",
       "      <td>34</td>\n",
       "      <td>65</td>\n",
       "      <td>62</td>\n",
       "      <td>7</td>\n",
       "      <td>9</td>\n",
       "      <td>30</td>\n",
       "      <td>1.0</td>\n",
       "      <td>0.0</td>\n",
       "      <td>0.0</td>\n",
       "      <td>0.0</td>\n",
       "      <td>0.0</td>\n",
       "      <td>0.0</td>\n",
       "      <td>1.0</td>\n",
       "      <td>0.0</td>\n",
       "      <td>0.0</td>\n",
       "      <td>0.0</td>\n",
       "      <td>0.0</td>\n",
       "      <td>0.0</td>\n",
       "      <td>0.0</td>\n",
       "      <td>0.0</td>\n",
       "      <td>0.0</td>\n",
       "      <td>0.0</td>\n",
       "    </tr>\n",
       "    <tr>\n",
       "      <th>3</th>\n",
       "      <td>32</td>\n",
       "      <td>62</td>\n",
       "      <td>34</td>\n",
       "      <td>22</td>\n",
       "      <td>0</td>\n",
       "      <td>20</td>\n",
       "      <td>0.0</td>\n",
       "      <td>0.0</td>\n",
       "      <td>0.0</td>\n",
       "      <td>1.0</td>\n",
       "      <td>0.0</td>\n",
       "      <td>0.0</td>\n",
       "      <td>0.0</td>\n",
       "      <td>0.0</td>\n",
       "      <td>0.0</td>\n",
       "      <td>0.0</td>\n",
       "      <td>0.0</td>\n",
       "      <td>0.0</td>\n",
       "      <td>0.0</td>\n",
       "      <td>0.0</td>\n",
       "      <td>1.0</td>\n",
       "      <td>0.0</td>\n",
       "    </tr>\n",
       "    <tr>\n",
       "      <th>4</th>\n",
       "      <td>28</td>\n",
       "      <td>54</td>\n",
       "      <td>46</td>\n",
       "      <td>35</td>\n",
       "      <td>0</td>\n",
       "      <td>0</td>\n",
       "      <td>0.0</td>\n",
       "      <td>1.0</td>\n",
       "      <td>0.0</td>\n",
       "      <td>0.0</td>\n",
       "      <td>0.0</td>\n",
       "      <td>0.0</td>\n",
       "      <td>0.0</td>\n",
       "      <td>0.0</td>\n",
       "      <td>0.0</td>\n",
       "      <td>0.0</td>\n",
       "      <td>0.0</td>\n",
       "      <td>1.0</td>\n",
       "      <td>0.0</td>\n",
       "      <td>0.0</td>\n",
       "      <td>0.0</td>\n",
       "      <td>0.0</td>\n",
       "    </tr>\n",
       "  </tbody>\n",
       "</table>\n",
       "</div>"
      ],
      "text/plain": [
       "   Temperature  Humidity   Moisture  Nitrogen  ...  OHE_12  OHE_13  OHE_14  OHE_15\n",
       "0           26         52        38        37  ...     0.0     0.0     0.0     0.0\n",
       "1           29         52        45        12  ...     0.0     1.0     0.0     0.0\n",
       "2           34         65        62         7  ...     0.0     0.0     0.0     0.0\n",
       "3           32         62        34        22  ...     0.0     0.0     1.0     0.0\n",
       "4           28         54        46        35  ...     0.0     0.0     0.0     0.0\n",
       "\n",
       "[5 rows x 22 columns]"
      ]
     },
     "execution_count": 956,
     "metadata": {},
     "output_type": "execute_result"
    }
   ],
   "source": [
    "# Remove as colunas categóricas originais\n",
    "X = X.drop(categorical_cols, axis=1)\n",
    "\n",
    "# Concatena as features codificadas (após o pré processamento) com as numéricas\n",
    "X = pd.concat([X, X_encoded], axis=1) # axis=1 significa que iremos concatenar colunas\n",
    "X.head()"
   ]
  },
  {
   "cell_type": "markdown",
   "metadata": {},
   "source": [
    "Divisão dos dados em conjuntos de treino (80%) e testes (20%)"
   ]
  },
  {
   "cell_type": "code",
   "execution_count": 957,
   "metadata": {},
   "outputs": [],
   "source": [
    "# 1° Parametro: variáveis independentes (dados de entrada)\n",
    "# 2° Parametro: variáveis dependentes (valores esperados, rótulos)\n",
    "# 3° Parametro: test_size especifica a proporção do conjunto de dados que será usada para o conjunto de teste, no caso, 0.2 (20%)\n",
    "# 4° Parametro: random_state é uma semente (seed) que determina como os dados são misturados antes de serem divididos.\n",
    "\n",
    "X_train, X_test, y_train, y_test = train_test_split(X, y, test_size=0.2, random_state=42)"
   ]
  },
  {
   "cell_type": "markdown",
   "metadata": {},
   "source": [
    "**random_state:**\n",
    "\n",
    "Usar o mesmo valor (por exemplo, 42) significa que sempre terá a mesma divisão dos dados quando executar o código novamente. Isso é útil para tornar os resultados reprodutíveis.\n",
    "\n",
    "Caso o random_state não for definido, toda vez que executar o código, a divisão dos dados pode mudar, resultando em diferentes conjuntos de treinamento e teste. \n",
    "\n",
    "Isto pode fazer com que fique dificil a comparação de resultados entre diferentes execuções, pois a performance do modelo pode variar apenas por causa de como os dados foram divididos."
   ]
  },
  {
   "cell_type": "code",
   "execution_count": 958,
   "metadata": {},
   "outputs": [],
   "source": [
    "# Normalização das features numéricas\n",
    "\n",
    "scaler = MinMaxScaler()\n",
    "\n",
    "# Normalização dos dados de treino\n",
    "# O fit calcula a média e o desvio padrão de cada feature\n",
    "# O transform transforma os dados de acordo com essa média e desvio padrão, normalizando-os para que tenham média 0 e desvio padrão 1\n",
    "X_train_scaled = scaler.fit_transform(X_train)\n",
    "\n",
    "# Normalização dos dados de teste\n",
    "# Aqui apenas utilizando transform, o MinMaxScaler não recalcula as estatísticas (média e desvio padrão)\n",
    "# \"Pega\" os dados do conjunto de teste e os ajusta com as mesmas escalas que foram aplicadas no conjunto de treino\n",
    "X_test_scaled = scaler.transform(X_test)"
   ]
  },
  {
   "cell_type": "markdown",
   "metadata": {},
   "source": [
    "- Use *fit-transform* quando desejar calcular as estatísticas (média e desvio padrão) a partir dos dados, e ao mesmo tempo, transformar esses dados **(geralmente no conjunto de treinamento)**\n",
    "\n",
    "- Use *transform* para transformar os novos dados **(como o conjunto de testes)** usando as estatísticas calculadas previamente durante o fit no conjunto de treinamento.\n",
    "\n",
    "Isso garante que o modelo não tenha acesso a dados de teste durante seu treinamento, o que é fundamental para uma avalidação justa do desempenho do modelo."
   ]
  },
  {
   "cell_type": "markdown",
   "metadata": {},
   "source": [
    "## Construindo os modelos preditivos"
   ]
  },
  {
   "cell_type": "markdown",
   "metadata": {},
   "source": [
    "### Regressão logística"
   ]
  },
  {
   "cell_type": "code",
   "execution_count": 959,
   "metadata": {},
   "outputs": [
    {
     "name": "stdout",
     "output_type": "stream",
     "text": [
      "Acurácia Regressão Logística: 70.0\n",
      "              precision    recall  f1-score   support\n",
      "\n",
      "           0       1.00      0.50      0.67         2\n",
      "           1       0.00      0.00      0.00         1\n",
      "           3       0.00      0.00      0.00         1\n",
      "           4       0.60      0.60      0.60         5\n",
      "           5       0.57      0.80      0.67         5\n",
      "           6       1.00      1.00      1.00         6\n",
      "\n",
      "    accuracy                           0.70        20\n",
      "   macro avg       0.53      0.48      0.49        20\n",
      "weighted avg       0.69      0.70      0.68        20\n",
      "\n"
     ]
    },
    {
     "name": "stderr",
     "output_type": "stream",
     "text": [
      "c:\\Users\\DIOGO-PC\\AppData\\Local\\Programs\\Python\\Python310\\lib\\site-packages\\sklearn\\metrics\\_classification.py:1531: UndefinedMetricWarning: Precision is ill-defined and being set to 0.0 in labels with no predicted samples. Use `zero_division` parameter to control this behavior.\n",
      "  _warn_prf(average, modifier, f\"{metric.capitalize()} is\", len(result))\n",
      "c:\\Users\\DIOGO-PC\\AppData\\Local\\Programs\\Python\\Python310\\lib\\site-packages\\sklearn\\metrics\\_classification.py:1531: UndefinedMetricWarning: Precision is ill-defined and being set to 0.0 in labels with no predicted samples. Use `zero_division` parameter to control this behavior.\n",
      "  _warn_prf(average, modifier, f\"{metric.capitalize()} is\", len(result))\n",
      "c:\\Users\\DIOGO-PC\\AppData\\Local\\Programs\\Python\\Python310\\lib\\site-packages\\sklearn\\metrics\\_classification.py:1531: UndefinedMetricWarning: Precision is ill-defined and being set to 0.0 in labels with no predicted samples. Use `zero_division` parameter to control this behavior.\n",
      "  _warn_prf(average, modifier, f\"{metric.capitalize()} is\", len(result))\n"
     ]
    }
   ],
   "source": [
    "logReg = LogisticRegression()\n",
    "\n",
    "# 1° Parametro: dados de teste normalizados\n",
    "# 2° Parametro: rótulos esperados\n",
    "# Fit treina o modelo com os dados de treino\n",
    "logReg.fit(X_train_scaled, y_train)\n",
    "\n",
    "# Realiza a predição dos valores com a base de dados de teste\n",
    "y_predict_logReg = logReg.predict(X_test_scaled)\n",
    "\n",
    "# Realiza a métrica de desempenho do modelo baseado na Acurácia\n",
    "\n",
    "# 1° Parametro: Rótulos esperados\n",
    "# 2° Parametro: Rótulos previstos pelo modelo\n",
    "print('Acurácia Regressão Logística:', accuracy_score(y_test, y_predict_logReg) * 100)\n",
    "print(classification_report(y_test, y_predict_logReg))"
   ]
  },
  {
   "cell_type": "markdown",
   "metadata": {},
   "source": [
    "### KNN"
   ]
  },
  {
   "cell_type": "code",
   "execution_count": 960,
   "metadata": {},
   "outputs": [
    {
     "name": "stdout",
     "output_type": "stream",
     "text": [
      "Acurácia KNN: 30.0\n"
     ]
    }
   ],
   "source": [
    "knn = KNeighborsClassifier(n_neighbors=9) # O parametro significa que irá pegar 9 vizinhos\n",
    "\n",
    "# Realiza o treinamento\n",
    "knn.fit(X_train_scaled, y_train)\n",
    "\n",
    "# Realiza o teste\n",
    "y_predict_knn = knn.predict(X_test_scaled)\n",
    "\n",
    "print(\"Acurácia KNN:\", accuracy_score(y_test, y_predict_knn) * 100)"
   ]
  },
  {
   "cell_type": "markdown",
   "metadata": {},
   "source": [
    "### SVM (Support Vector Machine)"
   ]
  },
  {
   "cell_type": "code",
   "execution_count": 961,
   "metadata": {},
   "outputs": [
    {
     "name": "stdout",
     "output_type": "stream",
     "text": [
      "Acurácia SVM (RBF): 35.0\n"
     ]
    }
   ],
   "source": [
    "# Utilizando o kernel RBF -> mais complexo\n",
    "svm = SVC(kernel='rbf')\n",
    "\n",
    "svm.fit(X_train_scaled, y_train)\n",
    "\n",
    "y_predict_svm_rbf = svm.predict(X_test_scaled)\n",
    "\n",
    "print(\"Acurácia SVM (RBF):\", accuracy_score(y_test, y_predict_svm_rbf) * 100)"
   ]
  },
  {
   "cell_type": "code",
   "execution_count": 962,
   "metadata": {},
   "outputs": [
    {
     "name": "stdout",
     "output_type": "stream",
     "text": [
      "Acurácia SVM (Polinomial): 45.0\n"
     ]
    }
   ],
   "source": [
    "# Utilizando o kernel polinomial -> mais intermediário\n",
    "svm = SVC(kernel='poly')\n",
    "\n",
    "svm.fit(X_train_scaled, y_train)\n",
    "\n",
    "y_predict_svm_poly = svm.predict(X_test_scaled)\n",
    "\n",
    "print(\"Acurácia SVM (Polinomial):\", accuracy_score(y_test, y_predict_svm_poly) * 100)"
   ]
  },
  {
   "cell_type": "code",
   "execution_count": 963,
   "metadata": {},
   "outputs": [
    {
     "name": "stdout",
     "output_type": "stream",
     "text": [
      "Acurácia SVM (Linear): 85.0\n"
     ]
    }
   ],
   "source": [
    "# Utilizando o kernel linear -> mais simples\n",
    "svm = SVC(kernel='linear')\n",
    "\n",
    "svm.fit(X_train_scaled, y_train)\n",
    "\n",
    "y_predict_svm_linear = svm.predict(X_test_scaled)\n",
    "\n",
    "print(\"Acurácia SVM (Linear):\", accuracy_score(y_test, y_predict_svm_linear) * 100)"
   ]
  },
  {
   "cell_type": "markdown",
   "metadata": {},
   "source": [
    "### Árvore de Decisão"
   ]
  },
  {
   "cell_type": "code",
   "execution_count": 964,
   "metadata": {},
   "outputs": [
    {
     "name": "stdout",
     "output_type": "stream",
     "text": [
      "Acurácia KNN: 100.0\n"
     ]
    }
   ],
   "source": [
    "decision_tree = DecisionTreeClassifier()\n",
    "\n",
    "# Realiza o treinamento\n",
    "decision_tree.fit(X_train_scaled, y_train)\n",
    "\n",
    "# Realiza o teste\n",
    "y_predict_decision_tree = decision_tree.predict(X_test_scaled)\n",
    "\n",
    "print(\"Acurácia KNN:\", accuracy_score(y_test, y_predict_decision_tree) * 100)"
   ]
  },
  {
   "cell_type": "markdown",
   "metadata": {},
   "source": [
    "### Floresta Randômica (Aleatória)"
   ]
  },
  {
   "cell_type": "code",
   "execution_count": 965,
   "metadata": {},
   "outputs": [
    {
     "name": "stdout",
     "output_type": "stream",
     "text": [
      "Acurácia KNN: 95.0\n"
     ]
    }
   ],
   "source": [
    "# n_estimators define o número de árvores (estimadores) que serão criadas e utilizadas na floresta\n",
    "random_forest = RandomForestClassifier(n_estimators=25)\n",
    "\n",
    "random_forest.fit(X_train_scaled, y_train)\n",
    "\n",
    "y_predict_random_forest = random_forest.predict(X_test_scaled)\n",
    "\n",
    "print(\"Acurácia KNN:\", accuracy_score(y_test, y_predict_random_forest) * 100)"
   ]
  }
 ],
 "metadata": {
  "kernelspec": {
   "display_name": "Python 3",
   "language": "python",
   "name": "python3"
  },
  "language_info": {
   "codemirror_mode": {
    "name": "ipython",
    "version": 3
   },
   "file_extension": ".py",
   "mimetype": "text/x-python",
   "name": "python",
   "nbconvert_exporter": "python",
   "pygments_lexer": "ipython3",
   "version": "3.10.10"
  }
 },
 "nbformat": 4,
 "nbformat_minor": 2
}
