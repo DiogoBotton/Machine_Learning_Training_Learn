{
 "cells": [
  {
   "cell_type": "markdown",
   "metadata": {},
   "source": [
    "Neste projeto iremos analisar o conjunto de dados sobre preços de carros com o **objetivo de prever se o carro será vendido ou não**, baseado nos dados de carros que foram vendidos.\n",
    "\n",
    "Em seguida, iremos avaliar a performance do nosso modelo utilizando metodologias de treino e teste Hold Out e Validação Cruzada."
   ]
  },
  {
   "cell_type": "code",
   "execution_count": 2,
   "metadata": {},
   "outputs": [
    {
     "data": {
      "text/html": [
       "<div>\n",
       "<style scoped>\n",
       "    .dataframe tbody tr th:only-of-type {\n",
       "        vertical-align: middle;\n",
       "    }\n",
       "\n",
       "    .dataframe tbody tr th {\n",
       "        vertical-align: top;\n",
       "    }\n",
       "\n",
       "    .dataframe thead th {\n",
       "        text-align: right;\n",
       "    }\n",
       "</style>\n",
       "<table border=\"1\" class=\"dataframe\">\n",
       "  <thead>\n",
       "    <tr style=\"text-align: right;\">\n",
       "      <th></th>\n",
       "      <th>milhas_por_ano</th>\n",
       "      <th>ano_do_modelo</th>\n",
       "      <th>preco</th>\n",
       "      <th>vendido</th>\n",
       "    </tr>\n",
       "  </thead>\n",
       "  <tbody>\n",
       "    <tr>\n",
       "      <th>0</th>\n",
       "      <td>21801</td>\n",
       "      <td>2000</td>\n",
       "      <td>30941.02</td>\n",
       "      <td>1</td>\n",
       "    </tr>\n",
       "    <tr>\n",
       "      <th>1</th>\n",
       "      <td>7843</td>\n",
       "      <td>1998</td>\n",
       "      <td>40557.96</td>\n",
       "      <td>1</td>\n",
       "    </tr>\n",
       "    <tr>\n",
       "      <th>2</th>\n",
       "      <td>7109</td>\n",
       "      <td>2006</td>\n",
       "      <td>89627.50</td>\n",
       "      <td>0</td>\n",
       "    </tr>\n",
       "    <tr>\n",
       "      <th>3</th>\n",
       "      <td>26823</td>\n",
       "      <td>2015</td>\n",
       "      <td>95276.14</td>\n",
       "      <td>0</td>\n",
       "    </tr>\n",
       "    <tr>\n",
       "      <th>4</th>\n",
       "      <td>7935</td>\n",
       "      <td>2014</td>\n",
       "      <td>117384.68</td>\n",
       "      <td>1</td>\n",
       "    </tr>\n",
       "  </tbody>\n",
       "</table>\n",
       "</div>"
      ],
      "text/plain": [
       "   milhas_por_ano  ano_do_modelo      preco  vendido\n",
       "0           21801           2000   30941.02        1\n",
       "1            7843           1998   40557.96        1\n",
       "2            7109           2006   89627.50        0\n",
       "3           26823           2015   95276.14        0\n",
       "4            7935           2014  117384.68        1"
      ]
     },
     "execution_count": 2,
     "metadata": {},
     "output_type": "execute_result"
    }
   ],
   "source": [
    "import pandas as pd\n",
    "\n",
    "df = pd.read_csv('Dados/precos.csv')\n",
    "df.head()"
   ]
  },
  {
   "cell_type": "code",
   "execution_count": 3,
   "metadata": {},
   "outputs": [
    {
     "name": "stdout",
     "output_type": "stream",
     "text": [
      "<class 'pandas.core.frame.DataFrame'>\n",
      "RangeIndex: 10000 entries, 0 to 9999\n",
      "Data columns (total 4 columns):\n",
      " #   Column          Non-Null Count  Dtype  \n",
      "---  ------          --------------  -----  \n",
      " 0   milhas_por_ano  10000 non-null  int64  \n",
      " 1   ano_do_modelo   10000 non-null  int64  \n",
      " 2   preco           10000 non-null  float64\n",
      " 3   vendido         10000 non-null  int64  \n",
      "dtypes: float64(1), int64(3)\n",
      "memory usage: 312.6 KB\n"
     ]
    }
   ],
   "source": [
    "df.info()"
   ]
  },
  {
   "cell_type": "markdown",
   "metadata": {},
   "source": [
    "Seria mais interessante trabalharmos com quilometros, então vamos adicionar uma nova coluna \"km_por_ano\", convertendo o valor de milhas para km."
   ]
  },
  {
   "cell_type": "code",
   "execution_count": 4,
   "metadata": {},
   "outputs": [
    {
     "data": {
      "text/html": [
       "<div>\n",
       "<style scoped>\n",
       "    .dataframe tbody tr th:only-of-type {\n",
       "        vertical-align: middle;\n",
       "    }\n",
       "\n",
       "    .dataframe tbody tr th {\n",
       "        vertical-align: top;\n",
       "    }\n",
       "\n",
       "    .dataframe thead th {\n",
       "        text-align: right;\n",
       "    }\n",
       "</style>\n",
       "<table border=\"1\" class=\"dataframe\">\n",
       "  <thead>\n",
       "    <tr style=\"text-align: right;\">\n",
       "      <th></th>\n",
       "      <th>milhas_por_ano</th>\n",
       "      <th>ano_do_modelo</th>\n",
       "      <th>preco</th>\n",
       "      <th>vendido</th>\n",
       "      <th>km_por_ano</th>\n",
       "    </tr>\n",
       "  </thead>\n",
       "  <tbody>\n",
       "    <tr>\n",
       "      <th>0</th>\n",
       "      <td>21801</td>\n",
       "      <td>2000</td>\n",
       "      <td>30941.02</td>\n",
       "      <td>1</td>\n",
       "      <td>35085.308544</td>\n",
       "    </tr>\n",
       "    <tr>\n",
       "      <th>1</th>\n",
       "      <td>7843</td>\n",
       "      <td>1998</td>\n",
       "      <td>40557.96</td>\n",
       "      <td>1</td>\n",
       "      <td>12622.084992</td>\n",
       "    </tr>\n",
       "    <tr>\n",
       "      <th>2</th>\n",
       "      <td>7109</td>\n",
       "      <td>2006</td>\n",
       "      <td>89627.50</td>\n",
       "      <td>0</td>\n",
       "      <td>11440.826496</td>\n",
       "    </tr>\n",
       "    <tr>\n",
       "      <th>3</th>\n",
       "      <td>26823</td>\n",
       "      <td>2015</td>\n",
       "      <td>95276.14</td>\n",
       "      <td>0</td>\n",
       "      <td>43167.434112</td>\n",
       "    </tr>\n",
       "    <tr>\n",
       "      <th>4</th>\n",
       "      <td>7935</td>\n",
       "      <td>2014</td>\n",
       "      <td>117384.68</td>\n",
       "      <td>1</td>\n",
       "      <td>12770.144640</td>\n",
       "    </tr>\n",
       "  </tbody>\n",
       "</table>\n",
       "</div>"
      ],
      "text/plain": [
       "   milhas_por_ano  ano_do_modelo      preco  vendido    km_por_ano\n",
       "0           21801           2000   30941.02        1  35085.308544\n",
       "1            7843           1998   40557.96        1  12622.084992\n",
       "2            7109           2006   89627.50        0  11440.826496\n",
       "3           26823           2015   95276.14        0  43167.434112\n",
       "4            7935           2014  117384.68        1  12770.144640"
      ]
     },
     "execution_count": 4,
     "metadata": {},
     "output_type": "execute_result"
    }
   ],
   "source": [
    "COEFFICIENT = 1.609344 # Conversão de milhas para ano\n",
    "df['km_por_ano'] = df['milhas_por_ano'].apply(lambda x: x * COEFFICIENT)\n",
    "df.head()"
   ]
  },
  {
   "cell_type": "markdown",
   "metadata": {},
   "source": [
    "Vamos agora criar outra coluna baseada no \"ano_do_modelo\"."
   ]
  },
  {
   "cell_type": "code",
   "execution_count": 5,
   "metadata": {},
   "outputs": [
    {
     "data": {
      "text/html": [
       "<div>\n",
       "<style scoped>\n",
       "    .dataframe tbody tr th:only-of-type {\n",
       "        vertical-align: middle;\n",
       "    }\n",
       "\n",
       "    .dataframe tbody tr th {\n",
       "        vertical-align: top;\n",
       "    }\n",
       "\n",
       "    .dataframe thead th {\n",
       "        text-align: right;\n",
       "    }\n",
       "</style>\n",
       "<table border=\"1\" class=\"dataframe\">\n",
       "  <thead>\n",
       "    <tr style=\"text-align: right;\">\n",
       "      <th></th>\n",
       "      <th>milhas_por_ano</th>\n",
       "      <th>ano_do_modelo</th>\n",
       "      <th>preco</th>\n",
       "      <th>vendido</th>\n",
       "      <th>km_por_ano</th>\n",
       "      <th>idade_carro</th>\n",
       "    </tr>\n",
       "  </thead>\n",
       "  <tbody>\n",
       "    <tr>\n",
       "      <th>0</th>\n",
       "      <td>21801</td>\n",
       "      <td>2000</td>\n",
       "      <td>30941.02</td>\n",
       "      <td>1</td>\n",
       "      <td>35085.308544</td>\n",
       "      <td>24</td>\n",
       "    </tr>\n",
       "    <tr>\n",
       "      <th>1</th>\n",
       "      <td>7843</td>\n",
       "      <td>1998</td>\n",
       "      <td>40557.96</td>\n",
       "      <td>1</td>\n",
       "      <td>12622.084992</td>\n",
       "      <td>26</td>\n",
       "    </tr>\n",
       "    <tr>\n",
       "      <th>2</th>\n",
       "      <td>7109</td>\n",
       "      <td>2006</td>\n",
       "      <td>89627.50</td>\n",
       "      <td>0</td>\n",
       "      <td>11440.826496</td>\n",
       "      <td>18</td>\n",
       "    </tr>\n",
       "    <tr>\n",
       "      <th>3</th>\n",
       "      <td>26823</td>\n",
       "      <td>2015</td>\n",
       "      <td>95276.14</td>\n",
       "      <td>0</td>\n",
       "      <td>43167.434112</td>\n",
       "      <td>9</td>\n",
       "    </tr>\n",
       "    <tr>\n",
       "      <th>4</th>\n",
       "      <td>7935</td>\n",
       "      <td>2014</td>\n",
       "      <td>117384.68</td>\n",
       "      <td>1</td>\n",
       "      <td>12770.144640</td>\n",
       "      <td>10</td>\n",
       "    </tr>\n",
       "  </tbody>\n",
       "</table>\n",
       "</div>"
      ],
      "text/plain": [
       "   milhas_por_ano  ano_do_modelo      preco  vendido    km_por_ano  \\\n",
       "0           21801           2000   30941.02        1  35085.308544   \n",
       "1            7843           1998   40557.96        1  12622.084992   \n",
       "2            7109           2006   89627.50        0  11440.826496   \n",
       "3           26823           2015   95276.14        0  43167.434112   \n",
       "4            7935           2014  117384.68        1  12770.144640   \n",
       "\n",
       "   idade_carro  \n",
       "0           24  \n",
       "1           26  \n",
       "2           18  \n",
       "3            9  \n",
       "4           10  "
      ]
     },
     "execution_count": 5,
     "metadata": {},
     "output_type": "execute_result"
    }
   ],
   "source": [
    "from datetime import datetime\n",
    "\n",
    "year = datetime.today().year\n",
    "df['idade_carro'] = df['ano_do_modelo'].apply(lambda x: year - x)\n",
    "df.head()"
   ]
  },
  {
   "cell_type": "markdown",
   "metadata": {},
   "source": [
    "Vamos remover as colunas que não iremos mais utilizar, no caso, \"milhas_por_ano\" e \"ano_do_modelo\"."
   ]
  },
  {
   "cell_type": "code",
   "execution_count": 6,
   "metadata": {},
   "outputs": [
    {
     "data": {
      "text/html": [
       "<div>\n",
       "<style scoped>\n",
       "    .dataframe tbody tr th:only-of-type {\n",
       "        vertical-align: middle;\n",
       "    }\n",
       "\n",
       "    .dataframe tbody tr th {\n",
       "        vertical-align: top;\n",
       "    }\n",
       "\n",
       "    .dataframe thead th {\n",
       "        text-align: right;\n",
       "    }\n",
       "</style>\n",
       "<table border=\"1\" class=\"dataframe\">\n",
       "  <thead>\n",
       "    <tr style=\"text-align: right;\">\n",
       "      <th></th>\n",
       "      <th>preco</th>\n",
       "      <th>vendido</th>\n",
       "      <th>km_por_ano</th>\n",
       "      <th>idade_carro</th>\n",
       "    </tr>\n",
       "  </thead>\n",
       "  <tbody>\n",
       "    <tr>\n",
       "      <th>0</th>\n",
       "      <td>30941.02</td>\n",
       "      <td>1</td>\n",
       "      <td>35085.308544</td>\n",
       "      <td>24</td>\n",
       "    </tr>\n",
       "    <tr>\n",
       "      <th>1</th>\n",
       "      <td>40557.96</td>\n",
       "      <td>1</td>\n",
       "      <td>12622.084992</td>\n",
       "      <td>26</td>\n",
       "    </tr>\n",
       "    <tr>\n",
       "      <th>2</th>\n",
       "      <td>89627.50</td>\n",
       "      <td>0</td>\n",
       "      <td>11440.826496</td>\n",
       "      <td>18</td>\n",
       "    </tr>\n",
       "    <tr>\n",
       "      <th>3</th>\n",
       "      <td>95276.14</td>\n",
       "      <td>0</td>\n",
       "      <td>43167.434112</td>\n",
       "      <td>9</td>\n",
       "    </tr>\n",
       "    <tr>\n",
       "      <th>4</th>\n",
       "      <td>117384.68</td>\n",
       "      <td>1</td>\n",
       "      <td>12770.144640</td>\n",
       "      <td>10</td>\n",
       "    </tr>\n",
       "    <tr>\n",
       "      <th>...</th>\n",
       "      <td>...</td>\n",
       "      <td>...</td>\n",
       "      <td>...</td>\n",
       "      <td>...</td>\n",
       "    </tr>\n",
       "    <tr>\n",
       "      <th>9995</th>\n",
       "      <td>97112.86</td>\n",
       "      <td>0</td>\n",
       "      <td>25060.704768</td>\n",
       "      <td>18</td>\n",
       "    </tr>\n",
       "    <tr>\n",
       "      <th>9996</th>\n",
       "      <td>107424.63</td>\n",
       "      <td>1</td>\n",
       "      <td>21317.370624</td>\n",
       "      <td>22</td>\n",
       "    </tr>\n",
       "    <tr>\n",
       "      <th>9997</th>\n",
       "      <td>93856.99</td>\n",
       "      <td>0</td>\n",
       "      <td>20950.440192</td>\n",
       "      <td>10</td>\n",
       "    </tr>\n",
       "    <tr>\n",
       "      <th>9998</th>\n",
       "      <td>51250.57</td>\n",
       "      <td>1</td>\n",
       "      <td>16840.175616</td>\n",
       "      <td>13</td>\n",
       "    </tr>\n",
       "    <tr>\n",
       "      <th>9999</th>\n",
       "      <td>87945.73</td>\n",
       "      <td>0</td>\n",
       "      <td>19894.710528</td>\n",
       "      <td>25</td>\n",
       "    </tr>\n",
       "  </tbody>\n",
       "</table>\n",
       "<p>10000 rows × 4 columns</p>\n",
       "</div>"
      ],
      "text/plain": [
       "          preco  vendido    km_por_ano  idade_carro\n",
       "0      30941.02        1  35085.308544           24\n",
       "1      40557.96        1  12622.084992           26\n",
       "2      89627.50        0  11440.826496           18\n",
       "3      95276.14        0  43167.434112            9\n",
       "4     117384.68        1  12770.144640           10\n",
       "...         ...      ...           ...          ...\n",
       "9995   97112.86        0  25060.704768           18\n",
       "9996  107424.63        1  21317.370624           22\n",
       "9997   93856.99        0  20950.440192           10\n",
       "9998   51250.57        1  16840.175616           13\n",
       "9999   87945.73        0  19894.710528           25\n",
       "\n",
       "[10000 rows x 4 columns]"
      ]
     },
     "execution_count": 6,
     "metadata": {},
     "output_type": "execute_result"
    }
   ],
   "source": [
    "df.drop(['milhas_por_ano', 'ano_do_modelo'], axis=1, inplace=True)\n",
    "df"
   ]
  },
  {
   "cell_type": "code",
   "execution_count": 7,
   "metadata": {},
   "outputs": [],
   "source": [
    "# Divisão dos dados e normalização (transformação na escala dos dados)\n",
    "from sklearn.model_selection import train_test_split\n",
    "from sklearn.preprocessing import StandardScaler\n",
    "\n",
    "sc = StandardScaler()\n",
    "\n",
    "X = df.drop('vendido', axis=1)\n",
    "y = df['vendido']\n",
    "\n",
    "SEED = 42\n",
    "\n",
    "X_train, X_test, y_train, y_test = train_test_split(X, y, test_size=0.25, random_state=SEED)\n",
    "\n",
    "X_train_scaled = sc.fit_transform(X_train)\n",
    "X_test_scaled = sc.transform(X_test)"
   ]
  },
  {
   "cell_type": "markdown",
   "metadata": {},
   "source": [
    "Antes de iniciarmos todo o processo de treinamento do nosso modelo é importante definirmos o nosso **Modelo Baseline**.\n",
    "\n",
    "O Baseline serve como um **ponto de partida** que pode ser usado para comparar o desempenho do nosso modelo.\n",
    "\n",
    "Isso ajuda a entender o quão melhor um modelo mais sofisticado está performando em comparação a uma abordagem mais simples e direta (Dummy).\n",
    "\n",
    "Em outras palavras, se formos treinar nosso modelo com outros tipos de algoritmo, é necessário que a métrica seja maior que o do nosso DummyClassifier, do contrário, não valerá a pena seguir com o treinamento do modelo com um algoritmo que demonstrou performance pior comparado ao nosso Baseline.\n",
    "\n",
    "Uma forma bem simples de um Modelo Baseline seria, por exemplo, no caso do nosso dataset atual (preços.csv), onde poderiamos fazer um cálculo entre o *número de carros que foram comprados* / *número total de carros* (58%).\n",
    "\n",
    "O valor resultante seria o valor mínimo de acurácia, o ponto de partida para que possamos melhorar nosso modelo."
   ]
  },
  {
   "cell_type": "code",
   "execution_count": 8,
   "metadata": {},
   "outputs": [
    {
     "name": "stdout",
     "output_type": "stream",
     "text": [
      "Acurácia: 57.92%\n"
     ]
    },
    {
     "data": {
      "text/plain": [
       "0.58"
      ]
     },
     "execution_count": 8,
     "metadata": {},
     "output_type": "execute_result"
    }
   ],
   "source": [
    "# Treinamento do modelo com Dummy Classifier (é um modelo com estratégias \"ingênuas\")\n",
    "# Leva em consideração, por exemplo, dados mais frequentes, etc\n",
    "from sklearn.metrics import accuracy_score, recall_score, precision_score, f1_score\n",
    "from sklearn.dummy import DummyClassifier\n",
    "\n",
    "# O parametro strategy define qual será o método de classificação do dommy\n",
    "# Por exemplo, \"chuta\" o valor mais frequente (valor mais comum) ou \"chuta\" o valor proporcional ao quão comum ela é\n",
    "dummy = DummyClassifier() \n",
    "\n",
    "# Com o DummyClassifier, treinamos o modelo com os dados padrões, sem a necessidade de normaliza-los/padroniza-los\n",
    "dummy.fit(X_train, y_train)\n",
    "\n",
    "model_predict = dummy.predict(X_test)\n",
    "\n",
    "accuracy = accuracy_score(y_test, model_predict)\n",
    "print(f'Acurácia: {accuracy*100:.2f}%')\n",
    "\n",
    "\n",
    "len(df.query('vendido == 1')) / len(df)"
   ]
  },
  {
   "cell_type": "code",
   "execution_count": 9,
   "metadata": {},
   "outputs": [
    {
     "name": "stdout",
     "output_type": "stream",
     "text": [
      "Acurácia: 75.88%\n",
      "Recall: 76.93%\n",
      "Precisão: 80.55%\n",
      "F1 Score: 78.70%\n"
     ]
    }
   ],
   "source": [
    "# Treinamento do modelo com SVC\n",
    "from sklearn.svm import SVC\n",
    "\n",
    "model = SVC()\n",
    "\n",
    "model.fit(X_train_scaled, y_train)\n",
    "\n",
    "model_predict = model.predict(X_test_scaled)\n",
    "\n",
    "accuracy = accuracy_score(y_test, model_predict)\n",
    "print(f'Acurácia: {accuracy*100:.2f}%')\n",
    "\n",
    "recall = recall_score(y_test, model_predict)\n",
    "print(f'Recall: {recall*100:.2f}%')\n",
    "\n",
    "precision = precision_score(y_test, model_predict)\n",
    "print(f'Precisão: {precision*100:.2f}%')\n",
    "\n",
    "f1_score_ = f1_score(y_test, model_predict)\n",
    "print(f'F1 Score: {f1_score_*100:.2f}%')"
   ]
  },
  {
   "cell_type": "markdown",
   "metadata": {},
   "source": [
    "Para essa situação, iremos utilizar um algoritmo de treinamento diferente: a **Árvore de Decisão**.\n",
    "\n",
    "Aqui podemos usar os dados brutos sem normalização, pois dados fora de escala não afetam a árvore de decisão.\n",
    "\n",
    "Iremos utilizar este modelo pois, este especificamente explica por que esta sendo tomado determinada decisão.\n",
    "\n",
    "Este tipo de algoritmo toma decisões em cascata, ou seja, em sequência, como um \"*if else*\"."
   ]
  },
  {
   "cell_type": "code",
   "execution_count": 33,
   "metadata": {},
   "outputs": [
    {
     "name": "stdout",
     "output_type": "stream",
     "text": [
      "Acurácia: 77.60%\n"
     ]
    }
   ],
   "source": [
    "from sklearn.tree import DecisionTreeClassifier, plot_tree\n",
    "\n",
    "# O parametro max_depth (maximo de profundidade) limita a quantidade de níveis de profundidade da nossa árvore\n",
    "# Pois se o tamanho de árvores for muito grande é possível que aconteça o Overfitting \n",
    "# Overfitting (sobreajuste): quando o modelo basicamente \"decora\" os nossos dados de treino e não generaliza bem para novos dados.\n",
    "dt_model = DecisionTreeClassifier(max_depth=3)\n",
    "\n",
    "dt_model.fit(X_train, y_train)\n",
    "\n",
    "dt_model_predict = dt_model.predict(X_test)\n",
    "\n",
    "accuracy = accuracy_score(y_test, dt_model_predict)\n",
    "print(f'Acurácia: {accuracy*100:.2f}%')"
   ]
  },
  {
   "cell_type": "markdown",
   "metadata": {},
   "source": [
    "Vamos visualizar a nossa árvore de decisão com a função *plot_tree* da própria biblioteca sklearn.\n",
    "\n",
    "Aqui podemos ver como o nosso algoritmo irá prever os dados. No gráfico abaixo, é possível visualizar os motivos de cada decisão do modelo, ou seja, o modelo \"explica\" (descreve) o motivo de suas previsões."
   ]
  },
  {
   "cell_type": "code",
   "execution_count": 11,
   "metadata": {},
   "outputs": [
    {
     "data": {
      "text/plain": [
       "[Text(0.4230769230769231, 0.875, 'preco <= 59982.246\\ngini = 0.487\\nsamples = 7500\\nvalue = [3148, 4352]\\nclass = sim'),\n",
       " Text(0.15384615384615385, 0.625, 'preco <= 40083.385\\ngini = 0.194\\nsamples = 3273\\nvalue = [356, 2917]\\nclass = sim'),\n",
       " Text(0.28846153846153844, 0.75, 'True  '),\n",
       " Text(0.07692307692307693, 0.375, 'gini = 0.0\\nsamples = 1441\\nvalue = [0, 1441]\\nclass = sim'),\n",
       " Text(0.23076923076923078, 0.375, 'preco <= 41554.541\\ngini = 0.313\\nsamples = 1832\\nvalue = [356, 1476]\\nclass = sim'),\n",
       " Text(0.15384615384615385, 0.125, 'gini = 0.418\\nsamples = 121\\nvalue = [36, 85]\\nclass = sim'),\n",
       " Text(0.3076923076923077, 0.125, 'gini = 0.304\\nsamples = 1711\\nvalue = [320, 1391]\\nclass = sim'),\n",
       " Text(0.6923076923076923, 0.625, 'km_por_ano <= 24124.066\\ngini = 0.448\\nsamples = 4227\\nvalue = [2792, 1435]\\nclass = não'),\n",
       " Text(0.5576923076923077, 0.75, '  False'),\n",
       " Text(0.5384615384615384, 0.375, 'preco <= 99974.41\\ngini = 0.497\\nsamples = 2629\\nvalue = [1417, 1212]\\nclass = não'),\n",
       " Text(0.46153846153846156, 0.125, 'gini = 0.489\\nsamples = 2209\\nvalue = [1272, 937]\\nclass = não'),\n",
       " Text(0.6153846153846154, 0.125, 'gini = 0.452\\nsamples = 420\\nvalue = [145, 275]\\nclass = sim'),\n",
       " Text(0.8461538461538461, 0.375, 'preco <= 100076.957\\ngini = 0.24\\nsamples = 1598\\nvalue = [1375, 223]\\nclass = não'),\n",
       " Text(0.7692307692307693, 0.125, 'gini = 0.075\\nsamples = 1354\\nvalue = [1301.0, 53.0]\\nclass = não'),\n",
       " Text(0.9230769230769231, 0.125, 'gini = 0.423\\nsamples = 244\\nvalue = [74, 170]\\nclass = sim')]"
      ]
     },
     "execution_count": 11,
     "metadata": {},
     "output_type": "execute_result"
    },
    {
     "data": {
      "image/png": "[encoded data removed]",
      "text/plain": [
       "<Figure size 1200x600 with 1 Axes>"
      ]
     },
     "metadata": {},
     "output_type": "display_data"
    }
   ],
   "source": [
    "import matplotlib.pyplot as plt\n",
    "\n",
    "plt.figure(figsize=(12,6))\n",
    "plot_tree(dt_model,\n",
    "          filled=True,\n",
    "          rounded=True,\n",
    "          feature_names=X.columns, # Ao invés dos índices das colunas, aparecerá os nomes de cada coluna\n",
    "          class_names=['não', 'sim']) # Ao invés de true e false, aparecerá sim e não"
   ]
  },
  {
   "cell_type": "markdown",
   "metadata": {},
   "source": [
    "### Validação cruzada\n",
    "\n",
    "Até o momento utilizamos a metodologia **Hold Out** para realizar o treino e teste do nosso modelo. O que isto significa?\n",
    "\n",
    "**Hold Out**\n",
    "- É o ato de dividir os dados de treino e testes apenas uma vez, baseado em um número de seed (no caso, o **random_state** do método *train_test_split*).\n",
    "- Porém utilizando este método, podemos estar suscetível à aleatoriedade, pois caso pegarmos diferentes sessões dos dados para treino e teste, as métricas de performance do nosso modelo podem ser diferentes, tanto pra melhor ou pior.\n",
    "- Este não é um cenário ideal, e para resolver isto, podemos utilizar a metodolodia da **Validação Cruzada**.\n",
    "\n",
    "**K-fold (Validação Cruzada)**\n",
    "- Trata-se de dividir os dados em **k** partes para fazer a validação cruzada, onde ao final, será tirado a média das métricas (por exemplo, acurácia) para validar a performance do modelo.\n",
    "- Esta metodologia irá treinar e testar nosso modelo de forma consecutiva, treinando e testando os dados com diferentes partes dos dados.\n",
    "- Ao final, irá trazer um *score*, especificamente o *test_score*, onde a partir dele teremos uma média dos acertos e podemos realizar o desvio padrão para adquirirmos o quanto esses acertos podem variar.\n",
    "\n",
    "**Qual a diferença?**\n",
    "- Com o processo da validação cruzada, o procedimento de teste será feito de forma mais geral, e não apenas com uma única sessão dos dados (que é o caso do Hold Out, onde é separado 80% treino e 20% teste, por exemplo).\n",
    "- Onde será possível ter uma métrica de mais real da previsão do nosso modelo, que pode variar de x% até y%.\n",
    "- **No final, poderemos treinar o nosso modelo que será usado no mundo real com todos os dados da nossa base.**\n",
    "\n",
    "Documentação do Scikit-Learn sobre validação cruzada:\n",
    "- https://scikit-learn.org/1.5/modules/cross_validation.html"
   ]
  },
  {
   "cell_type": "code",
   "execution_count": 12,
   "metadata": {},
   "outputs": [],
   "source": [
    "def imprime_resultados(results):\n",
    "    media = results['test_score'].mean()\n",
    "    desvio_padrao = results['test_score'].std()\n",
    "\n",
    "    print(f'Acurácia com validação cruzada: {(media - 2 * desvio_padrao)*100:.2f}% // {(media + 2 * desvio_padrao)*100:.2f}%')"
   ]
  },
  {
   "cell_type": "code",
   "execution_count": 13,
   "metadata": {},
   "outputs": [
    {
     "name": "stdout",
     "output_type": "stream",
     "text": [
      "Acurácia com validação cruzada: 74.99% // 76.57%\n"
     ]
    }
   ],
   "source": [
    "from sklearn.model_selection import cross_validate\n",
    "\n",
    "dt_model = DecisionTreeClassifier(max_depth=2)\n",
    "\n",
    "# Validação cruzada\n",
    "results = cross_validate(dt_model, X, y, cv=3)\n",
    "results['test_score']\n",
    "imprime_resultados(results)"
   ]
  },
  {
   "cell_type": "markdown",
   "metadata": {},
   "source": [
    "Para adquirir o intervalo de acurácia que nosso modelo pode atingir, usamos uma combinação de *média* e *desvio padrão*."
   ]
  },
  {
   "cell_type": "markdown",
   "metadata": {},
   "source": [
    "Porém ainda estamos suscetível à um número: o número de divisões (parametro **cv**) que será feita nos nossos dados, no caso 3.\n",
    "\n",
    "O recomendado é que esse número seja 5 ou 10. Isto é baseado na própria documentação do scikit-learn, onde citam Papers científicos que indicam que uma escolhe de 5 ou 10 já é o suficiente.\n",
    "\n",
    "Então faremos novamente o nosso script anterior, porém agora com o número 5.\n",
    "\n",
    "**OBS. Por padrão, a partir da versão 0.22 do SKLearn, passou-se a adotar 5 como padrão do parametro cv, em vez de 3.**"
   ]
  },
  {
   "cell_type": "code",
   "execution_count": 14,
   "metadata": {},
   "outputs": [
    {
     "name": "stdout",
     "output_type": "stream",
     "text": [
      "Acurácia com validação cruzada: 75.21% // 76.35%\n"
     ]
    }
   ],
   "source": [
    "dt_model = DecisionTreeClassifier(max_depth=2)\n",
    "\n",
    "# Validação cruzada\n",
    "results = cross_validate(dt_model, X, y, cv=5)\n",
    "results['test_score']\n",
    "imprime_resultados(results)"
   ]
  },
  {
   "cell_type": "markdown",
   "metadata": {},
   "source": [
    "### KFold com aleatorização\n",
    "\n",
    "Além de quebrar em k pedaços, é possível embaralhar os dados com o parametro *Shuffle*."
   ]
  },
  {
   "cell_type": "code",
   "execution_count": 15,
   "metadata": {},
   "outputs": [
    {
     "name": "stdout",
     "output_type": "stream",
     "text": [
      "Acurácia com validação cruzada: 73.26% // 78.26%\n"
     ]
    }
   ],
   "source": [
    "from sklearn.model_selection import KFold\n",
    "import numpy as np\n",
    "\n",
    "SEED = 301\n",
    "\n",
    "kfold = KFold(n_splits=10, shuffle=True, random_state=SEED)\n",
    "dt_model = DecisionTreeClassifier(max_depth=2)\n",
    "results = cross_validate(dt_model, X, y, cv=kfold)\n",
    "imprime_resultados(results)"
   ]
  },
  {
   "cell_type": "markdown",
   "metadata": {},
   "source": [
    "**Simulando uma situação de azar**\n",
    "\n",
    "Simulando uma situação onde os dados estão desbalanceados e não temos como balancea-los com a *estratificação*, por exemplo, com o parametro stratify=y.\n",
    "\n",
    "Pode ser \"azar\", assim  como pode ser também uma proporção de exemplos desbalanceados entre as classes."
   ]
  },
  {
   "cell_type": "code",
   "execution_count": 16,
   "metadata": {},
   "outputs": [
    {
     "name": "stdout",
     "output_type": "stream",
     "text": [
      "Acurácia com validação cruzada: 34.56% // 81.36%\n"
     ]
    }
   ],
   "source": [
    "# Simulando uma situação de azar sem o \"Shuffle\" (Embaralhamento)\n",
    "dados_azar = df.sort_values('vendido', ascending=True) # Ordena os elementos com a variavel atributo\n",
    "X_azar = dados_azar.drop('vendido', axis=1)\n",
    "y_azar = dados_azar['vendido']\n",
    "\n",
    "kfold = KFold(n_splits=10)\n",
    "dt_model = DecisionTreeClassifier(max_depth=2)\n",
    "results = cross_validate(dt_model, X_azar, y_azar, cv=kfold)\n",
    "imprime_resultados(results)"
   ]
  },
  {
   "cell_type": "code",
   "execution_count": 17,
   "metadata": {},
   "outputs": [
    {
     "name": "stdout",
     "output_type": "stream",
     "text": [
      "Acurácia com validação cruzada: 73.53% // 78.03%\n"
     ]
    }
   ],
   "source": [
    "# Agora com o \"Shuffle\"\n",
    "kfold = KFold(n_splits=10, shuffle=True)\n",
    "dt_model = DecisionTreeClassifier(max_depth=2)\n",
    "results = cross_validate(dt_model, X_azar, y_azar, cv=kfold)\n",
    "imprime_resultados(results)"
   ]
  },
  {
   "cell_type": "markdown",
   "metadata": {},
   "source": [
    "### Estratificação com Validação Cruzada\n",
    "\n",
    "Quando há um desbalanceamento entre as classes é necessário que seja realizado a estratificação dos dados, onde é realizado a distribuição proporcional das classes entre os dados de treino e teste.\n",
    "\n",
    "Para isto, podemos utilizar o **KFold com Estratificação** da bilioteca *sklearn*."
   ]
  },
  {
   "cell_type": "code",
   "execution_count": 18,
   "metadata": {},
   "outputs": [
    {
     "name": "stdout",
     "output_type": "stream",
     "text": [
      "Acurácia com validação cruzada: 73.68% // 77.88%\n"
     ]
    }
   ],
   "source": [
    "# Basta apenas importar o StratifiedKFold da biblioteca sklearn\n",
    "from sklearn.model_selection import StratifiedKFold\n",
    "\n",
    "kfold = StratifiedKFold(n_splits=10, shuffle=True)\n",
    "dt_model = DecisionTreeClassifier(max_depth=2)\n",
    "results = cross_validate(dt_model, X_azar, y_azar, cv=kfold)\n",
    "imprime_resultados(results)"
   ]
  },
  {
   "cell_type": "markdown",
   "metadata": {},
   "source": [
    "### Validação cruzada usando grupos\n",
    "\n",
    "Primeiramente iremos criar uma nova coluna no dataset chamado \"modelo do carro\", onde iremos posteriormente agrupar os dados por modelo para realizar o treinamento.\n",
    "\n",
    "**O objetivo disto é:**\n",
    "- Em caso de no futuro surgir um novo modelo de carro, o nosso classificador deve conseguir prever também para este novo modelo.\n",
    "- Em outras palavras, o **modelo de ML deve ser capaz de prever para novos carros** (novos dados) e **não apenas memorizar os modelos de carros existentes** na base de dados."
   ]
  },
  {
   "cell_type": "code",
   "execution_count": 19,
   "metadata": {},
   "outputs": [],
   "source": [
    "np.random.seed(SEED)\n",
    "\n",
    "# Iremos gerar alguns dados aleatórios para o \"modelo do carro\"\n",
    "# De acordo com a idade do carro, ira somar ou subtrair um número aleatório de -2 a 2\n",
    "df['modelo_carro'] = df['idade_carro'] + np.random.randint(-2, 3, len(df))\n",
    "\n",
    "df.head()\n",
    "\n",
    "# Disponibilizar a nova planilha em csv\n",
    "df.to_csv('preco_carros_modificado.csv', index=False)"
   ]
  },
  {
   "cell_type": "code",
   "execution_count": 20,
   "metadata": {},
   "outputs": [
    {
     "data": {
      "text/plain": [
       "array([22, 28, 18, 10,  9, 17, 24, 23, 19,  6, 21, 16, 15, 20,  7, 11, 25,\n",
       "       27, 14, 13, 26, 12,  8,  5])"
      ]
     },
     "execution_count": 20,
     "metadata": {},
     "output_type": "execute_result"
    }
   ],
   "source": [
    "# Modelos de carro unicos\n",
    "df['modelo_carro'].unique()"
   ]
  },
  {
   "cell_type": "markdown",
   "metadata": {},
   "source": [
    "**Testando validação cruzada com GroupKFold**\n",
    "\n",
    "No caso que estamos trabalhando, de modo geral, os carros se comportam indiferentemente do modelo. Então, nossa classificação foi próxima, levando em consideração ou não o modelo do carro. Quando é dito \"levando em consideração\" não é para estimar, mas sim para treinar e testar. Reparem que x o x_azar, entre outros, continuam sem usar a coluna modelo. Para classificar só usamos preco, idade_do_modelo e km por ano."
   ]
  },
  {
   "cell_type": "code",
   "execution_count": 21,
   "metadata": {},
   "outputs": [
    {
     "name": "stdout",
     "output_type": "stream",
     "text": [
      "Acurácia com validação cruzada: 74.03% // 77.56%\n"
     ]
    }
   ],
   "source": [
    "from sklearn.model_selection import GroupKFold\n",
    "\n",
    "kfold = GroupKFold(n_splits=10)\n",
    "dt_model = DecisionTreeClassifier(max_depth=2)\n",
    "results = cross_validate(dt_model, X_azar, y_azar, cv=kfold, groups=df['modelo_carro'])\n",
    "imprime_resultados(results)"
   ]
  },
  {
   "cell_type": "markdown",
   "metadata": {},
   "source": [
    "### Validação Cruzada com padronização (StandardScaler) e **Pipeline**\n",
    "\n",
    "O passo a passo que acontecerá a seguir realiza tanto a transformação dos dados numéricos (padronização), assim como o treinamento do modelo com a validação cruzada.\n",
    "\n",
    "Isto é possível ser realizado de forma ágil utilizando um **Pipeline**, para evitar a repetição de código.\n",
    "\n",
    "**OBS.** Para rodar algorítimos com *cross_validate*, que exigem pré processamento, talvez seja necessário realizar o treino (fit) desse pré processamento somente na parte de treino. Para isso será necessário incluí-lo em um Pipeline. Portanto, se tivermos 10 fases de treino, teremos que rodar o *scaler* para cada uma do conjunto de treino, e é isso que o Pipeline faz para nós."
   ]
  },
  {
   "cell_type": "code",
   "execution_count": 22,
   "metadata": {},
   "outputs": [
    {
     "name": "stdout",
     "output_type": "stream",
     "text": [
      "Acurácia com validação cruzada: 74.02% // 79.22%\n"
     ]
    }
   ],
   "source": [
    "from sklearn.pipeline import Pipeline\n",
    "\n",
    "np.random.seed(SEED)\n",
    "\n",
    "scaler = StandardScaler()\n",
    "model_svc = SVC()\n",
    "\n",
    "pipeline = Pipeline(steps=[\n",
    "    ('preprocessamento', scaler),\n",
    "    ('estimador', model_svc)\n",
    "])\n",
    "\n",
    "kfold = GroupKFold(n_splits=10)\n",
    "results = cross_validate(pipeline, X_azar, y_azar, cv=kfold, groups=df['modelo_carro'])\n",
    "imprime_resultados(results)"
   ]
  },
  {
   "cell_type": "markdown",
   "metadata": {},
   "source": [
    "### Porém, o que fazer com a validação cruzada?\n",
    "\n",
    "A média e o intervalo providos pela validação cruzada diz o quão bem você espera que o modelo se comporte com os dados previamente mas... se você usou o cross validation com 10 folds, qual dos 10 modelos treinados você vai usar agora no mundo real?\n",
    "\n",
    "A ideia da validação cruzada num conjunto de dados **somente te diz o que você pode esperar**. Este processo **não treina o seu modelo final**.\n",
    "\n",
    "Agora que temos o algoritmo do estimador (por exemplo, um DecisionTreeClassifier) e pretende usá-lo no mundo real:"
   ]
  },
  {
   "cell_type": "code",
   "execution_count": 23,
   "metadata": {},
   "outputs": [],
   "source": [
    "model_dt = DecisionTreeClassifier(max_depth=2)"
   ]
  },
  {
   "cell_type": "markdown",
   "metadata": {},
   "source": [
    "Porém agora podemos utilizar **todos os dados** que temos para realizar o **treinamento do nosso modelo** que usaremos no mundo real, pois a **etapa de teste foi realizada na validação cruzada** (cross validation)."
   ]
  },
  {
   "cell_type": "code",
   "execution_count": 24,
   "metadata": {},
   "outputs": [
    {
     "data": {
      "text/html": [
       "<style>#sk-container-id-1 {\n",
       "  /* Definition of color scheme common for light and dark mode */\n",
       "  --sklearn-color-text: black;\n",
       "  --sklearn-color-line: gray;\n",
       "  /* Definition of color scheme for unfitted estimators */\n",
       "  --sklearn-color-unfitted-level-0: #fff5e6;\n",
       "  --sklearn-color-unfitted-level-1: #f6e4d2;\n",
       "  --sklearn-color-unfitted-level-2: #ffe0b3;\n",
       "  --sklearn-color-unfitted-level-3: chocolate;\n",
       "  /* Definition of color scheme for fitted estimators */\n",
       "  --sklearn-color-fitted-level-0: #f0f8ff;\n",
       "  --sklearn-color-fitted-level-1: #d4ebff;\n",
       "  --sklearn-color-fitted-level-2: #b3dbfd;\n",
       "  --sklearn-color-fitted-level-3: cornflowerblue;\n",
       "\n",
       "  /* Specific color for light theme */\n",
       "  --sklearn-color-text-on-default-background: var(--sg-text-color, var(--theme-code-foreground, var(--jp-content-font-color1, black)));\n",
       "  --sklearn-color-background: var(--sg-background-color, var(--theme-background, var(--jp-layout-color0, white)));\n",
       "  --sklearn-color-border-box: var(--sg-text-color, var(--theme-code-foreground, var(--jp-content-font-color1, black)));\n",
       "  --sklearn-color-icon: #696969;\n",
       "\n",
       "  @media (prefers-color-scheme: dark) {\n",
       "    /* Redefinition of color scheme for dark theme */\n",
       "    --sklearn-color-text-on-default-background: var(--sg-text-color, var(--theme-code-foreground, var(--jp-content-font-color1, white)));\n",
       "    --sklearn-color-background: var(--sg-background-color, var(--theme-background, var(--jp-layout-color0, #111)));\n",
       "    --sklearn-color-border-box: var(--sg-text-color, var(--theme-code-foreground, var(--jp-content-font-color1, white)));\n",
       "    --sklearn-color-icon: #878787;\n",
       "  }\n",
       "}\n",
       "\n",
       "#sk-container-id-1 {\n",
       "  color: var(--sklearn-color-text);\n",
       "}\n",
       "\n",
       "#sk-container-id-1 pre {\n",
       "  padding: 0;\n",
       "}\n",
       "\n",
       "#sk-container-id-1 input.sk-hidden--visually {\n",
       "  border: 0;\n",
       "  clip: rect(1px 1px 1px 1px);\n",
       "  clip: rect(1px, 1px, 1px, 1px);\n",
       "  height: 1px;\n",
       "  margin: -1px;\n",
       "  overflow: hidden;\n",
       "  padding: 0;\n",
       "  position: absolute;\n",
       "  width: 1px;\n",
       "}\n",
       "\n",
       "#sk-container-id-1 div.sk-dashed-wrapped {\n",
       "  border: 1px dashed var(--sklearn-color-line);\n",
       "  margin: 0 0.4em 0.5em 0.4em;\n",
       "  box-sizing: border-box;\n",
       "  padding-bottom: 0.4em;\n",
       "  background-color: var(--sklearn-color-background);\n",
       "}\n",
       "\n",
       "#sk-container-id-1 div.sk-container {\n",
       "  /* jupyter's `normalize.less` sets `[hidden] { display: none; }`\n",
       "     but bootstrap.min.css set `[hidden] { display: none !important; }`\n",
       "     so we also need the `!important` here to be able to override the\n",
       "     default hidden behavior on the sphinx rendered scikit-learn.org.\n",
       "     See: https://github.com/scikit-learn/scikit-learn/issues/21755 */\n",
       "  display: inline-block !important;\n",
       "  position: relative;\n",
       "}\n",
       "\n",
       "#sk-container-id-1 div.sk-text-repr-fallback {\n",
       "  display: none;\n",
       "}\n",
       "\n",
       "div.sk-parallel-item,\n",
       "div.sk-serial,\n",
       "div.sk-item {\n",
       "  /* draw centered vertical line to link estimators */\n",
       "  background-image: linear-gradient(var(--sklearn-color-text-on-default-background), var(--sklearn-color-text-on-default-background));\n",
       "  background-size: 2px 100%;\n",
       "  background-repeat: no-repeat;\n",
       "  background-position: center center;\n",
       "}\n",
       "\n",
       "/* Parallel-specific style estimator block */\n",
       "\n",
       "#sk-container-id-1 div.sk-parallel-item::after {\n",
       "  content: \"\";\n",
       "  width: 100%;\n",
       "  border-bottom: 2px solid var(--sklearn-color-text-on-default-background);\n",
       "  flex-grow: 1;\n",
       "}\n",
       "\n",
       "#sk-container-id-1 div.sk-parallel {\n",
       "  display: flex;\n",
       "  align-items: stretch;\n",
       "  justify-content: center;\n",
       "  background-color: var(--sklearn-color-background);\n",
       "  position: relative;\n",
       "}\n",
       "\n",
       "#sk-container-id-1 div.sk-parallel-item {\n",
       "  display: flex;\n",
       "  flex-direction: column;\n",
       "}\n",
       "\n",
       "#sk-container-id-1 div.sk-parallel-item:first-child::after {\n",
       "  align-self: flex-end;\n",
       "  width: 50%;\n",
       "}\n",
       "\n",
       "#sk-container-id-1 div.sk-parallel-item:last-child::after {\n",
       "  align-self: flex-start;\n",
       "  width: 50%;\n",
       "}\n",
       "\n",
       "#sk-container-id-1 div.sk-parallel-item:only-child::after {\n",
       "  width: 0;\n",
       "}\n",
       "\n",
       "/* Serial-specific style estimator block */\n",
       "\n",
       "#sk-container-id-1 div.sk-serial {\n",
       "  display: flex;\n",
       "  flex-direction: column;\n",
       "  align-items: center;\n",
       "  background-color: var(--sklearn-color-background);\n",
       "  padding-right: 1em;\n",
       "  padding-left: 1em;\n",
       "}\n",
       "\n",
       "\n",
       "/* Toggleable style: style used for estimator/Pipeline/ColumnTransformer box that is\n",
       "clickable and can be expanded/collapsed.\n",
       "- Pipeline and ColumnTransformer use this feature and define the default style\n",
       "- Estimators will overwrite some part of the style using the `sk-estimator` class\n",
       "*/\n",
       "\n",
       "/* Pipeline and ColumnTransformer style (default) */\n",
       "\n",
       "#sk-container-id-1 div.sk-toggleable {\n",
       "  /* Default theme specific background. It is overwritten whether we have a\n",
       "  specific estimator or a Pipeline/ColumnTransformer */\n",
       "  background-color: var(--sklearn-color-background);\n",
       "}\n",
       "\n",
       "/* Toggleable label */\n",
       "#sk-container-id-1 label.sk-toggleable__label {\n",
       "  cursor: pointer;\n",
       "  display: block;\n",
       "  width: 100%;\n",
       "  margin-bottom: 0;\n",
       "  padding: 0.5em;\n",
       "  box-sizing: border-box;\n",
       "  text-align: center;\n",
       "}\n",
       "\n",
       "#sk-container-id-1 label.sk-toggleable__label-arrow:before {\n",
       "  /* Arrow on the left of the label */\n",
       "  content: \"▸\";\n",
       "  float: left;\n",
       "  margin-right: 0.25em;\n",
       "  color: var(--sklearn-color-icon);\n",
       "}\n",
       "\n",
       "#sk-container-id-1 label.sk-toggleable__label-arrow:hover:before {\n",
       "  color: var(--sklearn-color-text);\n",
       "}\n",
       "\n",
       "/* Toggleable content - dropdown */\n",
       "\n",
       "#sk-container-id-1 div.sk-toggleable__content {\n",
       "  max-height: 0;\n",
       "  max-width: 0;\n",
       "  overflow: hidden;\n",
       "  text-align: left;\n",
       "  /* unfitted */\n",
       "  background-color: var(--sklearn-color-unfitted-level-0);\n",
       "}\n",
       "\n",
       "#sk-container-id-1 div.sk-toggleable__content.fitted {\n",
       "  /* fitted */\n",
       "  background-color: var(--sklearn-color-fitted-level-0);\n",
       "}\n",
       "\n",
       "#sk-container-id-1 div.sk-toggleable__content pre {\n",
       "  margin: 0.2em;\n",
       "  border-radius: 0.25em;\n",
       "  color: var(--sklearn-color-text);\n",
       "  /* unfitted */\n",
       "  background-color: var(--sklearn-color-unfitted-level-0);\n",
       "}\n",
       "\n",
       "#sk-container-id-1 div.sk-toggleable__content.fitted pre {\n",
       "  /* unfitted */\n",
       "  background-color: var(--sklearn-color-fitted-level-0);\n",
       "}\n",
       "\n",
       "#sk-container-id-1 input.sk-toggleable__control:checked~div.sk-toggleable__content {\n",
       "  /* Expand drop-down */\n",
       "  max-height: 200px;\n",
       "  max-width: 100%;\n",
       "  overflow: auto;\n",
       "}\n",
       "\n",
       "#sk-container-id-1 input.sk-toggleable__control:checked~label.sk-toggleable__label-arrow:before {\n",
       "  content: \"▾\";\n",
       "}\n",
       "\n",
       "/* Pipeline/ColumnTransformer-specific style */\n",
       "\n",
       "#sk-container-id-1 div.sk-label input.sk-toggleable__control:checked~label.sk-toggleable__label {\n",
       "  color: var(--sklearn-color-text);\n",
       "  background-color: var(--sklearn-color-unfitted-level-2);\n",
       "}\n",
       "\n",
       "#sk-container-id-1 div.sk-label.fitted input.sk-toggleable__control:checked~label.sk-toggleable__label {\n",
       "  background-color: var(--sklearn-color-fitted-level-2);\n",
       "}\n",
       "\n",
       "/* Estimator-specific style */\n",
       "\n",
       "/* Colorize estimator box */\n",
       "#sk-container-id-1 div.sk-estimator input.sk-toggleable__control:checked~label.sk-toggleable__label {\n",
       "  /* unfitted */\n",
       "  background-color: var(--sklearn-color-unfitted-level-2);\n",
       "}\n",
       "\n",
       "#sk-container-id-1 div.sk-estimator.fitted input.sk-toggleable__control:checked~label.sk-toggleable__label {\n",
       "  /* fitted */\n",
       "  background-color: var(--sklearn-color-fitted-level-2);\n",
       "}\n",
       "\n",
       "#sk-container-id-1 div.sk-label label.sk-toggleable__label,\n",
       "#sk-container-id-1 div.sk-label label {\n",
       "  /* The background is the default theme color */\n",
       "  color: var(--sklearn-color-text-on-default-background);\n",
       "}\n",
       "\n",
       "/* On hover, darken the color of the background */\n",
       "#sk-container-id-1 div.sk-label:hover label.sk-toggleable__label {\n",
       "  color: var(--sklearn-color-text);\n",
       "  background-color: var(--sklearn-color-unfitted-level-2);\n",
       "}\n",
       "\n",
       "/* Label box, darken color on hover, fitted */\n",
       "#sk-container-id-1 div.sk-label.fitted:hover label.sk-toggleable__label.fitted {\n",
       "  color: var(--sklearn-color-text);\n",
       "  background-color: var(--sklearn-color-fitted-level-2);\n",
       "}\n",
       "\n",
       "/* Estimator label */\n",
       "\n",
       "#sk-container-id-1 div.sk-label label {\n",
       "  font-family: monospace;\n",
       "  font-weight: bold;\n",
       "  display: inline-block;\n",
       "  line-height: 1.2em;\n",
       "}\n",
       "\n",
       "#sk-container-id-1 div.sk-label-container {\n",
       "  text-align: center;\n",
       "}\n",
       "\n",
       "/* Estimator-specific */\n",
       "#sk-container-id-1 div.sk-estimator {\n",
       "  font-family: monospace;\n",
       "  border: 1px dotted var(--sklearn-color-border-box);\n",
       "  border-radius: 0.25em;\n",
       "  box-sizing: border-box;\n",
       "  margin-bottom: 0.5em;\n",
       "  /* unfitted */\n",
       "  background-color: var(--sklearn-color-unfitted-level-0);\n",
       "}\n",
       "\n",
       "#sk-container-id-1 div.sk-estimator.fitted {\n",
       "  /* fitted */\n",
       "  background-color: var(--sklearn-color-fitted-level-0);\n",
       "}\n",
       "\n",
       "/* on hover */\n",
       "#sk-container-id-1 div.sk-estimator:hover {\n",
       "  /* unfitted */\n",
       "  background-color: var(--sklearn-color-unfitted-level-2);\n",
       "}\n",
       "\n",
       "#sk-container-id-1 div.sk-estimator.fitted:hover {\n",
       "  /* fitted */\n",
       "  background-color: var(--sklearn-color-fitted-level-2);\n",
       "}\n",
       "\n",
       "/* Specification for estimator info (e.g. \"i\" and \"?\") */\n",
       "\n",
       "/* Common style for \"i\" and \"?\" */\n",
       "\n",
       ".sk-estimator-doc-link,\n",
       "a:link.sk-estimator-doc-link,\n",
       "a:visited.sk-estimator-doc-link {\n",
       "  float: right;\n",
       "  font-size: smaller;\n",
       "  line-height: 1em;\n",
       "  font-family: monospace;\n",
       "  background-color: var(--sklearn-color-background);\n",
       "  border-radius: 1em;\n",
       "  height: 1em;\n",
       "  width: 1em;\n",
       "  text-decoration: none !important;\n",
       "  margin-left: 1ex;\n",
       "  /* unfitted */\n",
       "  border: var(--sklearn-color-unfitted-level-1) 1pt solid;\n",
       "  color: var(--sklearn-color-unfitted-level-1);\n",
       "}\n",
       "\n",
       ".sk-estimator-doc-link.fitted,\n",
       "a:link.sk-estimator-doc-link.fitted,\n",
       "a:visited.sk-estimator-doc-link.fitted {\n",
       "  /* fitted */\n",
       "  border: var(--sklearn-color-fitted-level-1) 1pt solid;\n",
       "  color: var(--sklearn-color-fitted-level-1);\n",
       "}\n",
       "\n",
       "/* On hover */\n",
       "div.sk-estimator:hover .sk-estimator-doc-link:hover,\n",
       ".sk-estimator-doc-link:hover,\n",
       "div.sk-label-container:hover .sk-estimator-doc-link:hover,\n",
       ".sk-estimator-doc-link:hover {\n",
       "  /* unfitted */\n",
       "  background-color: var(--sklearn-color-unfitted-level-3);\n",
       "  color: var(--sklearn-color-background);\n",
       "  text-decoration: none;\n",
       "}\n",
       "\n",
       "div.sk-estimator.fitted:hover .sk-estimator-doc-link.fitted:hover,\n",
       ".sk-estimator-doc-link.fitted:hover,\n",
       "div.sk-label-container:hover .sk-estimator-doc-link.fitted:hover,\n",
       ".sk-estimator-doc-link.fitted:hover {\n",
       "  /* fitted */\n",
       "  background-color: var(--sklearn-color-fitted-level-3);\n",
       "  color: var(--sklearn-color-background);\n",
       "  text-decoration: none;\n",
       "}\n",
       "\n",
       "/* Span, style for the box shown on hovering the info icon */\n",
       ".sk-estimator-doc-link span {\n",
       "  display: none;\n",
       "  z-index: 9999;\n",
       "  position: relative;\n",
       "  font-weight: normal;\n",
       "  right: .2ex;\n",
       "  padding: .5ex;\n",
       "  margin: .5ex;\n",
       "  width: min-content;\n",
       "  min-width: 20ex;\n",
       "  max-width: 50ex;\n",
       "  color: var(--sklearn-color-text);\n",
       "  box-shadow: 2pt 2pt 4pt #999;\n",
       "  /* unfitted */\n",
       "  background: var(--sklearn-color-unfitted-level-0);\n",
       "  border: .5pt solid var(--sklearn-color-unfitted-level-3);\n",
       "}\n",
       "\n",
       ".sk-estimator-doc-link.fitted span {\n",
       "  /* fitted */\n",
       "  background: var(--sklearn-color-fitted-level-0);\n",
       "  border: var(--sklearn-color-fitted-level-3);\n",
       "}\n",
       "\n",
       ".sk-estimator-doc-link:hover span {\n",
       "  display: block;\n",
       "}\n",
       "\n",
       "/* \"?\"-specific style due to the `<a>` HTML tag */\n",
       "\n",
       "#sk-container-id-1 a.estimator_doc_link {\n",
       "  float: right;\n",
       "  font-size: 1rem;\n",
       "  line-height: 1em;\n",
       "  font-family: monospace;\n",
       "  background-color: var(--sklearn-color-background);\n",
       "  border-radius: 1rem;\n",
       "  height: 1rem;\n",
       "  width: 1rem;\n",
       "  text-decoration: none;\n",
       "  /* unfitted */\n",
       "  color: var(--sklearn-color-unfitted-level-1);\n",
       "  border: var(--sklearn-color-unfitted-level-1) 1pt solid;\n",
       "}\n",
       "\n",
       "#sk-container-id-1 a.estimator_doc_link.fitted {\n",
       "  /* fitted */\n",
       "  border: var(--sklearn-color-fitted-level-1) 1pt solid;\n",
       "  color: var(--sklearn-color-fitted-level-1);\n",
       "}\n",
       "\n",
       "/* On hover */\n",
       "#sk-container-id-1 a.estimator_doc_link:hover {\n",
       "  /* unfitted */\n",
       "  background-color: var(--sklearn-color-unfitted-level-3);\n",
       "  color: var(--sklearn-color-background);\n",
       "  text-decoration: none;\n",
       "}\n",
       "\n",
       "#sk-container-id-1 a.estimator_doc_link.fitted:hover {\n",
       "  /* fitted */\n",
       "  background-color: var(--sklearn-color-fitted-level-3);\n",
       "}\n",
       "</style><div id=\"sk-container-id-1\" class=\"sk-top-container\"><div class=\"sk-text-repr-fallback\"><pre>DecisionTreeClassifier(max_depth=2)</pre><b>In a Jupyter environment, please rerun this cell to show the HTML representation or trust the notebook. <br />On GitHub, the HTML representation is unable to render, please try loading this page with nbviewer.org.</b></div><div class=\"sk-container\" hidden><div class=\"sk-item\"><div class=\"sk-estimator fitted sk-toggleable\"><input class=\"sk-toggleable__control sk-hidden--visually\" id=\"sk-estimator-id-1\" type=\"checkbox\" checked><label for=\"sk-estimator-id-1\" class=\"sk-toggleable__label fitted sk-toggleable__label-arrow fitted\">&nbsp;&nbsp;DecisionTreeClassifier<a class=\"sk-estimator-doc-link fitted\" rel=\"noreferrer\" target=\"_blank\" href=\"https://scikit-learn.org/1.5/modules/generated/sklearn.tree.DecisionTreeClassifier.html\">?<span>Documentation for DecisionTreeClassifier</span></a><span class=\"sk-estimator-doc-link fitted\">i<span>Fitted</span></span></label><div class=\"sk-toggleable__content fitted\"><pre>DecisionTreeClassifier(max_depth=2)</pre></div> </div></div></div></div>"
      ],
      "text/plain": [
       "DecisionTreeClassifier(max_depth=2)"
      ]
     },
     "execution_count": 24,
     "metadata": {},
     "output_type": "execute_result"
    }
   ],
   "source": [
    "model_dt.fit(X, y)"
   ]
  }
 ],
 "metadata": {
  "kernelspec": {
   "display_name": "Python 3",
   "language": "python",
   "name": "python3"
  },
  "language_info": {
   "codemirror_mode": {
    "name": "ipython",
    "version": 3
   },
   "file_extension": ".py",
   "mimetype": "text/x-python",
   "name": "python",
   "nbconvert_exporter": "python",
   "pygments_lexer": "ipython3",
   "version": "3.10.10"
  }
 },
 "nbformat": 4,
 "nbformat_minor": 2
}
